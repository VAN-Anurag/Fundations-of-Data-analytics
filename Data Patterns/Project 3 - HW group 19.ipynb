{
 "cells": [
  {
   "cell_type": "markdown",
   "metadata": {},
   "source": [
    "# Project 3 - Homework group 19 Abhinav, Mukul,Vijaya\n"
   ]
  },
  {
   "cell_type": "markdown",
   "metadata": {},
   "source": [
    "## Ensuring correct html export"
   ]
  },
  {
   "cell_type": "code",
   "execution_count": 1,
   "metadata": {},
   "outputs": [
    {
     "data": {
      "text/html": [
       "<style>.container { width:100% !important; }</style>"
      ],
      "text/plain": [
       "<IPython.core.display.HTML object>"
      ]
     },
     "metadata": {},
     "output_type": "display_data"
    }
   ],
   "source": [
    "from IPython.core.display import display, HTML\n",
    "display(HTML(\"<style>.container { width:100% !important; }</style>\"))"
   ]
  },
  {
   "cell_type": "markdown",
   "metadata": {},
   "source": [
    "## Importing Libraries\n"
   ]
  },
  {
   "cell_type": "markdown",
   "metadata": {},
   "source": [
    "### Installing dependencies"
   ]
  },
  {
   "cell_type": "code",
   "execution_count": 2,
   "metadata": {},
   "outputs": [
    {
     "name": "stdout",
     "output_type": "stream",
     "text": [
      "Requirement already satisfied: plotly in c:\\users\\anura\\anaconda3\\lib\\site-packages (5.4.0)\n",
      "Requirement already satisfied: six in c:\\users\\anura\\anaconda3\\lib\\site-packages (from plotly) (1.16.0)\n",
      "Requirement already satisfied: tenacity>=6.2.0 in c:\\users\\anura\\anaconda3\\lib\\site-packages (from plotly) (8.0.1)\n",
      "Note: you may need to restart the kernel to use updated packages.\n"
     ]
    }
   ],
   "source": [
    "pip install plotly\n"
   ]
  },
  {
   "cell_type": "code",
   "execution_count": 3,
   "metadata": {},
   "outputs": [
    {
     "name": "stdout",
     "output_type": "stream",
     "text": [
      "Requirement already satisfied: igraph in c:\\users\\anura\\anaconda3\\lib\\site-packages (0.9.8)\n",
      "Requirement already satisfied: texttable>=1.6.2 in c:\\users\\anura\\anaconda3\\lib\\site-packages (from igraph) (1.6.4)\n",
      "Note: you may need to restart the kernel to use updated packages.\n"
     ]
    }
   ],
   "source": [
    "pip install igraph"
   ]
  },
  {
   "cell_type": "markdown",
   "metadata": {},
   "source": [
    "### Imports"
   ]
  },
  {
   "cell_type": "code",
   "execution_count": 4,
   "metadata": {},
   "outputs": [
    {
     "data": {
      "text/html": [
       "        <script type=\"text/javascript\">\n",
       "        window.PlotlyConfig = {MathJaxConfig: 'local'};\n",
       "        if (window.MathJax) {MathJax.Hub.Config({SVG: {font: \"STIX-Web\"}});}\n",
       "        if (typeof require !== 'undefined') {\n",
       "        require.undef(\"plotly\");\n",
       "        requirejs.config({\n",
       "            paths: {\n",
       "                'plotly': ['https://cdn.plot.ly/plotly-2.6.3.min']\n",
       "            }\n",
       "        });\n",
       "        require(['plotly'], function(Plotly) {\n",
       "            window._Plotly = Plotly;\n",
       "        });\n",
       "        }\n",
       "        </script>\n",
       "        "
      ]
     },
     "metadata": {},
     "output_type": "display_data"
    }
   ],
   "source": [
    "import pandas as pd\n",
    "import numpy as np\n",
    "\n",
    "\n",
    "from ts2vg import NaturalVG\n",
    "from ts2vg import HorizontalVG\n",
    "\n",
    "\n",
    "\n",
    "import plotly.offline as py\n",
    "from plotly.offline import iplot\n",
    "from plotly.graph_objs import Scatter\n",
    "py.init_notebook_mode(connected=True)\n",
    "import plotly.graph_objects as go\n",
    "from plotly.subplots import make_subplots\n",
    "import igraph"
   ]
  },
  {
   "cell_type": "markdown",
   "metadata": {},
   "source": [
    "## Problem 1"
   ]
  },
  {
   "cell_type": "markdown",
   "metadata": {},
   "source": [
    "## Calculating and creating dataframe for data of all subjects"
   ]
  },
  {
   "cell_type": "markdown",
   "metadata": {},
   "source": [
    "> We are assuming that the datasets for all subjects are stored in the **current directory of notebook**, in a folder named **FDAE Datasets** , in the format **walking_subject_1**. **Here walking represents the type of actiivity** and **subject 1 represents the subject number**."
   ]
  },
  {
   "cell_type": "code",
   "execution_count": 5,
   "metadata": {},
   "outputs": [],
   "source": [
    "datasets_location = %pwd\n",
    "datasets_folder_name = \"/FDAE Datasets/\""
   ]
  },
  {
   "cell_type": "markdown",
   "metadata": {},
   "source": [
    "## Tasks 1.1 - 1.4 (Calculating HVG, NVG, and relevant parameters for all subjects)"
   ]
  },
  {
   "cell_type": "markdown",
   "metadata": {},
   "source": [
    "> Helper function to **import data for all subjects and calculate relevant parameters**"
   ]
  },
  {
   "cell_type": "code",
   "execution_count": 6,
   "metadata": {},
   "outputs": [],
   "source": [
    "\n",
    "# Name of relevant columns in final dataframe\n",
    "columns=['Method','Subject','Accelerometer_Axis','Average_Degree','Network_Diameter','Average_Path_Length','Activity']\n",
    "\n",
    "# Dataframe constructed from data\n",
    "df = pd.DataFrame()\n",
    "\n",
    "# Path to read files from\n",
    "path = datasets_location + datasets_folder_name\n",
    "\n",
    "def read_file(subject_num):\n",
    "    # Read files\n",
    "    walking_data = pd.read_csv(path+'/walking_subject{0}.csv'.format(subject_num))\n",
    "    running_data = pd.read_csv(path+'/running_subject{0}.csv'.format(subject_num))\n",
    "    climbingup_data = pd.read_csv(path+'/climbingup_subject{0}.csv'.format(subject_num))\n",
    "    climbingdown_data = pd.read_csv(path+'/climbingdown_subject{0}.csv'.format(subject_num))\n",
    "    \n",
    "    # Return as tuple of files\n",
    "    return walking_data, running_data, climbingup_data, climbingdown_data\n",
    "\n",
    "\n",
    "def get_Graph_Values(data, axis, type_of_graph):\n",
    "    \n",
    "    # Build graph according to type\n",
    "    if type_of_graph =='NVG':\n",
    "        g = NaturalVG()\n",
    "    else:\n",
    "        g = HorizontalVG()\n",
    "    \n",
    "    # Build graph according to type and axis\n",
    "    # Sampling data from 1000 - 2024\n",
    "    g.build(data[axis][1000:2024])\n",
    "    ig_g = g.as_igraph()\n",
    "    \n",
    "    # Calculate necessary values\n",
    "    avg_deg, net_dia, avg_path = np.mean(ig_g.degree()), ig_g.diameter(), ig_g.average_path_length()\n",
    "    \n",
    "    # Return as tuple\n",
    "    return avg_deg, net_dia, avg_path\n",
    "\n",
    "\n",
    "def Prepare_Table(list_of_subjects):\n",
    "    # Referencing the global variable declared above\n",
    "    global df\n",
    "    \n",
    "    # Creating a list of data\n",
    "    main_list = []\n",
    "    for subject_num in list_of_subjects:\n",
    "        \n",
    "        ## Import data file\n",
    "        walking_data, running_data, climbingup_data, climbingdown_data = read_file(subject_num)\n",
    "        #display(walking_data)\n",
    "        \n",
    "        ## Activity\n",
    "        for type_of_data in ['walking','running','climbing_up','climbing_down']:\n",
    "            \n",
    "            # Copy data for a particular subject, activity type\n",
    "            if type_of_data=='walking':\n",
    "                data = walking_data.copy()\n",
    "            elif type_of_data=='running':\n",
    "                data = running_data.copy()\n",
    "            elif type_of_data=='climbing_up':\n",
    "                data = climbingup_data.copy()\n",
    "            elif type_of_data=='climbing_down':\n",
    "                data = climbingdown_data.copy()\n",
    "            \n",
    "            ## axis x , y ,z\n",
    "            for type_of_axis in ['x','y','z']:\n",
    "                if type_of_axis == 'x':\n",
    "                    axis = 'attr_x'\n",
    "                elif type_of_axis == 'y':\n",
    "                    axis = 'attr_y'\n",
    "                else:\n",
    "                    axis = 'attr_z'\n",
    "                \n",
    "                ## NVG or HVG\n",
    "                for type_of_graph in ['NVG', 'HVG']:\n",
    "                    avg_deg, net_dia, avg_path = get_Graph_Values(data, axis, type_of_graph)\n",
    "                    # Collect all the created data\n",
    "                    temp_list = [type_of_graph, subject_num, type_of_axis, avg_deg, net_dia, avg_path,type_of_data]\n",
    "                    \n",
    "                    ## append temporary list to main list\n",
    "                    main_list.append(temp_list)\n",
    "                    \n",
    "    ## convert list of lists to dataframe\n",
    "    temp_df = pd.DataFrame(main_list)\n",
    "    \n",
    "    # Add dataframe to main dataframe\n",
    "    df = pd.concat([df, temp_df])\n",
    "    \n",
    "    # Correct columns\n",
    "    df.columns = columns\n",
    "\n",
    "# Subject number array\n",
    "subject_number_array = np.arange(1,16)\n",
    "\n",
    "# Create dataframe with subject number 1- 15\n",
    "Prepare_Table(subject_number_array)"
   ]
  },
  {
   "cell_type": "markdown",
   "metadata": {},
   "source": [
    "> After the above calculations, **data for all subjects is in one final dataframe**, Some of the data is shown below:"
   ]
  },
  {
   "cell_type": "code",
   "execution_count": 7,
   "metadata": {},
   "outputs": [
    {
     "data": {
      "text/html": [
       "<div>\n",
       "<style scoped>\n",
       "    .dataframe tbody tr th:only-of-type {\n",
       "        vertical-align: middle;\n",
       "    }\n",
       "\n",
       "    .dataframe tbody tr th {\n",
       "        vertical-align: top;\n",
       "    }\n",
       "\n",
       "    .dataframe thead th {\n",
       "        text-align: right;\n",
       "    }\n",
       "</style>\n",
       "<table border=\"1\" class=\"dataframe\">\n",
       "  <thead>\n",
       "    <tr style=\"text-align: right;\">\n",
       "      <th></th>\n",
       "      <th>Method</th>\n",
       "      <th>Subject</th>\n",
       "      <th>Accelerometer_Axis</th>\n",
       "      <th>Average_Degree</th>\n",
       "      <th>Network_Diameter</th>\n",
       "      <th>Average_Path_Length</th>\n",
       "      <th>Activity</th>\n",
       "    </tr>\n",
       "  </thead>\n",
       "  <tbody>\n",
       "    <tr>\n",
       "      <th>0</th>\n",
       "      <td>NVG</td>\n",
       "      <td>1</td>\n",
       "      <td>x</td>\n",
       "      <td>11.451172</td>\n",
       "      <td>10</td>\n",
       "      <td>4.441492</td>\n",
       "      <td>walking</td>\n",
       "    </tr>\n",
       "    <tr>\n",
       "      <th>1</th>\n",
       "      <td>HVG</td>\n",
       "      <td>1</td>\n",
       "      <td>x</td>\n",
       "      <td>3.958984</td>\n",
       "      <td>26</td>\n",
       "      <td>11.578024</td>\n",
       "      <td>walking</td>\n",
       "    </tr>\n",
       "    <tr>\n",
       "      <th>2</th>\n",
       "      <td>NVG</td>\n",
       "      <td>1</td>\n",
       "      <td>y</td>\n",
       "      <td>11.986328</td>\n",
       "      <td>9</td>\n",
       "      <td>4.241050</td>\n",
       "      <td>walking</td>\n",
       "    </tr>\n",
       "    <tr>\n",
       "      <th>3</th>\n",
       "      <td>HVG</td>\n",
       "      <td>1</td>\n",
       "      <td>y</td>\n",
       "      <td>3.951172</td>\n",
       "      <td>22</td>\n",
       "      <td>10.666252</td>\n",
       "      <td>walking</td>\n",
       "    </tr>\n",
       "    <tr>\n",
       "      <th>4</th>\n",
       "      <td>NVG</td>\n",
       "      <td>1</td>\n",
       "      <td>z</td>\n",
       "      <td>8.570312</td>\n",
       "      <td>10</td>\n",
       "      <td>4.897722</td>\n",
       "      <td>walking</td>\n",
       "    </tr>\n",
       "  </tbody>\n",
       "</table>\n",
       "</div>"
      ],
      "text/plain": [
       "  Method  Subject Accelerometer_Axis  Average_Degree  Network_Diameter  \\\n",
       "0    NVG        1                  x       11.451172                10   \n",
       "1    HVG        1                  x        3.958984                26   \n",
       "2    NVG        1                  y       11.986328                 9   \n",
       "3    HVG        1                  y        3.951172                22   \n",
       "4    NVG        1                  z        8.570312                10   \n",
       "\n",
       "   Average_Path_Length Activity  \n",
       "0             4.441492  walking  \n",
       "1            11.578024  walking  \n",
       "2             4.241050  walking  \n",
       "3            10.666252  walking  \n",
       "4             4.897722  walking  "
      ]
     },
     "execution_count": 7,
     "metadata": {},
     "output_type": "execute_result"
    }
   ],
   "source": [
    "df.head()"
   ]
  },
  {
   "cell_type": "markdown",
   "metadata": {},
   "source": [
    "> To ensure that the **data for all the subjects** is present:"
   ]
  },
  {
   "cell_type": "code",
   "execution_count": 8,
   "metadata": {},
   "outputs": [
    {
     "data": {
      "text/plain": [
       "array([ 1,  2,  3,  4,  5,  6,  7,  8,  9, 10, 11, 12, 13, 14, 15])"
      ]
     },
     "execution_count": 8,
     "metadata": {},
     "output_type": "execute_result"
    }
   ],
   "source": [
    "df.Subject.unique()"
   ]
  },
  {
   "cell_type": "markdown",
   "metadata": {},
   "source": [
    "> To ensure that data for **all activities** is present:"
   ]
  },
  {
   "cell_type": "code",
   "execution_count": 9,
   "metadata": {},
   "outputs": [
    {
     "data": {
      "text/plain": [
       "array(['walking', 'running', 'climbing_up', 'climbing_down'], dtype=object)"
      ]
     },
     "execution_count": 9,
     "metadata": {},
     "output_type": "execute_result"
    }
   ],
   "source": [
    "df.Activity.unique()"
   ]
  },
  {
   "cell_type": "markdown",
   "metadata": {},
   "source": [
    "## Task 1.5 Plotting data - Walking and Running - Average Degree vs Network Diameter"
   ]
  },
  {
   "cell_type": "code",
   "execution_count": 10,
   "metadata": {
    "scrolled": true
   },
   "outputs": [
    {
     "data": {
      "application/vnd.plotly.v1+json": {
       "config": {
        "plotlyServerURL": "https://plot.ly"
       },
       "data": [
        {
         "marker": {
          "color": "blue"
         },
         "mode": "markers",
         "showlegend": false,
         "type": "scatter",
         "x": [
          11.451171875,
          10.84375,
          12.93359375,
          10.388671875,
          9.587890625,
          12.28515625,
          11.03125,
          11.935546875,
          11.78125,
          9.533203125,
          12.5078125,
          13.017578125,
          12.751953125,
          11.4375,
          13.240234375
         ],
         "xaxis": "x",
         "y": [
          10,
          12,
          11,
          11,
          9,
          11,
          13,
          10,
          10,
          11,
          10,
          8,
          12,
          9,
          11
         ],
         "yaxis": "y"
        },
        {
         "marker": {
          "color": "red"
         },
         "mode": "markers",
         "showlegend": false,
         "type": "scatter",
         "x": [
          8.4140625,
          9.69921875,
          9.875,
          9.513671875,
          7.873046875,
          9.9765625,
          10.939453125,
          9.08984375,
          8.453125,
          8.13671875,
          9.326171875,
          8.927734375,
          10.14453125,
          8.09375,
          8.27734375
         ],
         "xaxis": "x",
         "y": [
          9,
          11,
          10,
          9,
          9,
          14,
          11,
          9,
          11,
          13,
          9,
          8,
          10,
          13,
          9
         ],
         "yaxis": "y"
        },
        {
         "marker": {
          "color": "blue"
         },
         "mode": "markers",
         "showlegend": false,
         "type": "scatter",
         "x": [
          3.958984375,
          3.943359375,
          3.955078125,
          3.9609375,
          3.9609375,
          3.953125,
          3.94921875,
          3.97265625,
          3.958984375,
          3.939453125,
          3.966796875,
          3.96484375,
          3.931640625,
          3.97265625,
          3.935546875
         ],
         "xaxis": "x2",
         "y": [
          26,
          26,
          27,
          23,
          25,
          25,
          27,
          29,
          23,
          28,
          27,
          24,
          32,
          20,
          34
         ],
         "yaxis": "y2"
        },
        {
         "marker": {
          "color": "red"
         },
         "mode": "markers",
         "showlegend": false,
         "type": "scatter",
         "x": [
          3.962890625,
          3.9609375,
          3.95703125,
          3.97265625,
          3.970703125,
          3.95703125,
          3.970703125,
          3.828125,
          3.97265625,
          3.958984375,
          3.978515625,
          3.984375,
          3.962890625,
          3.9609375,
          3.96484375
         ],
         "xaxis": "x2",
         "y": [
          22,
          21,
          21,
          21,
          20,
          27,
          21,
          32,
          22,
          27,
          22,
          19,
          26,
          22,
          20
         ],
         "yaxis": "y2"
        },
        {
         "marker": {
          "color": "blue"
         },
         "mode": "markers",
         "showlegend": false,
         "type": "scatter",
         "x": [
          11.986328125,
          14.85546875,
          17.685546875,
          15.791015625,
          11.39453125,
          14.615234375,
          11.384765625,
          12.666015625,
          13.794921875,
          12.513671875,
          14.505859375,
          13.12890625,
          12.38671875,
          12.267578125,
          13.03125
         ],
         "xaxis": "x3",
         "y": [
          9,
          11,
          9,
          9,
          10,
          10,
          8,
          9,
          13,
          11,
          9,
          9,
          11,
          13,
          12
         ],
         "yaxis": "y3"
        },
        {
         "marker": {
          "color": "red"
         },
         "mode": "markers",
         "showlegend": false,
         "type": "scatter",
         "x": [
          11.13671875,
          9.51171875,
          9.56640625,
          9.38671875,
          8.517578125,
          10.5703125,
          12.662109375,
          10.880859375,
          9.09765625,
          9.08984375,
          10.349609375,
          9.119140625,
          11.203125,
          9.4453125,
          9.763671875
         ],
         "xaxis": "x3",
         "y": [
          82,
          253,
          265,
          236,
          94,
          128,
          169,
          8,
          224,
          177,
          53,
          234,
          148,
          174,
          168
         ],
         "yaxis": "y3"
        },
        {
         "marker": {
          "color": "blue"
         },
         "mode": "markers",
         "showlegend": false,
         "type": "scatter",
         "x": [
          3.951171875,
          3.9453125,
          3.962890625,
          3.95703125,
          3.947265625,
          3.947265625,
          3.970703125,
          3.97265625,
          3.9453125,
          3.95703125,
          3.955078125,
          3.96875,
          3.953125,
          3.94140625,
          3.958984375
         ],
         "xaxis": "x4",
         "y": [
          22,
          33,
          30,
          28,
          25,
          33,
          22,
          30,
          30,
          31,
          32,
          32,
          32,
          32,
          31
         ],
         "yaxis": "y4"
        },
        {
         "marker": {
          "color": "red"
         },
         "mode": "markers",
         "showlegend": false,
         "type": "scatter",
         "x": [
          3.8359375,
          3.4921875,
          3.466796875,
          3.5234375,
          3.81640625,
          3.740234375,
          3.65625,
          3.95703125,
          3.552734375,
          3.638671875,
          3.873046875,
          3.5390625,
          3.693359375,
          3.6484375,
          3.662109375
         ],
         "xaxis": "x4",
         "y": [
          90,
          259,
          275,
          245,
          97,
          136,
          175,
          25,
          233,
          185,
          63,
          240,
          155,
          178,
          170
         ],
         "yaxis": "y4"
        },
        {
         "marker": {
          "color": "blue"
         },
         "mode": "markers",
         "showlegend": false,
         "type": "scatter",
         "x": [
          8.5703125,
          9.08984375,
          8.498046875,
          8.38671875,
          7.23828125,
          10.083984375,
          7.44140625,
          11.10546875,
          8.822265625,
          7.193359375,
          9.697265625,
          9.75390625,
          9.42578125,
          9.126953125,
          9.318359375
         ],
         "xaxis": "x5",
         "y": [
          10,
          11,
          13,
          10,
          9,
          14,
          10,
          10,
          10,
          13,
          12,
          9,
          10,
          11,
          12
         ],
         "yaxis": "y5"
        },
        {
         "marker": {
          "color": "red"
         },
         "mode": "markers",
         "showlegend": false,
         "type": "scatter",
         "x": [
          8.318359375,
          6.6015625,
          6.91796875,
          6.41796875,
          7.078125,
          8.814453125,
          7.81640625,
          7.404296875,
          7.732421875,
          6.75,
          9.41796875,
          6.3671875,
          7.005859375,
          7.458984375,
          8.017578125
         ],
         "xaxis": "x5",
         "y": [
          11,
          11,
          8,
          11,
          9,
          13,
          18,
          8,
          9,
          11,
          8,
          11,
          12,
          11,
          9
         ],
         "yaxis": "y5"
        },
        {
         "marker": {
          "color": "blue"
         },
         "mode": "markers",
         "name": "Walking",
         "type": "scatter",
         "x": [
          3.95703125,
          3.947265625,
          3.943359375,
          3.951171875,
          3.966796875,
          3.951171875,
          3.97265625,
          3.9453125,
          3.953125,
          3.955078125,
          3.9453125,
          3.958984375,
          3.95703125,
          3.947265625,
          3.931640625
         ],
         "xaxis": "x6",
         "y": [
          23,
          25,
          25,
          22,
          23,
          31,
          17,
          28,
          23,
          21,
          30,
          19,
          29,
          29,
          30
         ],
         "yaxis": "y6"
        },
        {
         "marker": {
          "color": "red"
         },
         "mode": "markers",
         "name": "Running",
         "type": "scatter",
         "x": [
          3.96484375,
          3.970703125,
          3.982421875,
          3.95703125,
          3.96875,
          3.94921875,
          3.953125,
          3.95703125,
          3.9765625,
          3.98046875,
          3.966796875,
          3.974609375,
          3.958984375,
          3.962890625,
          3.974609375
         ],
         "xaxis": "x6",
         "y": [
          19,
          20,
          16,
          20,
          19,
          30,
          25,
          23,
          18,
          19,
          18,
          18,
          21,
          24,
          20
         ],
         "yaxis": "y6"
        }
       ],
       "layout": {
        "template": {
         "data": {
          "bar": [
           {
            "error_x": {
             "color": "#2a3f5f"
            },
            "error_y": {
             "color": "#2a3f5f"
            },
            "marker": {
             "line": {
              "color": "#E5ECF6",
              "width": 0.5
             },
             "pattern": {
              "fillmode": "overlay",
              "size": 10,
              "solidity": 0.2
             }
            },
            "type": "bar"
           }
          ],
          "barpolar": [
           {
            "marker": {
             "line": {
              "color": "#E5ECF6",
              "width": 0.5
             },
             "pattern": {
              "fillmode": "overlay",
              "size": 10,
              "solidity": 0.2
             }
            },
            "type": "barpolar"
           }
          ],
          "carpet": [
           {
            "aaxis": {
             "endlinecolor": "#2a3f5f",
             "gridcolor": "white",
             "linecolor": "white",
             "minorgridcolor": "white",
             "startlinecolor": "#2a3f5f"
            },
            "baxis": {
             "endlinecolor": "#2a3f5f",
             "gridcolor": "white",
             "linecolor": "white",
             "minorgridcolor": "white",
             "startlinecolor": "#2a3f5f"
            },
            "type": "carpet"
           }
          ],
          "choropleth": [
           {
            "colorbar": {
             "outlinewidth": 0,
             "ticks": ""
            },
            "type": "choropleth"
           }
          ],
          "contour": [
           {
            "colorbar": {
             "outlinewidth": 0,
             "ticks": ""
            },
            "colorscale": [
             [
              0,
              "#0d0887"
             ],
             [
              0.1111111111111111,
              "#46039f"
             ],
             [
              0.2222222222222222,
              "#7201a8"
             ],
             [
              0.3333333333333333,
              "#9c179e"
             ],
             [
              0.4444444444444444,
              "#bd3786"
             ],
             [
              0.5555555555555556,
              "#d8576b"
             ],
             [
              0.6666666666666666,
              "#ed7953"
             ],
             [
              0.7777777777777778,
              "#fb9f3a"
             ],
             [
              0.8888888888888888,
              "#fdca26"
             ],
             [
              1,
              "#f0f921"
             ]
            ],
            "type": "contour"
           }
          ],
          "contourcarpet": [
           {
            "colorbar": {
             "outlinewidth": 0,
             "ticks": ""
            },
            "type": "contourcarpet"
           }
          ],
          "heatmap": [
           {
            "colorbar": {
             "outlinewidth": 0,
             "ticks": ""
            },
            "colorscale": [
             [
              0,
              "#0d0887"
             ],
             [
              0.1111111111111111,
              "#46039f"
             ],
             [
              0.2222222222222222,
              "#7201a8"
             ],
             [
              0.3333333333333333,
              "#9c179e"
             ],
             [
              0.4444444444444444,
              "#bd3786"
             ],
             [
              0.5555555555555556,
              "#d8576b"
             ],
             [
              0.6666666666666666,
              "#ed7953"
             ],
             [
              0.7777777777777778,
              "#fb9f3a"
             ],
             [
              0.8888888888888888,
              "#fdca26"
             ],
             [
              1,
              "#f0f921"
             ]
            ],
            "type": "heatmap"
           }
          ],
          "heatmapgl": [
           {
            "colorbar": {
             "outlinewidth": 0,
             "ticks": ""
            },
            "colorscale": [
             [
              0,
              "#0d0887"
             ],
             [
              0.1111111111111111,
              "#46039f"
             ],
             [
              0.2222222222222222,
              "#7201a8"
             ],
             [
              0.3333333333333333,
              "#9c179e"
             ],
             [
              0.4444444444444444,
              "#bd3786"
             ],
             [
              0.5555555555555556,
              "#d8576b"
             ],
             [
              0.6666666666666666,
              "#ed7953"
             ],
             [
              0.7777777777777778,
              "#fb9f3a"
             ],
             [
              0.8888888888888888,
              "#fdca26"
             ],
             [
              1,
              "#f0f921"
             ]
            ],
            "type": "heatmapgl"
           }
          ],
          "histogram": [
           {
            "marker": {
             "pattern": {
              "fillmode": "overlay",
              "size": 10,
              "solidity": 0.2
             }
            },
            "type": "histogram"
           }
          ],
          "histogram2d": [
           {
            "colorbar": {
             "outlinewidth": 0,
             "ticks": ""
            },
            "colorscale": [
             [
              0,
              "#0d0887"
             ],
             [
              0.1111111111111111,
              "#46039f"
             ],
             [
              0.2222222222222222,
              "#7201a8"
             ],
             [
              0.3333333333333333,
              "#9c179e"
             ],
             [
              0.4444444444444444,
              "#bd3786"
             ],
             [
              0.5555555555555556,
              "#d8576b"
             ],
             [
              0.6666666666666666,
              "#ed7953"
             ],
             [
              0.7777777777777778,
              "#fb9f3a"
             ],
             [
              0.8888888888888888,
              "#fdca26"
             ],
             [
              1,
              "#f0f921"
             ]
            ],
            "type": "histogram2d"
           }
          ],
          "histogram2dcontour": [
           {
            "colorbar": {
             "outlinewidth": 0,
             "ticks": ""
            },
            "colorscale": [
             [
              0,
              "#0d0887"
             ],
             [
              0.1111111111111111,
              "#46039f"
             ],
             [
              0.2222222222222222,
              "#7201a8"
             ],
             [
              0.3333333333333333,
              "#9c179e"
             ],
             [
              0.4444444444444444,
              "#bd3786"
             ],
             [
              0.5555555555555556,
              "#d8576b"
             ],
             [
              0.6666666666666666,
              "#ed7953"
             ],
             [
              0.7777777777777778,
              "#fb9f3a"
             ],
             [
              0.8888888888888888,
              "#fdca26"
             ],
             [
              1,
              "#f0f921"
             ]
            ],
            "type": "histogram2dcontour"
           }
          ],
          "mesh3d": [
           {
            "colorbar": {
             "outlinewidth": 0,
             "ticks": ""
            },
            "type": "mesh3d"
           }
          ],
          "parcoords": [
           {
            "line": {
             "colorbar": {
              "outlinewidth": 0,
              "ticks": ""
             }
            },
            "type": "parcoords"
           }
          ],
          "pie": [
           {
            "automargin": true,
            "type": "pie"
           }
          ],
          "scatter": [
           {
            "marker": {
             "colorbar": {
              "outlinewidth": 0,
              "ticks": ""
             }
            },
            "type": "scatter"
           }
          ],
          "scatter3d": [
           {
            "line": {
             "colorbar": {
              "outlinewidth": 0,
              "ticks": ""
             }
            },
            "marker": {
             "colorbar": {
              "outlinewidth": 0,
              "ticks": ""
             }
            },
            "type": "scatter3d"
           }
          ],
          "scattercarpet": [
           {
            "marker": {
             "colorbar": {
              "outlinewidth": 0,
              "ticks": ""
             }
            },
            "type": "scattercarpet"
           }
          ],
          "scattergeo": [
           {
            "marker": {
             "colorbar": {
              "outlinewidth": 0,
              "ticks": ""
             }
            },
            "type": "scattergeo"
           }
          ],
          "scattergl": [
           {
            "marker": {
             "colorbar": {
              "outlinewidth": 0,
              "ticks": ""
             }
            },
            "type": "scattergl"
           }
          ],
          "scattermapbox": [
           {
            "marker": {
             "colorbar": {
              "outlinewidth": 0,
              "ticks": ""
             }
            },
            "type": "scattermapbox"
           }
          ],
          "scatterpolar": [
           {
            "marker": {
             "colorbar": {
              "outlinewidth": 0,
              "ticks": ""
             }
            },
            "type": "scatterpolar"
           }
          ],
          "scatterpolargl": [
           {
            "marker": {
             "colorbar": {
              "outlinewidth": 0,
              "ticks": ""
             }
            },
            "type": "scatterpolargl"
           }
          ],
          "scatterternary": [
           {
            "marker": {
             "colorbar": {
              "outlinewidth": 0,
              "ticks": ""
             }
            },
            "type": "scatterternary"
           }
          ],
          "surface": [
           {
            "colorbar": {
             "outlinewidth": 0,
             "ticks": ""
            },
            "colorscale": [
             [
              0,
              "#0d0887"
             ],
             [
              0.1111111111111111,
              "#46039f"
             ],
             [
              0.2222222222222222,
              "#7201a8"
             ],
             [
              0.3333333333333333,
              "#9c179e"
             ],
             [
              0.4444444444444444,
              "#bd3786"
             ],
             [
              0.5555555555555556,
              "#d8576b"
             ],
             [
              0.6666666666666666,
              "#ed7953"
             ],
             [
              0.7777777777777778,
              "#fb9f3a"
             ],
             [
              0.8888888888888888,
              "#fdca26"
             ],
             [
              1,
              "#f0f921"
             ]
            ],
            "type": "surface"
           }
          ],
          "table": [
           {
            "cells": {
             "fill": {
              "color": "#EBF0F8"
             },
             "line": {
              "color": "white"
             }
            },
            "header": {
             "fill": {
              "color": "#C8D4E3"
             },
             "line": {
              "color": "white"
             }
            },
            "type": "table"
           }
          ]
         },
         "layout": {
          "annotationdefaults": {
           "arrowcolor": "#2a3f5f",
           "arrowhead": 0,
           "arrowwidth": 1
          },
          "autotypenumbers": "strict",
          "coloraxis": {
           "colorbar": {
            "outlinewidth": 0,
            "ticks": ""
           }
          },
          "colorscale": {
           "diverging": [
            [
             0,
             "#8e0152"
            ],
            [
             0.1,
             "#c51b7d"
            ],
            [
             0.2,
             "#de77ae"
            ],
            [
             0.3,
             "#f1b6da"
            ],
            [
             0.4,
             "#fde0ef"
            ],
            [
             0.5,
             "#f7f7f7"
            ],
            [
             0.6,
             "#e6f5d0"
            ],
            [
             0.7,
             "#b8e186"
            ],
            [
             0.8,
             "#7fbc41"
            ],
            [
             0.9,
             "#4d9221"
            ],
            [
             1,
             "#276419"
            ]
           ],
           "sequential": [
            [
             0,
             "#0d0887"
            ],
            [
             0.1111111111111111,
             "#46039f"
            ],
            [
             0.2222222222222222,
             "#7201a8"
            ],
            [
             0.3333333333333333,
             "#9c179e"
            ],
            [
             0.4444444444444444,
             "#bd3786"
            ],
            [
             0.5555555555555556,
             "#d8576b"
            ],
            [
             0.6666666666666666,
             "#ed7953"
            ],
            [
             0.7777777777777778,
             "#fb9f3a"
            ],
            [
             0.8888888888888888,
             "#fdca26"
            ],
            [
             1,
             "#f0f921"
            ]
           ],
           "sequentialminus": [
            [
             0,
             "#0d0887"
            ],
            [
             0.1111111111111111,
             "#46039f"
            ],
            [
             0.2222222222222222,
             "#7201a8"
            ],
            [
             0.3333333333333333,
             "#9c179e"
            ],
            [
             0.4444444444444444,
             "#bd3786"
            ],
            [
             0.5555555555555556,
             "#d8576b"
            ],
            [
             0.6666666666666666,
             "#ed7953"
            ],
            [
             0.7777777777777778,
             "#fb9f3a"
            ],
            [
             0.8888888888888888,
             "#fdca26"
            ],
            [
             1,
             "#f0f921"
            ]
           ]
          },
          "colorway": [
           "#636efa",
           "#EF553B",
           "#00cc96",
           "#ab63fa",
           "#FFA15A",
           "#19d3f3",
           "#FF6692",
           "#B6E880",
           "#FF97FF",
           "#FECB52"
          ],
          "font": {
           "color": "#2a3f5f"
          },
          "geo": {
           "bgcolor": "white",
           "lakecolor": "white",
           "landcolor": "#E5ECF6",
           "showlakes": true,
           "showland": true,
           "subunitcolor": "white"
          },
          "hoverlabel": {
           "align": "left"
          },
          "hovermode": "closest",
          "mapbox": {
           "style": "light"
          },
          "paper_bgcolor": "white",
          "plot_bgcolor": "#E5ECF6",
          "polar": {
           "angularaxis": {
            "gridcolor": "white",
            "linecolor": "white",
            "ticks": ""
           },
           "bgcolor": "#E5ECF6",
           "radialaxis": {
            "gridcolor": "white",
            "linecolor": "white",
            "ticks": ""
           }
          },
          "scene": {
           "xaxis": {
            "backgroundcolor": "#E5ECF6",
            "gridcolor": "white",
            "gridwidth": 2,
            "linecolor": "white",
            "showbackground": true,
            "ticks": "",
            "zerolinecolor": "white"
           },
           "yaxis": {
            "backgroundcolor": "#E5ECF6",
            "gridcolor": "white",
            "gridwidth": 2,
            "linecolor": "white",
            "showbackground": true,
            "ticks": "",
            "zerolinecolor": "white"
           },
           "zaxis": {
            "backgroundcolor": "#E5ECF6",
            "gridcolor": "white",
            "gridwidth": 2,
            "linecolor": "white",
            "showbackground": true,
            "ticks": "",
            "zerolinecolor": "white"
           }
          },
          "shapedefaults": {
           "line": {
            "color": "#2a3f5f"
           }
          },
          "ternary": {
           "aaxis": {
            "gridcolor": "white",
            "linecolor": "white",
            "ticks": ""
           },
           "baxis": {
            "gridcolor": "white",
            "linecolor": "white",
            "ticks": ""
           },
           "bgcolor": "#E5ECF6",
           "caxis": {
            "gridcolor": "white",
            "linecolor": "white",
            "ticks": ""
           }
          },
          "title": {
           "x": 0.05
          },
          "xaxis": {
           "automargin": true,
           "gridcolor": "white",
           "linecolor": "white",
           "ticks": "",
           "title": {
            "standoff": 15
           },
           "zerolinecolor": "white",
           "zerolinewidth": 2
          },
          "yaxis": {
           "automargin": true,
           "gridcolor": "white",
           "linecolor": "white",
           "ticks": "",
           "title": {
            "standoff": 15
           },
           "zerolinecolor": "white",
           "zerolinewidth": 2
          }
         }
        },
        "title": {
         "text": "Walking and Running - Average Degree vs Network Diameter(HVG and NVG) along X,Y and Z axis"
        },
        "xaxis": {
         "anchor": "y",
         "domain": [
          0,
          0.45
         ]
        },
        "xaxis2": {
         "anchor": "y2",
         "domain": [
          0.55,
          1
         ]
        },
        "xaxis3": {
         "anchor": "y3",
         "domain": [
          0,
          0.45
         ]
        },
        "xaxis4": {
         "anchor": "y4",
         "domain": [
          0.55,
          1
         ]
        },
        "xaxis5": {
         "anchor": "y5",
         "domain": [
          0,
          0.45
         ],
         "title": {
          "text": "Natural Visibility Graph"
         }
        },
        "xaxis6": {
         "anchor": "y6",
         "domain": [
          0.55,
          1
         ],
         "title": {
          "text": "Horizontal Visibility Graph"
         }
        },
        "yaxis": {
         "anchor": "x",
         "domain": [
          0.7333333333333333,
          1
         ],
         "title": {
          "text": "X Axis"
         }
        },
        "yaxis2": {
         "anchor": "x2",
         "domain": [
          0.7333333333333333,
          1
         ]
        },
        "yaxis3": {
         "anchor": "x3",
         "domain": [
          0.36666666666666664,
          0.6333333333333333
         ],
         "title": {
          "text": "Y Axis"
         }
        },
        "yaxis4": {
         "anchor": "x4",
         "domain": [
          0.36666666666666664,
          0.6333333333333333
         ]
        },
        "yaxis5": {
         "anchor": "x5",
         "domain": [
          0,
          0.26666666666666666
         ],
         "title": {
          "text": "Z Axis"
         }
        },
        "yaxis6": {
         "anchor": "x6",
         "domain": [
          0,
          0.26666666666666666
         ]
        }
       }
      },
      "text/html": [
       "<div>                            <div id=\"d8b26683-9a25-41bd-b893-fca3c255f9b9\" class=\"plotly-graph-div\" style=\"height:525px; width:100%;\"></div>            <script type=\"text/javascript\">                require([\"plotly\"], function(Plotly) {                    window.PLOTLYENV=window.PLOTLYENV || {};                                    if (document.getElementById(\"d8b26683-9a25-41bd-b893-fca3c255f9b9\")) {                    Plotly.newPlot(                        \"d8b26683-9a25-41bd-b893-fca3c255f9b9\",                        [{\"marker\":{\"color\":\"blue\"},\"mode\":\"markers\",\"showlegend\":false,\"x\":[11.451171875,10.84375,12.93359375,10.388671875,9.587890625,12.28515625,11.03125,11.935546875,11.78125,9.533203125,12.5078125,13.017578125,12.751953125,11.4375,13.240234375],\"y\":[10,12,11,11,9,11,13,10,10,11,10,8,12,9,11],\"type\":\"scatter\",\"xaxis\":\"x\",\"yaxis\":\"y\"},{\"marker\":{\"color\":\"red\"},\"mode\":\"markers\",\"showlegend\":false,\"x\":[8.4140625,9.69921875,9.875,9.513671875,7.873046875,9.9765625,10.939453125,9.08984375,8.453125,8.13671875,9.326171875,8.927734375,10.14453125,8.09375,8.27734375],\"y\":[9,11,10,9,9,14,11,9,11,13,9,8,10,13,9],\"type\":\"scatter\",\"xaxis\":\"x\",\"yaxis\":\"y\"},{\"marker\":{\"color\":\"blue\"},\"mode\":\"markers\",\"showlegend\":false,\"x\":[3.958984375,3.943359375,3.955078125,3.9609375,3.9609375,3.953125,3.94921875,3.97265625,3.958984375,3.939453125,3.966796875,3.96484375,3.931640625,3.97265625,3.935546875],\"y\":[26,26,27,23,25,25,27,29,23,28,27,24,32,20,34],\"type\":\"scatter\",\"xaxis\":\"x2\",\"yaxis\":\"y2\"},{\"marker\":{\"color\":\"red\"},\"mode\":\"markers\",\"showlegend\":false,\"x\":[3.962890625,3.9609375,3.95703125,3.97265625,3.970703125,3.95703125,3.970703125,3.828125,3.97265625,3.958984375,3.978515625,3.984375,3.962890625,3.9609375,3.96484375],\"y\":[22,21,21,21,20,27,21,32,22,27,22,19,26,22,20],\"type\":\"scatter\",\"xaxis\":\"x2\",\"yaxis\":\"y2\"},{\"marker\":{\"color\":\"blue\"},\"mode\":\"markers\",\"showlegend\":false,\"x\":[11.986328125,14.85546875,17.685546875,15.791015625,11.39453125,14.615234375,11.384765625,12.666015625,13.794921875,12.513671875,14.505859375,13.12890625,12.38671875,12.267578125,13.03125],\"y\":[9,11,9,9,10,10,8,9,13,11,9,9,11,13,12],\"type\":\"scatter\",\"xaxis\":\"x3\",\"yaxis\":\"y3\"},{\"marker\":{\"color\":\"red\"},\"mode\":\"markers\",\"showlegend\":false,\"x\":[11.13671875,9.51171875,9.56640625,9.38671875,8.517578125,10.5703125,12.662109375,10.880859375,9.09765625,9.08984375,10.349609375,9.119140625,11.203125,9.4453125,9.763671875],\"y\":[82,253,265,236,94,128,169,8,224,177,53,234,148,174,168],\"type\":\"scatter\",\"xaxis\":\"x3\",\"yaxis\":\"y3\"},{\"marker\":{\"color\":\"blue\"},\"mode\":\"markers\",\"showlegend\":false,\"x\":[3.951171875,3.9453125,3.962890625,3.95703125,3.947265625,3.947265625,3.970703125,3.97265625,3.9453125,3.95703125,3.955078125,3.96875,3.953125,3.94140625,3.958984375],\"y\":[22,33,30,28,25,33,22,30,30,31,32,32,32,32,31],\"type\":\"scatter\",\"xaxis\":\"x4\",\"yaxis\":\"y4\"},{\"marker\":{\"color\":\"red\"},\"mode\":\"markers\",\"showlegend\":false,\"x\":[3.8359375,3.4921875,3.466796875,3.5234375,3.81640625,3.740234375,3.65625,3.95703125,3.552734375,3.638671875,3.873046875,3.5390625,3.693359375,3.6484375,3.662109375],\"y\":[90,259,275,245,97,136,175,25,233,185,63,240,155,178,170],\"type\":\"scatter\",\"xaxis\":\"x4\",\"yaxis\":\"y4\"},{\"marker\":{\"color\":\"blue\"},\"mode\":\"markers\",\"showlegend\":false,\"x\":[8.5703125,9.08984375,8.498046875,8.38671875,7.23828125,10.083984375,7.44140625,11.10546875,8.822265625,7.193359375,9.697265625,9.75390625,9.42578125,9.126953125,9.318359375],\"y\":[10,11,13,10,9,14,10,10,10,13,12,9,10,11,12],\"type\":\"scatter\",\"xaxis\":\"x5\",\"yaxis\":\"y5\"},{\"marker\":{\"color\":\"red\"},\"mode\":\"markers\",\"showlegend\":false,\"x\":[8.318359375,6.6015625,6.91796875,6.41796875,7.078125,8.814453125,7.81640625,7.404296875,7.732421875,6.75,9.41796875,6.3671875,7.005859375,7.458984375,8.017578125],\"y\":[11,11,8,11,9,13,18,8,9,11,8,11,12,11,9],\"type\":\"scatter\",\"xaxis\":\"x5\",\"yaxis\":\"y5\"},{\"marker\":{\"color\":\"blue\"},\"mode\":\"markers\",\"name\":\"Walking\",\"x\":[3.95703125,3.947265625,3.943359375,3.951171875,3.966796875,3.951171875,3.97265625,3.9453125,3.953125,3.955078125,3.9453125,3.958984375,3.95703125,3.947265625,3.931640625],\"y\":[23,25,25,22,23,31,17,28,23,21,30,19,29,29,30],\"type\":\"scatter\",\"xaxis\":\"x6\",\"yaxis\":\"y6\"},{\"marker\":{\"color\":\"red\"},\"mode\":\"markers\",\"name\":\"Running\",\"x\":[3.96484375,3.970703125,3.982421875,3.95703125,3.96875,3.94921875,3.953125,3.95703125,3.9765625,3.98046875,3.966796875,3.974609375,3.958984375,3.962890625,3.974609375],\"y\":[19,20,16,20,19,30,25,23,18,19,18,18,21,24,20],\"type\":\"scatter\",\"xaxis\":\"x6\",\"yaxis\":\"y6\"}],                        {\"template\":{\"data\":{\"bar\":[{\"error_x\":{\"color\":\"#2a3f5f\"},\"error_y\":{\"color\":\"#2a3f5f\"},\"marker\":{\"line\":{\"color\":\"#E5ECF6\",\"width\":0.5},\"pattern\":{\"fillmode\":\"overlay\",\"size\":10,\"solidity\":0.2}},\"type\":\"bar\"}],\"barpolar\":[{\"marker\":{\"line\":{\"color\":\"#E5ECF6\",\"width\":0.5},\"pattern\":{\"fillmode\":\"overlay\",\"size\":10,\"solidity\":0.2}},\"type\":\"barpolar\"}],\"carpet\":[{\"aaxis\":{\"endlinecolor\":\"#2a3f5f\",\"gridcolor\":\"white\",\"linecolor\":\"white\",\"minorgridcolor\":\"white\",\"startlinecolor\":\"#2a3f5f\"},\"baxis\":{\"endlinecolor\":\"#2a3f5f\",\"gridcolor\":\"white\",\"linecolor\":\"white\",\"minorgridcolor\":\"white\",\"startlinecolor\":\"#2a3f5f\"},\"type\":\"carpet\"}],\"choropleth\":[{\"colorbar\":{\"outlinewidth\":0,\"ticks\":\"\"},\"type\":\"choropleth\"}],\"contour\":[{\"colorbar\":{\"outlinewidth\":0,\"ticks\":\"\"},\"colorscale\":[[0.0,\"#0d0887\"],[0.1111111111111111,\"#46039f\"],[0.2222222222222222,\"#7201a8\"],[0.3333333333333333,\"#9c179e\"],[0.4444444444444444,\"#bd3786\"],[0.5555555555555556,\"#d8576b\"],[0.6666666666666666,\"#ed7953\"],[0.7777777777777778,\"#fb9f3a\"],[0.8888888888888888,\"#fdca26\"],[1.0,\"#f0f921\"]],\"type\":\"contour\"}],\"contourcarpet\":[{\"colorbar\":{\"outlinewidth\":0,\"ticks\":\"\"},\"type\":\"contourcarpet\"}],\"heatmap\":[{\"colorbar\":{\"outlinewidth\":0,\"ticks\":\"\"},\"colorscale\":[[0.0,\"#0d0887\"],[0.1111111111111111,\"#46039f\"],[0.2222222222222222,\"#7201a8\"],[0.3333333333333333,\"#9c179e\"],[0.4444444444444444,\"#bd3786\"],[0.5555555555555556,\"#d8576b\"],[0.6666666666666666,\"#ed7953\"],[0.7777777777777778,\"#fb9f3a\"],[0.8888888888888888,\"#fdca26\"],[1.0,\"#f0f921\"]],\"type\":\"heatmap\"}],\"heatmapgl\":[{\"colorbar\":{\"outlinewidth\":0,\"ticks\":\"\"},\"colorscale\":[[0.0,\"#0d0887\"],[0.1111111111111111,\"#46039f\"],[0.2222222222222222,\"#7201a8\"],[0.3333333333333333,\"#9c179e\"],[0.4444444444444444,\"#bd3786\"],[0.5555555555555556,\"#d8576b\"],[0.6666666666666666,\"#ed7953\"],[0.7777777777777778,\"#fb9f3a\"],[0.8888888888888888,\"#fdca26\"],[1.0,\"#f0f921\"]],\"type\":\"heatmapgl\"}],\"histogram\":[{\"marker\":{\"pattern\":{\"fillmode\":\"overlay\",\"size\":10,\"solidity\":0.2}},\"type\":\"histogram\"}],\"histogram2d\":[{\"colorbar\":{\"outlinewidth\":0,\"ticks\":\"\"},\"colorscale\":[[0.0,\"#0d0887\"],[0.1111111111111111,\"#46039f\"],[0.2222222222222222,\"#7201a8\"],[0.3333333333333333,\"#9c179e\"],[0.4444444444444444,\"#bd3786\"],[0.5555555555555556,\"#d8576b\"],[0.6666666666666666,\"#ed7953\"],[0.7777777777777778,\"#fb9f3a\"],[0.8888888888888888,\"#fdca26\"],[1.0,\"#f0f921\"]],\"type\":\"histogram2d\"}],\"histogram2dcontour\":[{\"colorbar\":{\"outlinewidth\":0,\"ticks\":\"\"},\"colorscale\":[[0.0,\"#0d0887\"],[0.1111111111111111,\"#46039f\"],[0.2222222222222222,\"#7201a8\"],[0.3333333333333333,\"#9c179e\"],[0.4444444444444444,\"#bd3786\"],[0.5555555555555556,\"#d8576b\"],[0.6666666666666666,\"#ed7953\"],[0.7777777777777778,\"#fb9f3a\"],[0.8888888888888888,\"#fdca26\"],[1.0,\"#f0f921\"]],\"type\":\"histogram2dcontour\"}],\"mesh3d\":[{\"colorbar\":{\"outlinewidth\":0,\"ticks\":\"\"},\"type\":\"mesh3d\"}],\"parcoords\":[{\"line\":{\"colorbar\":{\"outlinewidth\":0,\"ticks\":\"\"}},\"type\":\"parcoords\"}],\"pie\":[{\"automargin\":true,\"type\":\"pie\"}],\"scatter\":[{\"marker\":{\"colorbar\":{\"outlinewidth\":0,\"ticks\":\"\"}},\"type\":\"scatter\"}],\"scatter3d\":[{\"line\":{\"colorbar\":{\"outlinewidth\":0,\"ticks\":\"\"}},\"marker\":{\"colorbar\":{\"outlinewidth\":0,\"ticks\":\"\"}},\"type\":\"scatter3d\"}],\"scattercarpet\":[{\"marker\":{\"colorbar\":{\"outlinewidth\":0,\"ticks\":\"\"}},\"type\":\"scattercarpet\"}],\"scattergeo\":[{\"marker\":{\"colorbar\":{\"outlinewidth\":0,\"ticks\":\"\"}},\"type\":\"scattergeo\"}],\"scattergl\":[{\"marker\":{\"colorbar\":{\"outlinewidth\":0,\"ticks\":\"\"}},\"type\":\"scattergl\"}],\"scattermapbox\":[{\"marker\":{\"colorbar\":{\"outlinewidth\":0,\"ticks\":\"\"}},\"type\":\"scattermapbox\"}],\"scatterpolar\":[{\"marker\":{\"colorbar\":{\"outlinewidth\":0,\"ticks\":\"\"}},\"type\":\"scatterpolar\"}],\"scatterpolargl\":[{\"marker\":{\"colorbar\":{\"outlinewidth\":0,\"ticks\":\"\"}},\"type\":\"scatterpolargl\"}],\"scatterternary\":[{\"marker\":{\"colorbar\":{\"outlinewidth\":0,\"ticks\":\"\"}},\"type\":\"scatterternary\"}],\"surface\":[{\"colorbar\":{\"outlinewidth\":0,\"ticks\":\"\"},\"colorscale\":[[0.0,\"#0d0887\"],[0.1111111111111111,\"#46039f\"],[0.2222222222222222,\"#7201a8\"],[0.3333333333333333,\"#9c179e\"],[0.4444444444444444,\"#bd3786\"],[0.5555555555555556,\"#d8576b\"],[0.6666666666666666,\"#ed7953\"],[0.7777777777777778,\"#fb9f3a\"],[0.8888888888888888,\"#fdca26\"],[1.0,\"#f0f921\"]],\"type\":\"surface\"}],\"table\":[{\"cells\":{\"fill\":{\"color\":\"#EBF0F8\"},\"line\":{\"color\":\"white\"}},\"header\":{\"fill\":{\"color\":\"#C8D4E3\"},\"line\":{\"color\":\"white\"}},\"type\":\"table\"}]},\"layout\":{\"annotationdefaults\":{\"arrowcolor\":\"#2a3f5f\",\"arrowhead\":0,\"arrowwidth\":1},\"autotypenumbers\":\"strict\",\"coloraxis\":{\"colorbar\":{\"outlinewidth\":0,\"ticks\":\"\"}},\"colorscale\":{\"diverging\":[[0,\"#8e0152\"],[0.1,\"#c51b7d\"],[0.2,\"#de77ae\"],[0.3,\"#f1b6da\"],[0.4,\"#fde0ef\"],[0.5,\"#f7f7f7\"],[0.6,\"#e6f5d0\"],[0.7,\"#b8e186\"],[0.8,\"#7fbc41\"],[0.9,\"#4d9221\"],[1,\"#276419\"]],\"sequential\":[[0.0,\"#0d0887\"],[0.1111111111111111,\"#46039f\"],[0.2222222222222222,\"#7201a8\"],[0.3333333333333333,\"#9c179e\"],[0.4444444444444444,\"#bd3786\"],[0.5555555555555556,\"#d8576b\"],[0.6666666666666666,\"#ed7953\"],[0.7777777777777778,\"#fb9f3a\"],[0.8888888888888888,\"#fdca26\"],[1.0,\"#f0f921\"]],\"sequentialminus\":[[0.0,\"#0d0887\"],[0.1111111111111111,\"#46039f\"],[0.2222222222222222,\"#7201a8\"],[0.3333333333333333,\"#9c179e\"],[0.4444444444444444,\"#bd3786\"],[0.5555555555555556,\"#d8576b\"],[0.6666666666666666,\"#ed7953\"],[0.7777777777777778,\"#fb9f3a\"],[0.8888888888888888,\"#fdca26\"],[1.0,\"#f0f921\"]]},\"colorway\":[\"#636efa\",\"#EF553B\",\"#00cc96\",\"#ab63fa\",\"#FFA15A\",\"#19d3f3\",\"#FF6692\",\"#B6E880\",\"#FF97FF\",\"#FECB52\"],\"font\":{\"color\":\"#2a3f5f\"},\"geo\":{\"bgcolor\":\"white\",\"lakecolor\":\"white\",\"landcolor\":\"#E5ECF6\",\"showlakes\":true,\"showland\":true,\"subunitcolor\":\"white\"},\"hoverlabel\":{\"align\":\"left\"},\"hovermode\":\"closest\",\"mapbox\":{\"style\":\"light\"},\"paper_bgcolor\":\"white\",\"plot_bgcolor\":\"#E5ECF6\",\"polar\":{\"angularaxis\":{\"gridcolor\":\"white\",\"linecolor\":\"white\",\"ticks\":\"\"},\"bgcolor\":\"#E5ECF6\",\"radialaxis\":{\"gridcolor\":\"white\",\"linecolor\":\"white\",\"ticks\":\"\"}},\"scene\":{\"xaxis\":{\"backgroundcolor\":\"#E5ECF6\",\"gridcolor\":\"white\",\"gridwidth\":2,\"linecolor\":\"white\",\"showbackground\":true,\"ticks\":\"\",\"zerolinecolor\":\"white\"},\"yaxis\":{\"backgroundcolor\":\"#E5ECF6\",\"gridcolor\":\"white\",\"gridwidth\":2,\"linecolor\":\"white\",\"showbackground\":true,\"ticks\":\"\",\"zerolinecolor\":\"white\"},\"zaxis\":{\"backgroundcolor\":\"#E5ECF6\",\"gridcolor\":\"white\",\"gridwidth\":2,\"linecolor\":\"white\",\"showbackground\":true,\"ticks\":\"\",\"zerolinecolor\":\"white\"}},\"shapedefaults\":{\"line\":{\"color\":\"#2a3f5f\"}},\"ternary\":{\"aaxis\":{\"gridcolor\":\"white\",\"linecolor\":\"white\",\"ticks\":\"\"},\"baxis\":{\"gridcolor\":\"white\",\"linecolor\":\"white\",\"ticks\":\"\"},\"bgcolor\":\"#E5ECF6\",\"caxis\":{\"gridcolor\":\"white\",\"linecolor\":\"white\",\"ticks\":\"\"}},\"title\":{\"x\":0.05},\"xaxis\":{\"automargin\":true,\"gridcolor\":\"white\",\"linecolor\":\"white\",\"ticks\":\"\",\"title\":{\"standoff\":15},\"zerolinecolor\":\"white\",\"zerolinewidth\":2},\"yaxis\":{\"automargin\":true,\"gridcolor\":\"white\",\"linecolor\":\"white\",\"ticks\":\"\",\"title\":{\"standoff\":15},\"zerolinecolor\":\"white\",\"zerolinewidth\":2}}},\"xaxis\":{\"anchor\":\"y\",\"domain\":[0.0,0.45]},\"yaxis\":{\"anchor\":\"x\",\"domain\":[0.7333333333333333,1.0],\"title\":{\"text\":\"X Axis\"}},\"xaxis2\":{\"anchor\":\"y2\",\"domain\":[0.55,1.0]},\"yaxis2\":{\"anchor\":\"x2\",\"domain\":[0.7333333333333333,1.0]},\"xaxis3\":{\"anchor\":\"y3\",\"domain\":[0.0,0.45]},\"yaxis3\":{\"anchor\":\"x3\",\"domain\":[0.36666666666666664,0.6333333333333333],\"title\":{\"text\":\"Y Axis\"}},\"xaxis4\":{\"anchor\":\"y4\",\"domain\":[0.55,1.0]},\"yaxis4\":{\"anchor\":\"x4\",\"domain\":[0.36666666666666664,0.6333333333333333]},\"xaxis5\":{\"anchor\":\"y5\",\"domain\":[0.0,0.45],\"title\":{\"text\":\"Natural Visibility Graph\"}},\"yaxis5\":{\"anchor\":\"x5\",\"domain\":[0.0,0.26666666666666666],\"title\":{\"text\":\"Z Axis\"}},\"xaxis6\":{\"anchor\":\"y6\",\"domain\":[0.55,1.0],\"title\":{\"text\":\"Horizontal Visibility Graph\"}},\"yaxis6\":{\"anchor\":\"x6\",\"domain\":[0.0,0.26666666666666666]},\"title\":{\"text\":\"Walking and Running - Average Degree vs Network Diameter(HVG and NVG) along X,Y and Z axis\"}},                        {\"responsive\": true}                    ).then(function(){\n",
       "                            \n",
       "var gd = document.getElementById('d8b26683-9a25-41bd-b893-fca3c255f9b9');\n",
       "var x = new MutationObserver(function (mutations, observer) {{\n",
       "        var display = window.getComputedStyle(gd).display;\n",
       "        if (!display || display === 'none') {{\n",
       "            console.log([gd, 'removed!']);\n",
       "            Plotly.purge(gd);\n",
       "            observer.disconnect();\n",
       "        }}\n",
       "}});\n",
       "\n",
       "// Listen for the removal of the full notebook cells\n",
       "var notebookContainer = gd.closest('#notebook-container');\n",
       "if (notebookContainer) {{\n",
       "    x.observe(notebookContainer, {childList: true});\n",
       "}}\n",
       "\n",
       "// Listen for the clearing of the current output cell\n",
       "var outputEl = gd.closest('.output');\n",
       "if (outputEl) {{\n",
       "    x.observe(outputEl, {childList: true});\n",
       "}}\n",
       "\n",
       "                        })                };                });            </script>        </div>"
      ]
     },
     "metadata": {},
     "output_type": "display_data"
    }
   ],
   "source": [
    "# Our figure would be a 3X2 grid\n",
    "\n",
    "fig = make_subplots(rows=3, cols=2 )\n",
    "\n",
    "plot1_df = df[(df['Activity'].isin(['walking','running']))]\n",
    "\n",
    "# Creating all plots\n",
    "\n",
    "fig1 = plot1_df[(plot1_df['Method']=='NVG')&(plot1_df['Accelerometer_Axis']=='x')&(plot1_df['Activity']=='walking')]\n",
    "fig1_1 = plot1_df[(plot1_df['Method']=='NVG')&(plot1_df['Accelerometer_Axis']=='x')&(plot1_df['Activity']=='running')]\n",
    "\n",
    "fig.add_trace(go.Scatter(x=fig1['Average_Degree'], y=fig1['Network_Diameter'], mode=\"markers\", marker_color='blue', showlegend=False),row=1, col=1)\n",
    "fig.add_trace(go.Scatter(x=fig1_1['Average_Degree'], y=fig1_1['Network_Diameter'], mode=\"markers\", marker_color='red', showlegend=False),row=1, col=1)\n",
    "\n",
    "fig2 = plot1_df[(plot1_df['Method']=='HVG')&(plot1_df['Accelerometer_Axis']=='x')&(plot1_df['Activity']=='walking')]\n",
    "fig2_1 = plot1_df[(plot1_df['Method']=='HVG')&(plot1_df['Accelerometer_Axis']=='x')&(plot1_df['Activity']=='running')]\n",
    "fig.add_trace(go.Scatter(x=fig2['Average_Degree'], y=fig2['Network_Diameter'], mode=\"markers\", marker_color='blue', showlegend=False),row=1, col=2)\n",
    "fig.add_trace(go.Scatter(x=fig2_1['Average_Degree'], y=fig2_1['Network_Diameter'], mode=\"markers\", marker_color='red', showlegend=False),row=1, col=2)\n",
    "\n",
    "fig3 = plot1_df[(plot1_df['Method']=='NVG')&(plot1_df['Accelerometer_Axis']=='y')&(plot1_df['Activity']=='walking')]\n",
    "fig3_1 = plot1_df[(plot1_df['Method']=='NVG')&(plot1_df['Accelerometer_Axis']=='y')&(plot1_df['Activity']=='running')]\n",
    "fig.add_trace(go.Scatter(x=fig3['Average_Degree'], y=fig3['Network_Diameter'], mode=\"markers\", marker_color='blue', showlegend=False),row=2, col=1)\n",
    "fig.add_trace(go.Scatter(x=fig3_1['Average_Degree'], y=fig3_1['Network_Diameter'], mode=\"markers\", marker_color='red', showlegend=False),row=2, col=1)\n",
    "\n",
    "fig4 = plot1_df[(plot1_df['Method']=='HVG')&(plot1_df['Accelerometer_Axis']=='y')&(plot1_df['Activity']=='walking')]\n",
    "fig4_1 = plot1_df[(plot1_df['Method']=='HVG')&(plot1_df['Accelerometer_Axis']=='y')&(plot1_df['Activity']=='running')]\n",
    "fig.add_trace(go.Scatter(x=fig4['Average_Degree'], y=fig4['Network_Diameter'], mode=\"markers\", marker_color='blue', showlegend=False),row=2, col=2)\n",
    "fig.add_trace(go.Scatter(x=fig4_1['Average_Degree'], y=fig4_1['Network_Diameter'], mode=\"markers\", marker_color='red', showlegend=False),row=2, col=2)\n",
    "\n",
    "fig5 = plot1_df[(plot1_df['Method']=='NVG')&(plot1_df['Accelerometer_Axis']=='z')&(plot1_df['Activity']=='walking')]\n",
    "fig5_1 = plot1_df[(plot1_df['Method']=='NVG')&(plot1_df['Accelerometer_Axis']=='z')&(plot1_df['Activity']=='running')]\n",
    "fig.add_trace(go.Scatter(x=fig5['Average_Degree'], y=fig5['Network_Diameter'], mode=\"markers\", marker_color='blue', showlegend=False),row=3, col=1)\n",
    "fig.add_trace(go.Scatter(x=fig5_1['Average_Degree'], y=fig5_1['Network_Diameter'], mode=\"markers\", marker_color='red', showlegend=False),row=3, col=1)\n",
    "\n",
    "fig6 = plot1_df[(plot1_df['Method']=='HVG')&(plot1_df['Accelerometer_Axis']=='z')&(plot1_df['Activity']=='walking')]\n",
    "fig6_1 = plot1_df[(plot1_df['Method']=='HVG')&(plot1_df['Accelerometer_Axis']=='z')&(plot1_df['Activity']=='running')]\n",
    "fig.add_trace(go.Scatter(x=fig6['Average_Degree'], y=fig6['Network_Diameter'], mode=\"markers\", marker_color='blue',name='Walking'),row=3, col=2)\n",
    "fig.add_trace(go.Scatter(x=fig6_1['Average_Degree'], y=fig6_1['Network_Diameter'], mode=\"markers\", marker_color='red',name='Running'),row=3, col=2)\n",
    "\n",
    "\n",
    "# Update xaxis properties\n",
    "fig.update_xaxes(title_text=\"Natural Visibility Graph\", row=3, col=1)\n",
    "fig.update_xaxes(title_text=\"Horizontal Visibility Graph\", row=3, col=2)\n",
    "\n",
    "\n",
    "# # Update yaxis properties\n",
    "fig.update_yaxes(title_text=\"X Axis\", row=1, col=1)\n",
    "fig.update_yaxes(title_text=\"Y Axis\", row=2, col=1)\n",
    "fig.update_yaxes(title_text=\"Z Axis\", row=3, col=1)\n",
    "\n",
    "# Update layout, set title\n",
    "fig.update_layout(title_text=\"Walking and Running - Average Degree vs Network Diameter(HVG and NVG) along X,Y and Z axis\")\n",
    "\n",
    "fig.show()"
   ]
  },
  {
   "cell_type": "markdown",
   "metadata": {},
   "source": [
    "> In above figure, **across all graphs, x axis represents Average Dgree, and y axis represents Network Diameter** ."
   ]
  },
  {
   "cell_type": "markdown",
   "metadata": {},
   "source": [
    "## Task 1.6 Plotting data - Climbing Up and Climbing down - Average Degree vs Network Diameter"
   ]
  },
  {
   "cell_type": "code",
   "execution_count": 11,
   "metadata": {},
   "outputs": [
    {
     "data": {
      "application/vnd.plotly.v1+json": {
       "config": {
        "plotlyServerURL": "https://plot.ly"
       },
       "data": [
        {
         "marker": {
          "color": "blue"
         },
         "mode": "markers",
         "showlegend": false,
         "type": "scatter",
         "x": [
          15.376953125,
          11.9296875,
          10.857421875,
          10.234375,
          10.515625,
          13.509765625,
          14.45703125,
          10.61328125,
          12.041015625,
          11.87109375,
          12.97265625,
          12.20703125,
          13.666015625,
          11.69921875,
          12.8203125
         ],
         "xaxis": "x",
         "y": [
          7,
          10,
          10,
          11,
          13,
          9,
          11,
          12,
          13,
          9,
          8,
          10,
          9,
          11,
          10
         ],
         "yaxis": "y"
        },
        {
         "marker": {
          "color": "red"
         },
         "mode": "markers",
         "showlegend": false,
         "type": "scatter",
         "x": [
          15.609375,
          9.7421875,
          11.111328125,
          9.732421875,
          9.5390625,
          12.275390625,
          8.7578125,
          11.0078125,
          10.025390625,
          9.802734375,
          12.068359375,
          10.912109375,
          12.650390625,
          8.181640625,
          11.130859375
         ],
         "xaxis": "x",
         "y": [
          16,
          10,
          9,
          10,
          8,
          10,
          9,
          9,
          11,
          10,
          11,
          10,
          10,
          10,
          11
         ],
         "yaxis": "y"
        },
        {
         "marker": {
          "color": "blue"
         },
         "mode": "markers",
         "showlegend": false,
         "type": "scatter",
         "x": [
          3.95703125,
          3.958984375,
          3.943359375,
          3.94921875,
          3.923828125,
          3.955078125,
          3.947265625,
          3.943359375,
          3.9453125,
          3.943359375,
          3.955078125,
          3.953125,
          3.951171875,
          3.9296875,
          3.953125
         ],
         "xaxis": "x2",
         "y": [
          35,
          27,
          30,
          26,
          42,
          32,
          32,
          33,
          28,
          28,
          27,
          26,
          29,
          38,
          26
         ],
         "yaxis": "y2"
        },
        {
         "marker": {
          "color": "red"
         },
         "mode": "markers",
         "showlegend": false,
         "type": "scatter",
         "x": [
          3.951171875,
          3.96484375,
          3.958984375,
          3.955078125,
          3.92578125,
          3.947265625,
          3.96484375,
          3.927734375,
          3.955078125,
          3.955078125,
          3.912109375,
          3.96484375,
          3.95703125,
          3.966796875,
          3.951171875
         ],
         "xaxis": "x2",
         "y": [
          32,
          24,
          36,
          30,
          44,
          31,
          26,
          34,
          26,
          27,
          43,
          29,
          30,
          20,
          33
         ],
         "yaxis": "y2"
        },
        {
         "marker": {
          "color": "blue"
         },
         "mode": "markers",
         "showlegend": false,
         "type": "scatter",
         "x": [
          16.328125,
          13.9453125,
          17.36328125,
          15.28515625,
          14.4296875,
          12.92578125,
          14.345703125,
          10.693359375,
          16.03515625,
          13.9453125,
          15.654296875,
          14.099609375,
          11.84375,
          15.951171875,
          13.744140625
         ],
         "xaxis": "x3",
         "y": [
          11,
          10,
          11,
          9,
          12,
          8,
          11,
          12,
          11,
          9,
          9,
          11,
          14,
          9,
          11
         ],
         "yaxis": "y3"
        },
        {
         "marker": {
          "color": "red"
         },
         "mode": "markers",
         "showlegend": false,
         "type": "scatter",
         "x": [
          14.087890625,
          11.640625,
          16.359375,
          14.2734375,
          14.26953125,
          14.353515625,
          12.998046875,
          10.48828125,
          15.626953125,
          12.439453125,
          14.794921875,
          13.337890625,
          13.857421875,
          10.283203125,
          14.15625
         ],
         "xaxis": "x3",
         "y": [
          10,
          42,
          16,
          13,
          8,
          20,
          14,
          10,
          19,
          49,
          11,
          11,
          12,
          64,
          15
         ],
         "yaxis": "y3"
        },
        {
         "marker": {
          "color": "blue"
         },
         "mode": "markers",
         "showlegend": false,
         "type": "scatter",
         "x": [
          3.951171875,
          3.953125,
          3.943359375,
          3.9375,
          3.9609375,
          3.96875,
          3.958984375,
          3.943359375,
          3.955078125,
          3.94921875,
          3.9609375,
          3.935546875,
          3.923828125,
          3.9609375,
          3.947265625
         ],
         "xaxis": "x4",
         "y": [
          33,
          30,
          35,
          35,
          29,
          29,
          34,
          30,
          31,
          32,
          29,
          39,
          38,
          34,
          32
         ],
         "yaxis": "y4"
        },
        {
         "marker": {
          "color": "red"
         },
         "mode": "markers",
         "showlegend": false,
         "type": "scatter",
         "x": [
          3.947265625,
          3.912109375,
          3.93359375,
          3.958984375,
          3.96875,
          3.939453125,
          3.943359375,
          3.966796875,
          3.95703125,
          3.89453125,
          3.939453125,
          3.95703125,
          3.951171875,
          3.859375,
          3.94140625
         ],
         "xaxis": "x4",
         "y": [
          28,
          56,
          34,
          29,
          26,
          37,
          33,
          24,
          33,
          60,
          33,
          30,
          31,
          76,
          31
         ],
         "yaxis": "y4"
        },
        {
         "marker": {
          "color": "blue"
         },
         "mode": "markers",
         "showlegend": false,
         "type": "scatter",
         "x": [
          9.95703125,
          8.46484375,
          9.5625,
          8.845703125,
          9.552734375,
          10.583984375,
          8.888671875,
          9.216796875,
          9.24609375,
          10.423828125,
          11.1796875,
          9.603515625,
          10.37109375,
          10.427734375,
          10.123046875
         ],
         "xaxis": "x5",
         "y": [
          10,
          16,
          15,
          13,
          10,
          10,
          9,
          15,
          12,
          11,
          9,
          11,
          12,
          13,
          10
         ],
         "yaxis": "y5"
        },
        {
         "marker": {
          "color": "red"
         },
         "mode": "markers",
         "showlegend": false,
         "type": "scatter",
         "x": [
          9.5625,
          7.658203125,
          8.501953125,
          8.904296875,
          9.32421875,
          10.470703125,
          7.708984375,
          9.00390625,
          8.775390625,
          8.283203125,
          10.390625,
          9.0703125,
          9.728515625,
          8.19140625,
          8.953125
         ],
         "xaxis": "x5",
         "y": [
          9,
          12,
          9,
          8,
          11,
          9,
          10,
          10,
          11,
          11,
          10,
          9,
          10,
          11,
          10
         ],
         "yaxis": "y5"
        },
        {
         "marker": {
          "color": "blue"
         },
         "mode": "markers",
         "name": "Climbing Up",
         "type": "scatter",
         "x": [
          3.953125,
          3.947265625,
          3.93359375,
          3.955078125,
          3.939453125,
          3.947265625,
          3.96875,
          3.9375,
          3.935546875,
          3.951171875,
          3.947265625,
          3.943359375,
          3.947265625,
          3.9375,
          3.96875
         ],
         "xaxis": "x6",
         "y": [
          30,
          33,
          34,
          35,
          33,
          32,
          20,
          36,
          33,
          29,
          32,
          29,
          37,
          33,
          26
         ],
         "yaxis": "y6"
        },
        {
         "marker": {
          "color": "red"
         },
         "mode": "markers",
         "name": "Climbing Down",
         "type": "scatter",
         "x": [
          3.96875,
          3.953125,
          3.939453125,
          3.96875,
          3.955078125,
          3.955078125,
          3.970703125,
          3.96875,
          3.9375,
          3.951171875,
          3.95703125,
          3.962890625,
          3.921875,
          3.95703125,
          3.94140625
         ],
         "xaxis": "x6",
         "y": [
          23,
          25,
          38,
          28,
          25,
          30,
          23,
          26,
          32,
          25,
          37,
          34,
          45,
          27,
          32
         ],
         "yaxis": "y6"
        }
       ],
       "layout": {
        "template": {
         "data": {
          "bar": [
           {
            "error_x": {
             "color": "#2a3f5f"
            },
            "error_y": {
             "color": "#2a3f5f"
            },
            "marker": {
             "line": {
              "color": "#E5ECF6",
              "width": 0.5
             },
             "pattern": {
              "fillmode": "overlay",
              "size": 10,
              "solidity": 0.2
             }
            },
            "type": "bar"
           }
          ],
          "barpolar": [
           {
            "marker": {
             "line": {
              "color": "#E5ECF6",
              "width": 0.5
             },
             "pattern": {
              "fillmode": "overlay",
              "size": 10,
              "solidity": 0.2
             }
            },
            "type": "barpolar"
           }
          ],
          "carpet": [
           {
            "aaxis": {
             "endlinecolor": "#2a3f5f",
             "gridcolor": "white",
             "linecolor": "white",
             "minorgridcolor": "white",
             "startlinecolor": "#2a3f5f"
            },
            "baxis": {
             "endlinecolor": "#2a3f5f",
             "gridcolor": "white",
             "linecolor": "white",
             "minorgridcolor": "white",
             "startlinecolor": "#2a3f5f"
            },
            "type": "carpet"
           }
          ],
          "choropleth": [
           {
            "colorbar": {
             "outlinewidth": 0,
             "ticks": ""
            },
            "type": "choropleth"
           }
          ],
          "contour": [
           {
            "colorbar": {
             "outlinewidth": 0,
             "ticks": ""
            },
            "colorscale": [
             [
              0,
              "#0d0887"
             ],
             [
              0.1111111111111111,
              "#46039f"
             ],
             [
              0.2222222222222222,
              "#7201a8"
             ],
             [
              0.3333333333333333,
              "#9c179e"
             ],
             [
              0.4444444444444444,
              "#bd3786"
             ],
             [
              0.5555555555555556,
              "#d8576b"
             ],
             [
              0.6666666666666666,
              "#ed7953"
             ],
             [
              0.7777777777777778,
              "#fb9f3a"
             ],
             [
              0.8888888888888888,
              "#fdca26"
             ],
             [
              1,
              "#f0f921"
             ]
            ],
            "type": "contour"
           }
          ],
          "contourcarpet": [
           {
            "colorbar": {
             "outlinewidth": 0,
             "ticks": ""
            },
            "type": "contourcarpet"
           }
          ],
          "heatmap": [
           {
            "colorbar": {
             "outlinewidth": 0,
             "ticks": ""
            },
            "colorscale": [
             [
              0,
              "#0d0887"
             ],
             [
              0.1111111111111111,
              "#46039f"
             ],
             [
              0.2222222222222222,
              "#7201a8"
             ],
             [
              0.3333333333333333,
              "#9c179e"
             ],
             [
              0.4444444444444444,
              "#bd3786"
             ],
             [
              0.5555555555555556,
              "#d8576b"
             ],
             [
              0.6666666666666666,
              "#ed7953"
             ],
             [
              0.7777777777777778,
              "#fb9f3a"
             ],
             [
              0.8888888888888888,
              "#fdca26"
             ],
             [
              1,
              "#f0f921"
             ]
            ],
            "type": "heatmap"
           }
          ],
          "heatmapgl": [
           {
            "colorbar": {
             "outlinewidth": 0,
             "ticks": ""
            },
            "colorscale": [
             [
              0,
              "#0d0887"
             ],
             [
              0.1111111111111111,
              "#46039f"
             ],
             [
              0.2222222222222222,
              "#7201a8"
             ],
             [
              0.3333333333333333,
              "#9c179e"
             ],
             [
              0.4444444444444444,
              "#bd3786"
             ],
             [
              0.5555555555555556,
              "#d8576b"
             ],
             [
              0.6666666666666666,
              "#ed7953"
             ],
             [
              0.7777777777777778,
              "#fb9f3a"
             ],
             [
              0.8888888888888888,
              "#fdca26"
             ],
             [
              1,
              "#f0f921"
             ]
            ],
            "type": "heatmapgl"
           }
          ],
          "histogram": [
           {
            "marker": {
             "pattern": {
              "fillmode": "overlay",
              "size": 10,
              "solidity": 0.2
             }
            },
            "type": "histogram"
           }
          ],
          "histogram2d": [
           {
            "colorbar": {
             "outlinewidth": 0,
             "ticks": ""
            },
            "colorscale": [
             [
              0,
              "#0d0887"
             ],
             [
              0.1111111111111111,
              "#46039f"
             ],
             [
              0.2222222222222222,
              "#7201a8"
             ],
             [
              0.3333333333333333,
              "#9c179e"
             ],
             [
              0.4444444444444444,
              "#bd3786"
             ],
             [
              0.5555555555555556,
              "#d8576b"
             ],
             [
              0.6666666666666666,
              "#ed7953"
             ],
             [
              0.7777777777777778,
              "#fb9f3a"
             ],
             [
              0.8888888888888888,
              "#fdca26"
             ],
             [
              1,
              "#f0f921"
             ]
            ],
            "type": "histogram2d"
           }
          ],
          "histogram2dcontour": [
           {
            "colorbar": {
             "outlinewidth": 0,
             "ticks": ""
            },
            "colorscale": [
             [
              0,
              "#0d0887"
             ],
             [
              0.1111111111111111,
              "#46039f"
             ],
             [
              0.2222222222222222,
              "#7201a8"
             ],
             [
              0.3333333333333333,
              "#9c179e"
             ],
             [
              0.4444444444444444,
              "#bd3786"
             ],
             [
              0.5555555555555556,
              "#d8576b"
             ],
             [
              0.6666666666666666,
              "#ed7953"
             ],
             [
              0.7777777777777778,
              "#fb9f3a"
             ],
             [
              0.8888888888888888,
              "#fdca26"
             ],
             [
              1,
              "#f0f921"
             ]
            ],
            "type": "histogram2dcontour"
           }
          ],
          "mesh3d": [
           {
            "colorbar": {
             "outlinewidth": 0,
             "ticks": ""
            },
            "type": "mesh3d"
           }
          ],
          "parcoords": [
           {
            "line": {
             "colorbar": {
              "outlinewidth": 0,
              "ticks": ""
             }
            },
            "type": "parcoords"
           }
          ],
          "pie": [
           {
            "automargin": true,
            "type": "pie"
           }
          ],
          "scatter": [
           {
            "marker": {
             "colorbar": {
              "outlinewidth": 0,
              "ticks": ""
             }
            },
            "type": "scatter"
           }
          ],
          "scatter3d": [
           {
            "line": {
             "colorbar": {
              "outlinewidth": 0,
              "ticks": ""
             }
            },
            "marker": {
             "colorbar": {
              "outlinewidth": 0,
              "ticks": ""
             }
            },
            "type": "scatter3d"
           }
          ],
          "scattercarpet": [
           {
            "marker": {
             "colorbar": {
              "outlinewidth": 0,
              "ticks": ""
             }
            },
            "type": "scattercarpet"
           }
          ],
          "scattergeo": [
           {
            "marker": {
             "colorbar": {
              "outlinewidth": 0,
              "ticks": ""
             }
            },
            "type": "scattergeo"
           }
          ],
          "scattergl": [
           {
            "marker": {
             "colorbar": {
              "outlinewidth": 0,
              "ticks": ""
             }
            },
            "type": "scattergl"
           }
          ],
          "scattermapbox": [
           {
            "marker": {
             "colorbar": {
              "outlinewidth": 0,
              "ticks": ""
             }
            },
            "type": "scattermapbox"
           }
          ],
          "scatterpolar": [
           {
            "marker": {
             "colorbar": {
              "outlinewidth": 0,
              "ticks": ""
             }
            },
            "type": "scatterpolar"
           }
          ],
          "scatterpolargl": [
           {
            "marker": {
             "colorbar": {
              "outlinewidth": 0,
              "ticks": ""
             }
            },
            "type": "scatterpolargl"
           }
          ],
          "scatterternary": [
           {
            "marker": {
             "colorbar": {
              "outlinewidth": 0,
              "ticks": ""
             }
            },
            "type": "scatterternary"
           }
          ],
          "surface": [
           {
            "colorbar": {
             "outlinewidth": 0,
             "ticks": ""
            },
            "colorscale": [
             [
              0,
              "#0d0887"
             ],
             [
              0.1111111111111111,
              "#46039f"
             ],
             [
              0.2222222222222222,
              "#7201a8"
             ],
             [
              0.3333333333333333,
              "#9c179e"
             ],
             [
              0.4444444444444444,
              "#bd3786"
             ],
             [
              0.5555555555555556,
              "#d8576b"
             ],
             [
              0.6666666666666666,
              "#ed7953"
             ],
             [
              0.7777777777777778,
              "#fb9f3a"
             ],
             [
              0.8888888888888888,
              "#fdca26"
             ],
             [
              1,
              "#f0f921"
             ]
            ],
            "type": "surface"
           }
          ],
          "table": [
           {
            "cells": {
             "fill": {
              "color": "#EBF0F8"
             },
             "line": {
              "color": "white"
             }
            },
            "header": {
             "fill": {
              "color": "#C8D4E3"
             },
             "line": {
              "color": "white"
             }
            },
            "type": "table"
           }
          ]
         },
         "layout": {
          "annotationdefaults": {
           "arrowcolor": "#2a3f5f",
           "arrowhead": 0,
           "arrowwidth": 1
          },
          "autotypenumbers": "strict",
          "coloraxis": {
           "colorbar": {
            "outlinewidth": 0,
            "ticks": ""
           }
          },
          "colorscale": {
           "diverging": [
            [
             0,
             "#8e0152"
            ],
            [
             0.1,
             "#c51b7d"
            ],
            [
             0.2,
             "#de77ae"
            ],
            [
             0.3,
             "#f1b6da"
            ],
            [
             0.4,
             "#fde0ef"
            ],
            [
             0.5,
             "#f7f7f7"
            ],
            [
             0.6,
             "#e6f5d0"
            ],
            [
             0.7,
             "#b8e186"
            ],
            [
             0.8,
             "#7fbc41"
            ],
            [
             0.9,
             "#4d9221"
            ],
            [
             1,
             "#276419"
            ]
           ],
           "sequential": [
            [
             0,
             "#0d0887"
            ],
            [
             0.1111111111111111,
             "#46039f"
            ],
            [
             0.2222222222222222,
             "#7201a8"
            ],
            [
             0.3333333333333333,
             "#9c179e"
            ],
            [
             0.4444444444444444,
             "#bd3786"
            ],
            [
             0.5555555555555556,
             "#d8576b"
            ],
            [
             0.6666666666666666,
             "#ed7953"
            ],
            [
             0.7777777777777778,
             "#fb9f3a"
            ],
            [
             0.8888888888888888,
             "#fdca26"
            ],
            [
             1,
             "#f0f921"
            ]
           ],
           "sequentialminus": [
            [
             0,
             "#0d0887"
            ],
            [
             0.1111111111111111,
             "#46039f"
            ],
            [
             0.2222222222222222,
             "#7201a8"
            ],
            [
             0.3333333333333333,
             "#9c179e"
            ],
            [
             0.4444444444444444,
             "#bd3786"
            ],
            [
             0.5555555555555556,
             "#d8576b"
            ],
            [
             0.6666666666666666,
             "#ed7953"
            ],
            [
             0.7777777777777778,
             "#fb9f3a"
            ],
            [
             0.8888888888888888,
             "#fdca26"
            ],
            [
             1,
             "#f0f921"
            ]
           ]
          },
          "colorway": [
           "#636efa",
           "#EF553B",
           "#00cc96",
           "#ab63fa",
           "#FFA15A",
           "#19d3f3",
           "#FF6692",
           "#B6E880",
           "#FF97FF",
           "#FECB52"
          ],
          "font": {
           "color": "#2a3f5f"
          },
          "geo": {
           "bgcolor": "white",
           "lakecolor": "white",
           "landcolor": "#E5ECF6",
           "showlakes": true,
           "showland": true,
           "subunitcolor": "white"
          },
          "hoverlabel": {
           "align": "left"
          },
          "hovermode": "closest",
          "mapbox": {
           "style": "light"
          },
          "paper_bgcolor": "white",
          "plot_bgcolor": "#E5ECF6",
          "polar": {
           "angularaxis": {
            "gridcolor": "white",
            "linecolor": "white",
            "ticks": ""
           },
           "bgcolor": "#E5ECF6",
           "radialaxis": {
            "gridcolor": "white",
            "linecolor": "white",
            "ticks": ""
           }
          },
          "scene": {
           "xaxis": {
            "backgroundcolor": "#E5ECF6",
            "gridcolor": "white",
            "gridwidth": 2,
            "linecolor": "white",
            "showbackground": true,
            "ticks": "",
            "zerolinecolor": "white"
           },
           "yaxis": {
            "backgroundcolor": "#E5ECF6",
            "gridcolor": "white",
            "gridwidth": 2,
            "linecolor": "white",
            "showbackground": true,
            "ticks": "",
            "zerolinecolor": "white"
           },
           "zaxis": {
            "backgroundcolor": "#E5ECF6",
            "gridcolor": "white",
            "gridwidth": 2,
            "linecolor": "white",
            "showbackground": true,
            "ticks": "",
            "zerolinecolor": "white"
           }
          },
          "shapedefaults": {
           "line": {
            "color": "#2a3f5f"
           }
          },
          "ternary": {
           "aaxis": {
            "gridcolor": "white",
            "linecolor": "white",
            "ticks": ""
           },
           "baxis": {
            "gridcolor": "white",
            "linecolor": "white",
            "ticks": ""
           },
           "bgcolor": "#E5ECF6",
           "caxis": {
            "gridcolor": "white",
            "linecolor": "white",
            "ticks": ""
           }
          },
          "title": {
           "x": 0.05
          },
          "xaxis": {
           "automargin": true,
           "gridcolor": "white",
           "linecolor": "white",
           "ticks": "",
           "title": {
            "standoff": 15
           },
           "zerolinecolor": "white",
           "zerolinewidth": 2
          },
          "yaxis": {
           "automargin": true,
           "gridcolor": "white",
           "linecolor": "white",
           "ticks": "",
           "title": {
            "standoff": 15
           },
           "zerolinecolor": "white",
           "zerolinewidth": 2
          }
         }
        },
        "title": {
         "text": "Climbing up and Climbing down - Average Degree vs Network Diameter(HVG and NVG) along X,Y and Z axis"
        },
        "xaxis": {
         "anchor": "y",
         "domain": [
          0,
          0.45
         ]
        },
        "xaxis2": {
         "anchor": "y2",
         "domain": [
          0.55,
          1
         ]
        },
        "xaxis3": {
         "anchor": "y3",
         "domain": [
          0,
          0.45
         ]
        },
        "xaxis4": {
         "anchor": "y4",
         "domain": [
          0.55,
          1
         ]
        },
        "xaxis5": {
         "anchor": "y5",
         "domain": [
          0,
          0.45
         ],
         "title": {
          "text": "Natural Visibility Graph"
         }
        },
        "xaxis6": {
         "anchor": "y6",
         "domain": [
          0.55,
          1
         ],
         "title": {
          "text": "Horizontal Visibility Graph"
         }
        },
        "yaxis": {
         "anchor": "x",
         "domain": [
          0.7333333333333333,
          1
         ],
         "title": {
          "text": "X Axis"
         }
        },
        "yaxis2": {
         "anchor": "x2",
         "domain": [
          0.7333333333333333,
          1
         ]
        },
        "yaxis3": {
         "anchor": "x3",
         "domain": [
          0.36666666666666664,
          0.6333333333333333
         ],
         "title": {
          "text": "Y Axis"
         }
        },
        "yaxis4": {
         "anchor": "x4",
         "domain": [
          0.36666666666666664,
          0.6333333333333333
         ]
        },
        "yaxis5": {
         "anchor": "x5",
         "domain": [
          0,
          0.26666666666666666
         ],
         "title": {
          "text": "Z Axis"
         }
        },
        "yaxis6": {
         "anchor": "x6",
         "domain": [
          0,
          0.26666666666666666
         ]
        }
       }
      },
      "text/html": [
       "<div>                            <div id=\"dbc84c87-e937-4bf7-b1de-b8a46fe65fc1\" class=\"plotly-graph-div\" style=\"height:525px; width:100%;\"></div>            <script type=\"text/javascript\">                require([\"plotly\"], function(Plotly) {                    window.PLOTLYENV=window.PLOTLYENV || {};                                    if (document.getElementById(\"dbc84c87-e937-4bf7-b1de-b8a46fe65fc1\")) {                    Plotly.newPlot(                        \"dbc84c87-e937-4bf7-b1de-b8a46fe65fc1\",                        [{\"marker\":{\"color\":\"blue\"},\"mode\":\"markers\",\"showlegend\":false,\"x\":[15.376953125,11.9296875,10.857421875,10.234375,10.515625,13.509765625,14.45703125,10.61328125,12.041015625,11.87109375,12.97265625,12.20703125,13.666015625,11.69921875,12.8203125],\"y\":[7,10,10,11,13,9,11,12,13,9,8,10,9,11,10],\"type\":\"scatter\",\"xaxis\":\"x\",\"yaxis\":\"y\"},{\"marker\":{\"color\":\"red\"},\"mode\":\"markers\",\"showlegend\":false,\"x\":[15.609375,9.7421875,11.111328125,9.732421875,9.5390625,12.275390625,8.7578125,11.0078125,10.025390625,9.802734375,12.068359375,10.912109375,12.650390625,8.181640625,11.130859375],\"y\":[16,10,9,10,8,10,9,9,11,10,11,10,10,10,11],\"type\":\"scatter\",\"xaxis\":\"x\",\"yaxis\":\"y\"},{\"marker\":{\"color\":\"blue\"},\"mode\":\"markers\",\"showlegend\":false,\"x\":[3.95703125,3.958984375,3.943359375,3.94921875,3.923828125,3.955078125,3.947265625,3.943359375,3.9453125,3.943359375,3.955078125,3.953125,3.951171875,3.9296875,3.953125],\"y\":[35,27,30,26,42,32,32,33,28,28,27,26,29,38,26],\"type\":\"scatter\",\"xaxis\":\"x2\",\"yaxis\":\"y2\"},{\"marker\":{\"color\":\"red\"},\"mode\":\"markers\",\"showlegend\":false,\"x\":[3.951171875,3.96484375,3.958984375,3.955078125,3.92578125,3.947265625,3.96484375,3.927734375,3.955078125,3.955078125,3.912109375,3.96484375,3.95703125,3.966796875,3.951171875],\"y\":[32,24,36,30,44,31,26,34,26,27,43,29,30,20,33],\"type\":\"scatter\",\"xaxis\":\"x2\",\"yaxis\":\"y2\"},{\"marker\":{\"color\":\"blue\"},\"mode\":\"markers\",\"showlegend\":false,\"x\":[16.328125,13.9453125,17.36328125,15.28515625,14.4296875,12.92578125,14.345703125,10.693359375,16.03515625,13.9453125,15.654296875,14.099609375,11.84375,15.951171875,13.744140625],\"y\":[11,10,11,9,12,8,11,12,11,9,9,11,14,9,11],\"type\":\"scatter\",\"xaxis\":\"x3\",\"yaxis\":\"y3\"},{\"marker\":{\"color\":\"red\"},\"mode\":\"markers\",\"showlegend\":false,\"x\":[14.087890625,11.640625,16.359375,14.2734375,14.26953125,14.353515625,12.998046875,10.48828125,15.626953125,12.439453125,14.794921875,13.337890625,13.857421875,10.283203125,14.15625],\"y\":[10,42,16,13,8,20,14,10,19,49,11,11,12,64,15],\"type\":\"scatter\",\"xaxis\":\"x3\",\"yaxis\":\"y3\"},{\"marker\":{\"color\":\"blue\"},\"mode\":\"markers\",\"showlegend\":false,\"x\":[3.951171875,3.953125,3.943359375,3.9375,3.9609375,3.96875,3.958984375,3.943359375,3.955078125,3.94921875,3.9609375,3.935546875,3.923828125,3.9609375,3.947265625],\"y\":[33,30,35,35,29,29,34,30,31,32,29,39,38,34,32],\"type\":\"scatter\",\"xaxis\":\"x4\",\"yaxis\":\"y4\"},{\"marker\":{\"color\":\"red\"},\"mode\":\"markers\",\"showlegend\":false,\"x\":[3.947265625,3.912109375,3.93359375,3.958984375,3.96875,3.939453125,3.943359375,3.966796875,3.95703125,3.89453125,3.939453125,3.95703125,3.951171875,3.859375,3.94140625],\"y\":[28,56,34,29,26,37,33,24,33,60,33,30,31,76,31],\"type\":\"scatter\",\"xaxis\":\"x4\",\"yaxis\":\"y4\"},{\"marker\":{\"color\":\"blue\"},\"mode\":\"markers\",\"showlegend\":false,\"x\":[9.95703125,8.46484375,9.5625,8.845703125,9.552734375,10.583984375,8.888671875,9.216796875,9.24609375,10.423828125,11.1796875,9.603515625,10.37109375,10.427734375,10.123046875],\"y\":[10,16,15,13,10,10,9,15,12,11,9,11,12,13,10],\"type\":\"scatter\",\"xaxis\":\"x5\",\"yaxis\":\"y5\"},{\"marker\":{\"color\":\"red\"},\"mode\":\"markers\",\"showlegend\":false,\"x\":[9.5625,7.658203125,8.501953125,8.904296875,9.32421875,10.470703125,7.708984375,9.00390625,8.775390625,8.283203125,10.390625,9.0703125,9.728515625,8.19140625,8.953125],\"y\":[9,12,9,8,11,9,10,10,11,11,10,9,10,11,10],\"type\":\"scatter\",\"xaxis\":\"x5\",\"yaxis\":\"y5\"},{\"marker\":{\"color\":\"blue\"},\"mode\":\"markers\",\"name\":\"Climbing Up\",\"x\":[3.953125,3.947265625,3.93359375,3.955078125,3.939453125,3.947265625,3.96875,3.9375,3.935546875,3.951171875,3.947265625,3.943359375,3.947265625,3.9375,3.96875],\"y\":[30,33,34,35,33,32,20,36,33,29,32,29,37,33,26],\"type\":\"scatter\",\"xaxis\":\"x6\",\"yaxis\":\"y6\"},{\"marker\":{\"color\":\"red\"},\"mode\":\"markers\",\"name\":\"Climbing Down\",\"x\":[3.96875,3.953125,3.939453125,3.96875,3.955078125,3.955078125,3.970703125,3.96875,3.9375,3.951171875,3.95703125,3.962890625,3.921875,3.95703125,3.94140625],\"y\":[23,25,38,28,25,30,23,26,32,25,37,34,45,27,32],\"type\":\"scatter\",\"xaxis\":\"x6\",\"yaxis\":\"y6\"}],                        {\"template\":{\"data\":{\"bar\":[{\"error_x\":{\"color\":\"#2a3f5f\"},\"error_y\":{\"color\":\"#2a3f5f\"},\"marker\":{\"line\":{\"color\":\"#E5ECF6\",\"width\":0.5},\"pattern\":{\"fillmode\":\"overlay\",\"size\":10,\"solidity\":0.2}},\"type\":\"bar\"}],\"barpolar\":[{\"marker\":{\"line\":{\"color\":\"#E5ECF6\",\"width\":0.5},\"pattern\":{\"fillmode\":\"overlay\",\"size\":10,\"solidity\":0.2}},\"type\":\"barpolar\"}],\"carpet\":[{\"aaxis\":{\"endlinecolor\":\"#2a3f5f\",\"gridcolor\":\"white\",\"linecolor\":\"white\",\"minorgridcolor\":\"white\",\"startlinecolor\":\"#2a3f5f\"},\"baxis\":{\"endlinecolor\":\"#2a3f5f\",\"gridcolor\":\"white\",\"linecolor\":\"white\",\"minorgridcolor\":\"white\",\"startlinecolor\":\"#2a3f5f\"},\"type\":\"carpet\"}],\"choropleth\":[{\"colorbar\":{\"outlinewidth\":0,\"ticks\":\"\"},\"type\":\"choropleth\"}],\"contour\":[{\"colorbar\":{\"outlinewidth\":0,\"ticks\":\"\"},\"colorscale\":[[0.0,\"#0d0887\"],[0.1111111111111111,\"#46039f\"],[0.2222222222222222,\"#7201a8\"],[0.3333333333333333,\"#9c179e\"],[0.4444444444444444,\"#bd3786\"],[0.5555555555555556,\"#d8576b\"],[0.6666666666666666,\"#ed7953\"],[0.7777777777777778,\"#fb9f3a\"],[0.8888888888888888,\"#fdca26\"],[1.0,\"#f0f921\"]],\"type\":\"contour\"}],\"contourcarpet\":[{\"colorbar\":{\"outlinewidth\":0,\"ticks\":\"\"},\"type\":\"contourcarpet\"}],\"heatmap\":[{\"colorbar\":{\"outlinewidth\":0,\"ticks\":\"\"},\"colorscale\":[[0.0,\"#0d0887\"],[0.1111111111111111,\"#46039f\"],[0.2222222222222222,\"#7201a8\"],[0.3333333333333333,\"#9c179e\"],[0.4444444444444444,\"#bd3786\"],[0.5555555555555556,\"#d8576b\"],[0.6666666666666666,\"#ed7953\"],[0.7777777777777778,\"#fb9f3a\"],[0.8888888888888888,\"#fdca26\"],[1.0,\"#f0f921\"]],\"type\":\"heatmap\"}],\"heatmapgl\":[{\"colorbar\":{\"outlinewidth\":0,\"ticks\":\"\"},\"colorscale\":[[0.0,\"#0d0887\"],[0.1111111111111111,\"#46039f\"],[0.2222222222222222,\"#7201a8\"],[0.3333333333333333,\"#9c179e\"],[0.4444444444444444,\"#bd3786\"],[0.5555555555555556,\"#d8576b\"],[0.6666666666666666,\"#ed7953\"],[0.7777777777777778,\"#fb9f3a\"],[0.8888888888888888,\"#fdca26\"],[1.0,\"#f0f921\"]],\"type\":\"heatmapgl\"}],\"histogram\":[{\"marker\":{\"pattern\":{\"fillmode\":\"overlay\",\"size\":10,\"solidity\":0.2}},\"type\":\"histogram\"}],\"histogram2d\":[{\"colorbar\":{\"outlinewidth\":0,\"ticks\":\"\"},\"colorscale\":[[0.0,\"#0d0887\"],[0.1111111111111111,\"#46039f\"],[0.2222222222222222,\"#7201a8\"],[0.3333333333333333,\"#9c179e\"],[0.4444444444444444,\"#bd3786\"],[0.5555555555555556,\"#d8576b\"],[0.6666666666666666,\"#ed7953\"],[0.7777777777777778,\"#fb9f3a\"],[0.8888888888888888,\"#fdca26\"],[1.0,\"#f0f921\"]],\"type\":\"histogram2d\"}],\"histogram2dcontour\":[{\"colorbar\":{\"outlinewidth\":0,\"ticks\":\"\"},\"colorscale\":[[0.0,\"#0d0887\"],[0.1111111111111111,\"#46039f\"],[0.2222222222222222,\"#7201a8\"],[0.3333333333333333,\"#9c179e\"],[0.4444444444444444,\"#bd3786\"],[0.5555555555555556,\"#d8576b\"],[0.6666666666666666,\"#ed7953\"],[0.7777777777777778,\"#fb9f3a\"],[0.8888888888888888,\"#fdca26\"],[1.0,\"#f0f921\"]],\"type\":\"histogram2dcontour\"}],\"mesh3d\":[{\"colorbar\":{\"outlinewidth\":0,\"ticks\":\"\"},\"type\":\"mesh3d\"}],\"parcoords\":[{\"line\":{\"colorbar\":{\"outlinewidth\":0,\"ticks\":\"\"}},\"type\":\"parcoords\"}],\"pie\":[{\"automargin\":true,\"type\":\"pie\"}],\"scatter\":[{\"marker\":{\"colorbar\":{\"outlinewidth\":0,\"ticks\":\"\"}},\"type\":\"scatter\"}],\"scatter3d\":[{\"line\":{\"colorbar\":{\"outlinewidth\":0,\"ticks\":\"\"}},\"marker\":{\"colorbar\":{\"outlinewidth\":0,\"ticks\":\"\"}},\"type\":\"scatter3d\"}],\"scattercarpet\":[{\"marker\":{\"colorbar\":{\"outlinewidth\":0,\"ticks\":\"\"}},\"type\":\"scattercarpet\"}],\"scattergeo\":[{\"marker\":{\"colorbar\":{\"outlinewidth\":0,\"ticks\":\"\"}},\"type\":\"scattergeo\"}],\"scattergl\":[{\"marker\":{\"colorbar\":{\"outlinewidth\":0,\"ticks\":\"\"}},\"type\":\"scattergl\"}],\"scattermapbox\":[{\"marker\":{\"colorbar\":{\"outlinewidth\":0,\"ticks\":\"\"}},\"type\":\"scattermapbox\"}],\"scatterpolar\":[{\"marker\":{\"colorbar\":{\"outlinewidth\":0,\"ticks\":\"\"}},\"type\":\"scatterpolar\"}],\"scatterpolargl\":[{\"marker\":{\"colorbar\":{\"outlinewidth\":0,\"ticks\":\"\"}},\"type\":\"scatterpolargl\"}],\"scatterternary\":[{\"marker\":{\"colorbar\":{\"outlinewidth\":0,\"ticks\":\"\"}},\"type\":\"scatterternary\"}],\"surface\":[{\"colorbar\":{\"outlinewidth\":0,\"ticks\":\"\"},\"colorscale\":[[0.0,\"#0d0887\"],[0.1111111111111111,\"#46039f\"],[0.2222222222222222,\"#7201a8\"],[0.3333333333333333,\"#9c179e\"],[0.4444444444444444,\"#bd3786\"],[0.5555555555555556,\"#d8576b\"],[0.6666666666666666,\"#ed7953\"],[0.7777777777777778,\"#fb9f3a\"],[0.8888888888888888,\"#fdca26\"],[1.0,\"#f0f921\"]],\"type\":\"surface\"}],\"table\":[{\"cells\":{\"fill\":{\"color\":\"#EBF0F8\"},\"line\":{\"color\":\"white\"}},\"header\":{\"fill\":{\"color\":\"#C8D4E3\"},\"line\":{\"color\":\"white\"}},\"type\":\"table\"}]},\"layout\":{\"annotationdefaults\":{\"arrowcolor\":\"#2a3f5f\",\"arrowhead\":0,\"arrowwidth\":1},\"autotypenumbers\":\"strict\",\"coloraxis\":{\"colorbar\":{\"outlinewidth\":0,\"ticks\":\"\"}},\"colorscale\":{\"diverging\":[[0,\"#8e0152\"],[0.1,\"#c51b7d\"],[0.2,\"#de77ae\"],[0.3,\"#f1b6da\"],[0.4,\"#fde0ef\"],[0.5,\"#f7f7f7\"],[0.6,\"#e6f5d0\"],[0.7,\"#b8e186\"],[0.8,\"#7fbc41\"],[0.9,\"#4d9221\"],[1,\"#276419\"]],\"sequential\":[[0.0,\"#0d0887\"],[0.1111111111111111,\"#46039f\"],[0.2222222222222222,\"#7201a8\"],[0.3333333333333333,\"#9c179e\"],[0.4444444444444444,\"#bd3786\"],[0.5555555555555556,\"#d8576b\"],[0.6666666666666666,\"#ed7953\"],[0.7777777777777778,\"#fb9f3a\"],[0.8888888888888888,\"#fdca26\"],[1.0,\"#f0f921\"]],\"sequentialminus\":[[0.0,\"#0d0887\"],[0.1111111111111111,\"#46039f\"],[0.2222222222222222,\"#7201a8\"],[0.3333333333333333,\"#9c179e\"],[0.4444444444444444,\"#bd3786\"],[0.5555555555555556,\"#d8576b\"],[0.6666666666666666,\"#ed7953\"],[0.7777777777777778,\"#fb9f3a\"],[0.8888888888888888,\"#fdca26\"],[1.0,\"#f0f921\"]]},\"colorway\":[\"#636efa\",\"#EF553B\",\"#00cc96\",\"#ab63fa\",\"#FFA15A\",\"#19d3f3\",\"#FF6692\",\"#B6E880\",\"#FF97FF\",\"#FECB52\"],\"font\":{\"color\":\"#2a3f5f\"},\"geo\":{\"bgcolor\":\"white\",\"lakecolor\":\"white\",\"landcolor\":\"#E5ECF6\",\"showlakes\":true,\"showland\":true,\"subunitcolor\":\"white\"},\"hoverlabel\":{\"align\":\"left\"},\"hovermode\":\"closest\",\"mapbox\":{\"style\":\"light\"},\"paper_bgcolor\":\"white\",\"plot_bgcolor\":\"#E5ECF6\",\"polar\":{\"angularaxis\":{\"gridcolor\":\"white\",\"linecolor\":\"white\",\"ticks\":\"\"},\"bgcolor\":\"#E5ECF6\",\"radialaxis\":{\"gridcolor\":\"white\",\"linecolor\":\"white\",\"ticks\":\"\"}},\"scene\":{\"xaxis\":{\"backgroundcolor\":\"#E5ECF6\",\"gridcolor\":\"white\",\"gridwidth\":2,\"linecolor\":\"white\",\"showbackground\":true,\"ticks\":\"\",\"zerolinecolor\":\"white\"},\"yaxis\":{\"backgroundcolor\":\"#E5ECF6\",\"gridcolor\":\"white\",\"gridwidth\":2,\"linecolor\":\"white\",\"showbackground\":true,\"ticks\":\"\",\"zerolinecolor\":\"white\"},\"zaxis\":{\"backgroundcolor\":\"#E5ECF6\",\"gridcolor\":\"white\",\"gridwidth\":2,\"linecolor\":\"white\",\"showbackground\":true,\"ticks\":\"\",\"zerolinecolor\":\"white\"}},\"shapedefaults\":{\"line\":{\"color\":\"#2a3f5f\"}},\"ternary\":{\"aaxis\":{\"gridcolor\":\"white\",\"linecolor\":\"white\",\"ticks\":\"\"},\"baxis\":{\"gridcolor\":\"white\",\"linecolor\":\"white\",\"ticks\":\"\"},\"bgcolor\":\"#E5ECF6\",\"caxis\":{\"gridcolor\":\"white\",\"linecolor\":\"white\",\"ticks\":\"\"}},\"title\":{\"x\":0.05},\"xaxis\":{\"automargin\":true,\"gridcolor\":\"white\",\"linecolor\":\"white\",\"ticks\":\"\",\"title\":{\"standoff\":15},\"zerolinecolor\":\"white\",\"zerolinewidth\":2},\"yaxis\":{\"automargin\":true,\"gridcolor\":\"white\",\"linecolor\":\"white\",\"ticks\":\"\",\"title\":{\"standoff\":15},\"zerolinecolor\":\"white\",\"zerolinewidth\":2}}},\"xaxis\":{\"anchor\":\"y\",\"domain\":[0.0,0.45]},\"yaxis\":{\"anchor\":\"x\",\"domain\":[0.7333333333333333,1.0],\"title\":{\"text\":\"X Axis\"}},\"xaxis2\":{\"anchor\":\"y2\",\"domain\":[0.55,1.0]},\"yaxis2\":{\"anchor\":\"x2\",\"domain\":[0.7333333333333333,1.0]},\"xaxis3\":{\"anchor\":\"y3\",\"domain\":[0.0,0.45]},\"yaxis3\":{\"anchor\":\"x3\",\"domain\":[0.36666666666666664,0.6333333333333333],\"title\":{\"text\":\"Y Axis\"}},\"xaxis4\":{\"anchor\":\"y4\",\"domain\":[0.55,1.0]},\"yaxis4\":{\"anchor\":\"x4\",\"domain\":[0.36666666666666664,0.6333333333333333]},\"xaxis5\":{\"anchor\":\"y5\",\"domain\":[0.0,0.45],\"title\":{\"text\":\"Natural Visibility Graph\"}},\"yaxis5\":{\"anchor\":\"x5\",\"domain\":[0.0,0.26666666666666666],\"title\":{\"text\":\"Z Axis\"}},\"xaxis6\":{\"anchor\":\"y6\",\"domain\":[0.55,1.0],\"title\":{\"text\":\"Horizontal Visibility Graph\"}},\"yaxis6\":{\"anchor\":\"x6\",\"domain\":[0.0,0.26666666666666666]},\"title\":{\"text\":\"Climbing up and Climbing down - Average Degree vs Network Diameter(HVG and NVG) along X,Y and Z axis\"}},                        {\"responsive\": true}                    ).then(function(){\n",
       "                            \n",
       "var gd = document.getElementById('dbc84c87-e937-4bf7-b1de-b8a46fe65fc1');\n",
       "var x = new MutationObserver(function (mutations, observer) {{\n",
       "        var display = window.getComputedStyle(gd).display;\n",
       "        if (!display || display === 'none') {{\n",
       "            console.log([gd, 'removed!']);\n",
       "            Plotly.purge(gd);\n",
       "            observer.disconnect();\n",
       "        }}\n",
       "}});\n",
       "\n",
       "// Listen for the removal of the full notebook cells\n",
       "var notebookContainer = gd.closest('#notebook-container');\n",
       "if (notebookContainer) {{\n",
       "    x.observe(notebookContainer, {childList: true});\n",
       "}}\n",
       "\n",
       "// Listen for the clearing of the current output cell\n",
       "var outputEl = gd.closest('.output');\n",
       "if (outputEl) {{\n",
       "    x.observe(outputEl, {childList: true});\n",
       "}}\n",
       "\n",
       "                        })                };                });            </script>        </div>"
      ]
     },
     "metadata": {},
     "output_type": "display_data"
    }
   ],
   "source": [
    "fig = make_subplots(rows=3, cols=2, )\n",
    "\n",
    "plot2_df = df[(df['Activity'].isin(['climbing_up','climbing_down']))]\n",
    "\n",
    "fig1 = plot2_df[(plot2_df['Method']=='NVG')&(plot2_df['Accelerometer_Axis']=='x')&(plot2_df['Activity']=='climbing_up')]\n",
    "fig1_1 = plot2_df[(plot2_df['Method']=='NVG')&(plot2_df['Accelerometer_Axis']=='x')&(plot2_df['Activity']=='climbing_down')]\n",
    "\n",
    "fig.add_trace(go.Scatter(x=fig1['Average_Degree'], y=fig1['Network_Diameter'], mode=\"markers\", marker_color='blue', showlegend=False),row=1, col=1)\n",
    "fig.add_trace(go.Scatter(x=fig1_1['Average_Degree'], y=fig1_1['Network_Diameter'], mode=\"markers\", marker_color='red', showlegend=False),row=1, col=1)\n",
    "\n",
    "fig2 = plot2_df[(plot2_df['Method']=='HVG')&(plot2_df['Accelerometer_Axis']=='x')&(plot2_df['Activity']=='climbing_up')]\n",
    "fig2_1 = plot2_df[(plot2_df['Method']=='HVG')&(plot2_df['Accelerometer_Axis']=='x')&(plot2_df['Activity']=='climbing_down')]\n",
    "fig.add_trace(go.Scatter(x=fig2['Average_Degree'], y=fig2['Network_Diameter'], mode=\"markers\", marker_color='blue', showlegend=False),row=1, col=2)\n",
    "fig.add_trace(go.Scatter(x=fig2_1['Average_Degree'], y=fig2_1['Network_Diameter'], mode=\"markers\", marker_color='red', showlegend=False),row=1, col=2)\n",
    "\n",
    "fig3 = plot2_df[(plot2_df['Method']=='NVG')&(plot2_df['Accelerometer_Axis']=='y')&(plot2_df['Activity']=='climbing_up')]\n",
    "fig3_1 = plot2_df[(plot2_df['Method']=='NVG')&(plot2_df['Accelerometer_Axis']=='y')&(plot2_df['Activity']=='climbing_down')]\n",
    "fig.add_trace(go.Scatter(x=fig3['Average_Degree'], y=fig3['Network_Diameter'], mode=\"markers\", marker_color='blue', showlegend=False),row=2, col=1)\n",
    "fig.add_trace(go.Scatter(x=fig3_1['Average_Degree'], y=fig3_1['Network_Diameter'], mode=\"markers\", marker_color='red', showlegend=False),row=2, col=1)\n",
    "\n",
    "fig4 = plot2_df[(plot2_df['Method']=='HVG')&(plot2_df['Accelerometer_Axis']=='y')&(plot2_df['Activity']=='climbing_up')]\n",
    "fig4_1 = plot2_df[(plot2_df['Method']=='HVG')&(plot2_df['Accelerometer_Axis']=='y')&(plot2_df['Activity']=='climbing_down')]\n",
    "fig.add_trace(go.Scatter(x=fig4['Average_Degree'], y=fig4['Network_Diameter'], mode=\"markers\", marker_color='blue', showlegend=False),row=2, col=2)\n",
    "fig.add_trace(go.Scatter(x=fig4_1['Average_Degree'], y=fig4_1['Network_Diameter'], mode=\"markers\", marker_color='red', showlegend=False),row=2, col=2)\n",
    "\n",
    "fig5 = plot2_df[(plot2_df['Method']=='NVG')&(plot2_df['Accelerometer_Axis']=='z')&(plot2_df['Activity']=='climbing_up')]\n",
    "fig5_1 = plot2_df[(plot2_df['Method']=='NVG')&(plot2_df['Accelerometer_Axis']=='z')&(plot2_df['Activity']=='climbing_down')]\n",
    "fig.add_trace(go.Scatter(x=fig5['Average_Degree'], y=fig5['Network_Diameter'], mode=\"markers\", marker_color='blue', showlegend=False),row=3, col=1)\n",
    "fig.add_trace(go.Scatter(x=fig5_1['Average_Degree'], y=fig5_1['Network_Diameter'], mode=\"markers\", marker_color='red', showlegend=False),row=3, col=1)\n",
    "\n",
    "fig6 = plot2_df[(plot2_df['Method']=='HVG')&(plot2_df['Accelerometer_Axis']=='z')&(plot2_df['Activity']=='climbing_up')]\n",
    "fig6_1 = plot2_df[(plot2_df['Method']=='HVG')&(plot2_df['Accelerometer_Axis']=='z')&(plot2_df['Activity']=='climbing_down')]\n",
    "fig.add_trace(go.Scatter(x=fig6['Average_Degree'], y=fig6['Network_Diameter'], mode=\"markers\", marker_color='blue',name='Climbing Up'),row=3, col=2)\n",
    "fig.add_trace(go.Scatter(x=fig6_1['Average_Degree'], y=fig6_1['Network_Diameter'], mode=\"markers\", marker_color='red',name='Climbing Down'),row=3, col=2)\n",
    "\n",
    "\n",
    "# Update xaxis properties\n",
    "fig.update_xaxes(title_text=\"Natural Visibility Graph\", row=3, col=1)\n",
    "fig.update_xaxes(title_text=\"Horizontal Visibility Graph\", row=3, col=2)\n",
    "\n",
    "\n",
    "# # Update yaxis properties\n",
    "fig.update_yaxes(title_text=\"X Axis\", row=1, col=1)\n",
    "fig.update_yaxes(title_text=\"Y Axis\", row=2, col=1)\n",
    "fig.update_yaxes(title_text=\"Z Axis\", row=3, col=1)\n",
    "\n",
    "# Update layout, set title\n",
    "fig.update_layout(title_text=\"Climbing up and Climbing down - Average Degree vs Network Diameter(HVG and NVG) along X,Y and Z axis\")\n",
    "\n",
    "fig.show()"
   ]
  },
  {
   "cell_type": "markdown",
   "metadata": {},
   "source": [
    "> In above figure, **across all graphs, x axis represents Average Dgree, and y axis represents Network Diameter**."
   ]
  },
  {
   "cell_type": "markdown",
   "metadata": {},
   "source": [
    "## Problem 2"
   ]
  },
  {
   "cell_type": "markdown",
   "metadata": {},
   "source": [
    "###  Helper functions to calculate ordinal patterns, entropy and complexity"
   ]
  },
  {
   "cell_type": "code",
   "execution_count": 12,
   "metadata": {},
   "outputs": [],
   "source": [
    "def s_entropy(freq_list):\n",
    "    ''' This function computes the shannon entropy of a given frequency distribution.\n",
    "    USAGE: shannon_entropy(freq_list)\n",
    "    ARGS: freq_list = Numeric vector representing the frequency distribution\n",
    "    OUTPUT: A numeric value representing shannon's entropy'''\n",
    "    freq_list = [element for element in freq_list if element != 0]\n",
    "    sh_entropy = 0.0\n",
    "    for freq in freq_list:\n",
    "        sh_entropy += freq * np.log(freq)\n",
    "    sh_entropy = -sh_entropy\n",
    "    return(sh_entropy)\n",
    "\n",
    "def ordinal_patterns(ts, embdim, embdelay):\n",
    "    ''' This function computes the ordinal patterns of a time series for a given embedding dimension and embedding delay.\n",
    "    USAGE: ordinal_patterns(ts, embdim, embdelay)\n",
    "    ARGS: ts = Numeric vector representing the time series, embdim = embedding dimension (3<=embdim<=7 prefered range), embdelay =  embdding delay\n",
    "    OUPTUT: A numeric vector representing frequencies of ordinal patterns'''\n",
    "    m, t = embdim, embdelay\n",
    "    x = ts if isinstance(ts, np.ndarray) else np.array(ts) \n",
    "\n",
    "    tmp = np.zeros((x.shape[0], m))\n",
    "    for i in range(m):\n",
    "        tmp[:, i] = np.roll(x, i*t)\n",
    "    partition = tmp[(t*m-1):, :] \n",
    "    permutation = np.argsort(partition)\n",
    "    idx = _hash(permutation)\n",
    "\n",
    "    counts = np.zeros(np.math.factorial(m))\n",
    "    for i in range(counts.shape[0]):\n",
    "        counts[i] = (idx == i).sum()\n",
    "    return list(counts[counts != 0].astype(int))\n",
    "\n",
    "def _hash(x):\n",
    "    m, n = x.shape\n",
    "    if n == 1:\n",
    "        return np.zeros(m)\n",
    "    return np.sum(np.apply_along_axis(lambda y: y < x[:, 0], 0, x), axis=1) * np.math.factorial(n-1) + _hash(x[:, 1:]) \n",
    "    \n",
    "\n",
    "def p_entropy(op):\n",
    "    ordinal_pat = op\n",
    "    max_entropy = np.log(len(ordinal_pat))\n",
    "    p = np.divide(np.array(ordinal_pat), float(sum(ordinal_pat)))\n",
    "    return(s_entropy(p)/max_entropy)\n",
    "\n",
    "def complexity(op):\n",
    "    ''' This function computes the complexity of a time series defined as: Comp_JS = Q_o * JSdivergence * pe\n",
    "    Q_o = Normalizing constant\n",
    "    JSdivergence = Jensen-Shannon divergence\n",
    "    pe = permutation entopry\n",
    "    ARGS: ordinal pattern'''\n",
    "    pe = p_entropy(op)\n",
    "    constant1 = (0.5+((1 - 0.5)/len(op)))* np.log(0.5+((1 - 0.5)/len(op)))\n",
    "    constant2 = ((1 - 0.5)/len(op))*np.log((1 - 0.5)/len(op))*(len(op) - 1)\n",
    "    constant3 = 0.5*np.log(len(op))\n",
    "    Q_o = -1/(constant1+constant2+constant3)\n",
    "\n",
    "    temp_op_prob = np.divide(op, sum(op))\n",
    "    temp_op_prob2 = (0.5*temp_op_prob)+(0.5*(1/len(op)))\n",
    "    JSdivergence = (s_entropy(temp_op_prob2) - 0.5 * s_entropy(temp_op_prob) - 0.5 * np.log(len(op)))\n",
    "    Comp_JS = Q_o * JSdivergence * pe\n",
    "    return(Comp_JS)"
   ]
  },
  {
   "cell_type": "markdown",
   "metadata": {},
   "source": [
    "## Task 2.1 - 2.2 Calculating permutation entropy and complexity for all subjects by varying dimension, delay and  signal length across different axis"
   ]
  },
  {
   "cell_type": "markdown",
   "metadata": {},
   "source": [
    "> Below function **calculates entropy and complexity for all subjects and activities with varying values of delay, dimension and signal length**."
   ]
  },
  {
   "cell_type": "code",
   "execution_count": 13,
   "metadata": {},
   "outputs": [],
   "source": [
    "columns=['Subject number','Accelerometer_Axis','Signal_Length','Dimension','Delay','Permutation_Entropy', 'Complexity','Activity']\n",
    "df = pd.DataFrame()\n",
    "\n",
    "path = datasets_location + datasets_folder_name\n",
    "\n",
    "# Reading files helper function\n",
    "def read_file(subject_num):\n",
    "    walking_data = pd.read_csv(path+'/walking_subject{0}.csv'.format(subject_num))\n",
    "    running_data = pd.read_csv(path+'/running_subject{0}.csv'.format(subject_num))\n",
    "    climbingup_data = pd.read_csv(path+'/climbingup_subject{0}.csv'.format(subject_num))\n",
    "    climbingdown_data = pd.read_csv(path+'/climbingdown_subject{0}.csv'.format(subject_num))\n",
    "\n",
    "    return walking_data, running_data, climbingup_data, climbingdown_data\n",
    "\n",
    "# Calculate entropy and complexity\n",
    "def getEntropy(data, dim, delay):\n",
    "    op = ordinal_patterns(data, dim, delay)\n",
    "    return p_entropy(op), complexity(op)\n",
    "\n",
    "def Prepare_Table(list_of_subjects):\n",
    "    global df\n",
    "    main_list = []\n",
    "    for subject_num in list_of_subjects:\n",
    "        \n",
    "        ## Import data file\n",
    "        walking_data, running_data, climbingup_data, climbingdown_data = read_file(subject_num)\n",
    "        ## display(walking_data)\n",
    "        \n",
    "        ## Activity\n",
    "        for type_of_data in ['walking','running','climbing_up','climbing_down']:\n",
    "            if type_of_data=='walking':\n",
    "                data = walking_data.copy()\n",
    "            elif type_of_data=='running':\n",
    "                data = running_data.copy()\n",
    "            elif type_of_data=='climbing_up':\n",
    "                data = climbingup_data.copy()\n",
    "            elif type_of_data=='climbing_down':\n",
    "                data = climbingdown_data.copy()\n",
    "            \n",
    "            ## axis\n",
    "            for type_of_axis in ['x','y','z']:\n",
    "                if type_of_axis == 'x':\n",
    "                    axis = 'attr_x'\n",
    "                elif type_of_axis == 'y':\n",
    "                    axis = 'attr_y'\n",
    "                else:\n",
    "                    axis = 'attr_z'\n",
    "                \n",
    "                ## Signal length\n",
    "                for sig_len in [1024, 2048, 4096]:\n",
    "                    ## Dimension\n",
    "                    for dim in [3,4,5,6]:\n",
    "                        ## Delay\n",
    "                        for delay in [1,2,3]:\n",
    "                            entropy, complexity = getEntropy(data[axis][0:sig_len],dim, delay)\n",
    "                    \n",
    "                            \n",
    "                            temp_list = [subject_num, type_of_axis, sig_len, dim, delay, entropy, complexity, type_of_data]\n",
    "                            ## append elementary list to main list\n",
    "                            main_list.append(temp_list)\n",
    "    ## convert list of lists to dataframe\n",
    "    temp_df = pd.DataFrame(main_list)\n",
    "    df = pd.concat([df, temp_df])\n",
    "    df.columns = columns\n",
    "    \n",
    "subject_number_array = np.arange(1,16)\n",
    "Prepare_Table(subject_number_array)"
   ]
  },
  {
   "cell_type": "markdown",
   "metadata": {},
   "source": [
    "> After the above calculations, **data for all subjects is in one final dataframe**, Some of the data is shown below:"
   ]
  },
  {
   "cell_type": "code",
   "execution_count": 14,
   "metadata": {},
   "outputs": [
    {
     "data": {
      "text/html": [
       "<div>\n",
       "<style scoped>\n",
       "    .dataframe tbody tr th:only-of-type {\n",
       "        vertical-align: middle;\n",
       "    }\n",
       "\n",
       "    .dataframe tbody tr th {\n",
       "        vertical-align: top;\n",
       "    }\n",
       "\n",
       "    .dataframe thead th {\n",
       "        text-align: right;\n",
       "    }\n",
       "</style>\n",
       "<table border=\"1\" class=\"dataframe\">\n",
       "  <thead>\n",
       "    <tr style=\"text-align: right;\">\n",
       "      <th></th>\n",
       "      <th>Subject number</th>\n",
       "      <th>Accelerometer_Axis</th>\n",
       "      <th>Signal_Length</th>\n",
       "      <th>Dimension</th>\n",
       "      <th>Delay</th>\n",
       "      <th>Permutation_Entropy</th>\n",
       "      <th>Complexity</th>\n",
       "      <th>Activity</th>\n",
       "    </tr>\n",
       "  </thead>\n",
       "  <tbody>\n",
       "    <tr>\n",
       "      <th>0</th>\n",
       "      <td>1</td>\n",
       "      <td>x</td>\n",
       "      <td>1024</td>\n",
       "      <td>3</td>\n",
       "      <td>1</td>\n",
       "      <td>0.855987</td>\n",
       "      <td>0.119191</td>\n",
       "      <td>walking</td>\n",
       "    </tr>\n",
       "    <tr>\n",
       "      <th>1</th>\n",
       "      <td>1</td>\n",
       "      <td>x</td>\n",
       "      <td>1024</td>\n",
       "      <td>3</td>\n",
       "      <td>2</td>\n",
       "      <td>0.960568</td>\n",
       "      <td>0.036283</td>\n",
       "      <td>walking</td>\n",
       "    </tr>\n",
       "    <tr>\n",
       "      <th>2</th>\n",
       "      <td>1</td>\n",
       "      <td>x</td>\n",
       "      <td>1024</td>\n",
       "      <td>3</td>\n",
       "      <td>3</td>\n",
       "      <td>0.982132</td>\n",
       "      <td>0.016977</td>\n",
       "      <td>walking</td>\n",
       "    </tr>\n",
       "    <tr>\n",
       "      <th>3</th>\n",
       "      <td>1</td>\n",
       "      <td>x</td>\n",
       "      <td>1024</td>\n",
       "      <td>4</td>\n",
       "      <td>1</td>\n",
       "      <td>0.794190</td>\n",
       "      <td>0.199622</td>\n",
       "      <td>walking</td>\n",
       "    </tr>\n",
       "    <tr>\n",
       "      <th>4</th>\n",
       "      <td>1</td>\n",
       "      <td>x</td>\n",
       "      <td>1024</td>\n",
       "      <td>4</td>\n",
       "      <td>2</td>\n",
       "      <td>0.926945</td>\n",
       "      <td>0.085968</td>\n",
       "      <td>walking</td>\n",
       "    </tr>\n",
       "  </tbody>\n",
       "</table>\n",
       "</div>"
      ],
      "text/plain": [
       "   Subject number Accelerometer_Axis  Signal_Length  Dimension  Delay  \\\n",
       "0               1                  x           1024          3      1   \n",
       "1               1                  x           1024          3      2   \n",
       "2               1                  x           1024          3      3   \n",
       "3               1                  x           1024          4      1   \n",
       "4               1                  x           1024          4      2   \n",
       "\n",
       "   Permutation_Entropy  Complexity Activity  \n",
       "0             0.855987    0.119191  walking  \n",
       "1             0.960568    0.036283  walking  \n",
       "2             0.982132    0.016977  walking  \n",
       "3             0.794190    0.199622  walking  \n",
       "4             0.926945    0.085968  walking  "
      ]
     },
     "execution_count": 14,
     "metadata": {},
     "output_type": "execute_result"
    }
   ],
   "source": [
    "df.head()"
   ]
  },
  {
   "cell_type": "markdown",
   "metadata": {},
   "source": [
    "> To ensure that the **data for all the subjects** is present:"
   ]
  },
  {
   "cell_type": "code",
   "execution_count": 15,
   "metadata": {},
   "outputs": [
    {
     "data": {
      "text/plain": [
       "array([ 1,  2,  3,  4,  5,  6,  7,  8,  9, 10, 11, 12, 13, 14, 15])"
      ]
     },
     "execution_count": 15,
     "metadata": {},
     "output_type": "execute_result"
    }
   ],
   "source": [
    "df[\"Subject number\"].unique()"
   ]
  },
  {
   "cell_type": "markdown",
   "metadata": {},
   "source": [
    "> To ensure that all **activity types data** is present"
   ]
  },
  {
   "cell_type": "code",
   "execution_count": 16,
   "metadata": {},
   "outputs": [
    {
     "data": {
      "text/plain": [
       "array(['walking', 'running', 'climbing_up', 'climbing_down'], dtype=object)"
      ]
     },
     "execution_count": 16,
     "metadata": {},
     "output_type": "execute_result"
    }
   ],
   "source": [
    "df[\"Activity\"].unique()"
   ]
  },
  {
   "cell_type": "markdown",
   "metadata": {},
   "source": [
    "> To ensure that **dimension, delay and signal length** are varied correctly"
   ]
  },
  {
   "cell_type": "code",
   "execution_count": 17,
   "metadata": {},
   "outputs": [
    {
     "data": {
      "text/plain": [
       "array([1024, 2048, 4096], dtype=int64)"
      ]
     },
     "execution_count": 17,
     "metadata": {},
     "output_type": "execute_result"
    }
   ],
   "source": [
    "df.Signal_Length.unique()"
   ]
  },
  {
   "cell_type": "code",
   "execution_count": 18,
   "metadata": {},
   "outputs": [
    {
     "data": {
      "text/plain": [
       "array([3, 4, 5, 6], dtype=int64)"
      ]
     },
     "execution_count": 18,
     "metadata": {},
     "output_type": "execute_result"
    }
   ],
   "source": [
    "df.Dimension.unique()"
   ]
  },
  {
   "cell_type": "code",
   "execution_count": 19,
   "metadata": {},
   "outputs": [
    {
     "data": {
      "text/plain": [
       "array([1, 2, 3], dtype=int64)"
      ]
     },
     "execution_count": 19,
     "metadata": {},
     "output_type": "execute_result"
    }
   ],
   "source": [
    "df.Delay.unique()"
   ]
  },
  {
   "cell_type": "markdown",
   "metadata": {},
   "source": [
    "## Task 2.3  Plotting Permutation entropy vs Complexity for walking and running activity in subjects. (signal length =4096, embedded delay = 1 along data of axis x,y and z)"
   ]
  },
  {
   "cell_type": "code",
   "execution_count": 20,
   "metadata": {},
   "outputs": [
    {
     "data": {
      "application/vnd.plotly.v1+json": {
       "config": {
        "plotlyServerURL": "https://plot.ly"
       },
       "data": [
        {
         "marker": {
          "color": "blue"
         },
         "mode": "markers",
         "showlegend": false,
         "type": "scatter",
         "x": [
          0.8308176791127714,
          0.8506455408062724,
          0.8189427217012181,
          0.8958713886344558,
          0.8868069285965713,
          0.8006190265203343,
          0.8298381085067363,
          0.7402130869051724,
          0.8843015100065252,
          0.9283869667711948,
          0.8054384077854186,
          0.8254040052785966,
          0.7763483532677395,
          0.9198430228688835,
          0.7993748537363072
         ],
         "xaxis": "x",
         "y": [
          0.13688776854164744,
          0.12311317960775839,
          0.1440272008248881,
          0.0895037775926286,
          0.09690402418132618,
          0.156541288445793,
          0.13754429190529033,
          0.1915181684539713,
          0.098723744994591,
          0.06395788680602012,
          0.15351754101832032,
          0.140317542675047,
          0.17124623536431366,
          0.07099075215834054,
          0.1573685292248044
         ],
         "yaxis": "y"
        },
        {
         "marker": {
          "color": "red"
         },
         "mode": "markers",
         "showlegend": false,
         "type": "scatter",
         "x": [
          0.8960406450487436,
          0.921033894641917,
          0.9238474072197588,
          0.9342691660936421,
          0.8824676171835644,
          0.8336059412591156,
          0.7995738596322035,
          0.7537567155760245,
          0.9225647448409366,
          0.9016315875069429,
          0.9036719006382092,
          0.9292692608629332,
          0.9064753422659152,
          0.9449677975780338,
          0.8575202860998169
         ],
         "xaxis": "x",
         "y": [
          0.08983452026033757,
          0.06865072387009682,
          0.06581331833814019,
          0.059020685983168106,
          0.10038406504231773,
          0.13513082767046294,
          0.15753228351450702,
          0.17901522360868896,
          0.0677969554276115,
          0.0853641389769765,
          0.08447351869495082,
          0.06320508621419044,
          0.081765138915462,
          0.05003446358607354,
          0.11781155897807762
         ],
         "yaxis": "y"
        },
        {
         "marker": {
          "color": "blue"
         },
         "mode": "markers",
         "showlegend": false,
         "type": "scatter",
         "x": [
          0.7600627896713661,
          0.7847517884621303,
          0.7490826848446505,
          0.84070976794317,
          0.8345150673100612,
          0.7278812021424803,
          0.7514908706157155,
          0.6444373082271568,
          0.833003354593935,
          0.8920861861575633,
          0.72963560007202,
          0.7491636360069424,
          0.6890279125840671,
          0.8762354549213611,
          0.721817426957156
         ],
         "xaxis": "x2",
         "y": [
          0.22648108838475195,
          0.2003036444905452,
          0.22229367911971856,
          0.17599863043373673,
          0.16965987298509091,
          0.23742735613186006,
          0.23501273058927177,
          0.25974348124703034,
          0.165945305985171,
          0.11611412367969458,
          0.23250464799393794,
          0.23234440551497432,
          0.2495231149055348,
          0.139687981641382,
          0.23683014967363
         ],
         "yaxis": "y2"
        },
        {
         "marker": {
          "color": "red"
         },
         "mode": "markers",
         "showlegend": false,
         "type": "scatter",
         "x": [
          0.8476295037861844,
          0.8809204868385034,
          0.891342268091369,
          0.8984334244784401,
          0.8283997378185898,
          0.7583306592851404,
          0.7239995860791343,
          0.6806358594508058,
          0.8853366357115819,
          0.8573989055982615,
          0.8559228726391782,
          0.8890089436668168,
          0.8554509625413783,
          0.9017469507171677,
          0.7864722494046774
         ],
         "xaxis": "x2",
         "y": [
          0.16582457985662363,
          0.1362890489823775,
          0.11983686895734741,
          0.11710725941537509,
          0.1800498860708873,
          0.21831374232727122,
          0.23633189525120463,
          0.23820809824234612,
          0.11773297409715126,
          0.15708521662283484,
          0.14535730825093593,
          0.13244761199974908,
          0.15039989398424936,
          0.12254488531728544,
          0.19641730776634378
         ],
         "yaxis": "y2"
        },
        {
         "marker": {
          "color": "blue"
         },
         "mode": "markers",
         "showlegend": false,
         "type": "scatter",
         "x": [
          0.743250704990011,
          0.7568289837099766,
          0.7186628169653632,
          0.8270694713843876,
          0.8097143225324022,
          0.7023696720214545,
          0.7405604088698151,
          0.6120323827884911,
          0.7975660700817576,
          0.8685122598694401,
          0.6936581443259867,
          0.733381386899255,
          0.6637079084772654,
          0.8541667913303717,
          0.6933019323115326
         ],
         "xaxis": "x3",
         "y": [
          0.2881248944043079,
          0.2671573107206864,
          0.2908877613335942,
          0.2389864784413012,
          0.2388380579156763,
          0.30240026838003514,
          0.2902932955258535,
          0.3104666902927045,
          0.24266538655654307,
          0.1764482772673249,
          0.30096483908237126,
          0.29127829278955353,
          0.3063829575734237,
          0.20699391954964386,
          0.29899034742181807
         ],
         "yaxis": "y3"
        },
        {
         "marker": {
          "color": "red"
         },
         "mode": "markers",
         "showlegend": false,
         "type": "scatter",
         "x": [
          0.8314961011796804,
          0.8613954955040052,
          0.8688373354748171,
          0.8781097940960787,
          0.8049893003862266,
          0.7335756488047945,
          0.7067789909458768,
          0.654585271375087,
          0.8591640799916881,
          0.8375150938355913,
          0.8212207647606701,
          0.8716174825995954,
          0.8209123482232306,
          0.8871094296758468,
          0.7444823776301159
         ],
         "xaxis": "x3",
         "y": [
          0.228028948580991,
          0.19946932433018413,
          0.18340690236558294,
          0.17725092332368042,
          0.25395558707726246,
          0.2780543119770507,
          0.2896289869156992,
          0.2889106775258407,
          0.17584617940191893,
          0.22136985418528562,
          0.213075520509666,
          0.19288467605249537,
          0.22162872251504756,
          0.17975313135874577,
          0.273112363677236
         ],
         "yaxis": "y3"
        },
        {
         "marker": {
          "color": "blue"
         },
         "mode": "markers",
         "showlegend": false,
         "type": "scatter",
         "x": [
          0.7829735017764434,
          0.786693852232543,
          0.7536312285336734,
          0.8614841331724403,
          0.8330156367401892,
          0.7452755205202231,
          0.7876982631650119,
          0.656933540243459,
          0.8142922998025259,
          0.8671885921041353,
          0.7283522692494007,
          0.771522928803067,
          0.710889786436582,
          0.8729452535348283,
          0.7331235525618408
         ],
         "xaxis": "x4",
         "y": [
          0.2877383158521656,
          0.27398500270198217,
          0.2987820291208862,
          0.23045487121724506,
          0.25159573445766487,
          0.30691495732261015,
          0.2792303454891232,
          0.318221834164995,
          0.2624641203010933,
          0.21651964992740655,
          0.309352992410927,
          0.2966795275717223,
          0.31076420734576177,
          0.21784211117256605,
          0.30467657293556816
         ],
         "yaxis": "y4"
        },
        {
         "marker": {
          "color": "red"
         },
         "mode": "markers",
         "showlegend": false,
         "type": "scatter",
         "x": [
          0.8625507904998723,
          0.8773645397276588,
          0.878284187854377,
          0.8864907684461354,
          0.8401701166132498,
          0.7713767566215399,
          0.7394650985822894,
          0.6887936708973132,
          0.8560103166391525,
          0.8590463814460516,
          0.8259563645687754,
          0.8916471813458365,
          0.8264184107731567,
          0.9076163858664533,
          0.7692877342332601
         ],
         "xaxis": "x4",
         "y": [
          0.22549171485303818,
          0.20597537530268467,
          0.2021159826469525,
          0.2026916645961148,
          0.251807051769176,
          0.27342212181973724,
          0.29777558186737413,
          0.3049279089495551,
          0.21294107280032393,
          0.22702565396427155,
          0.23592296353116507,
          0.19783950854586574,
          0.24711682564630832,
          0.179809417455314,
          0.2795615896464302
         ],
         "yaxis": "y4"
        },
        {
         "marker": {
          "color": "blue"
         },
         "mode": "markers",
         "showlegend": false,
         "type": "scatter",
         "x": [
          0.7710978214542604,
          0.7357374585432137,
          0.703687883294231,
          0.7237632384068031,
          0.8473666035099109,
          0.691871060354209,
          0.8149231442417271,
          0.8100024884542393,
          0.7767151853313021,
          0.844337285221439,
          0.7291669805044085,
          0.7587472066940626,
          0.7424914328509927,
          0.7430472281854873,
          0.7564307206802986
         ],
         "xaxis": "x5",
         "y": [
          0.1705494808594374,
          0.19380630224977938,
          0.20783496643493596,
          0.1974394412178873,
          0.12577606784449438,
          0.2115664876491491,
          0.14674225868810403,
          0.15039788040686625,
          0.17105704118062035,
          0.12756352004062219,
          0.1949745925358065,
          0.18093667872055896,
          0.18851936860764598,
          0.18787704730492932,
          0.18116310003712838
         ],
         "yaxis": "y5"
        },
        {
         "marker": {
          "color": "red"
         },
         "mode": "markers",
         "showlegend": false,
         "type": "scatter",
         "x": [
          0.6788363729052334,
          0.7065142676692676,
          0.6181023618295536,
          0.7460171378196311,
          0.7056763498128251,
          0.6873253613292302,
          0.7273190550015054,
          0.8929834927881126,
          0.7120930173525392,
          0.7626093555106905,
          0.7377216675484729,
          0.6865789343365746,
          0.6451980795501793,
          0.7731790137668535,
          0.6806544774124913
         ],
         "xaxis": "x5",
         "y": [
          0.20454035762292214,
          0.2088808769024365,
          0.231978369690211,
          0.18574590438984367,
          0.1890871499199275,
          0.2129005078220806,
          0.19210750837985485,
          0.09221802233956143,
          0.2034517229258333,
          0.17709135621248376,
          0.18720497896879534,
          0.21708891718482504,
          0.22947088237667823,
          0.17475002299006406,
          0.20955234177716694
         ],
         "yaxis": "y5"
        },
        {
         "marker": {
          "color": "blue"
         },
         "mode": "markers",
         "showlegend": false,
         "type": "scatter",
         "x": [
          0.6865815032320189,
          0.6426317060538547,
          0.6039122940262699,
          0.6297652404370205,
          0.7823589848119369,
          0.5866446790994326,
          0.7404958358313682,
          0.7345695237526783,
          0.684778940303741,
          0.7799661006465968,
          0.634112858747726,
          0.6689505501670852,
          0.6513781980100052,
          0.6522683741766089,
          0.665117020448811
         ],
         "xaxis": "x6",
         "y": [
          0.2533774910850227,
          0.2581307552787765,
          0.26833830556523464,
          0.26634741262298534,
          0.21020463127009115,
          0.27806906983970753,
          0.23370873642213114,
          0.2243609279892409,
          0.24440985956897762,
          0.19798631108553602,
          0.2663652150892228,
          0.25932126744978945,
          0.26038761764767593,
          0.2605089555126762,
          0.26171873405030055
         ],
         "yaxis": "y6"
        },
        {
         "marker": {
          "color": "red"
         },
         "mode": "markers",
         "showlegend": false,
         "type": "scatter",
         "x": [
          0.6004080290410581,
          0.6123126924835915,
          0.5104455252888102,
          0.6584318498347206,
          0.6339604195521918,
          0.5838760901243846,
          0.6424056355938988,
          0.8420135975908071,
          0.6102448747098859,
          0.6777297711285768,
          0.6563258219262442,
          0.578578012663002,
          0.541053675330032,
          0.6859194030188752,
          0.5966120810540231
         ],
         "xaxis": "x6",
         "y": [
          0.25235617582638376,
          0.27360019732033475,
          0.2725728073003938,
          0.2520335805677128,
          0.23519149634179848,
          0.2740911895010405,
          0.2571697054025622,
          0.15311419586033964,
          0.25929778515137947,
          0.24295358949015328,
          0.25750362703636326,
          0.2715941700526061,
          0.2744302409654007,
          0.24996151008673584,
          0.2674531898003176
         ],
         "yaxis": "y6"
        },
        {
         "marker": {
          "color": "blue"
         },
         "mode": "markers",
         "showlegend": false,
         "type": "scatter",
         "x": [
          0.6689566837862809,
          0.6257658660974109,
          0.5756768911256921,
          0.6102577315005211,
          0.7615013019894111,
          0.5817187752583369,
          0.7342960932607127,
          0.7001445211124611,
          0.6494510737784657,
          0.7490564748749703,
          0.6114230171321315,
          0.6522744043748595,
          0.6318553182260349,
          0.6321339368767892,
          0.6484061255803893
         ],
         "xaxis": "x7",
         "y": [
          0.30800564964276905,
          0.28979310478206355,
          0.30234199736053613,
          0.3088929189370506,
          0.27838466760115227,
          0.3132014220294562,
          0.27920419056061996,
          0.28836239054286916,
          0.30333782653968394,
          0.25915261833585024,
          0.31101906320780626,
          0.302157528584065,
          0.3070252756144527,
          0.302954481871299,
          0.31053502368834945
         ],
         "yaxis": "y7"
        },
        {
         "marker": {
          "color": "red"
         },
         "mode": "markers",
         "showlegend": false,
         "type": "scatter",
         "x": [
          0.5858014986114429,
          0.5860420404257439,
          0.48617643758780726,
          0.6127343055366741,
          0.5898300977198282,
          0.5900659921671506,
          0.6233210836006937,
          0.8089253886504707,
          0.5594974312749744,
          0.6342262840694299,
          0.6381242252830996,
          0.5456152067683102,
          0.5085380222453504,
          0.6570618625901455,
          0.6041011486184616
         ],
         "xaxis": "x7",
         "y": [
          0.28637789983152373,
          0.31120305652559327,
          0.2975934984105927,
          0.29733226163589505,
          0.28290066711945844,
          0.29982282803340304,
          0.29491906895031805,
          0.21421609554032953,
          0.3012182494959808,
          0.3035928835316504,
          0.30778259074642866,
          0.3017820498169092,
          0.3058648713559141,
          0.29643347794845176,
          0.2952004748166359
         ],
         "yaxis": "y7"
        },
        {
         "marker": {
          "color": "blue"
         },
         "mode": "markers",
         "showlegend": false,
         "type": "scatter",
         "x": [
          0.707927741497155,
          0.6552482165320967,
          0.6097488708934639,
          0.6470075152327578,
          0.789179744843387,
          0.6210729776126207,
          0.7660099979073257,
          0.7334823736254825,
          0.6883751378076443,
          0.7642790609022201,
          0.6454801988393434,
          0.6816060315922648,
          0.6662561116181767,
          0.662321837550716,
          0.6868468336190428
         ],
         "xaxis": "x8",
         "y": [
          0.31768429859485753,
          0.28929567642948384,
          0.30927664944488054,
          0.3134483488800377,
          0.291190371981257,
          0.3314885178459979,
          0.28212489410255054,
          0.2945913492475281,
          0.3111087901866504,
          0.27927354771725726,
          0.3237366493242837,
          0.31381536203415555,
          0.32157336363510086,
          0.3076143659582399,
          0.32323238539334803
         ],
         "yaxis": "y8"
        },
        {
         "marker": {
          "color": "red"
         },
         "mode": "markers",
         "showlegend": false,
         "type": "scatter",
         "x": [
          0.6133348898984503,
          0.6169988309182711,
          0.5110964558055775,
          0.6285303606347226,
          0.6107006667085291,
          0.6230377140162494,
          0.6433826198854143,
          0.8108116977492532,
          0.5794954803056737,
          0.6710601765640093,
          0.684459031683507,
          0.5708073970321705,
          0.5486111651146919,
          0.6780387024269772,
          0.6451138342094171
         ],
         "xaxis": "x8",
         "y": [
          0.2957595024021845,
          0.31837691253594214,
          0.31035165391149117,
          0.3046887648680292,
          0.2955796278903629,
          0.31588610764147557,
          0.3069904892119408,
          0.23939224809002158,
          0.3143501350384511,
          0.3164021684094339,
          0.3096509675108577,
          0.3143864470016504,
          0.32185163985198983,
          0.3106468012849351,
          0.31130030769316736
         ],
         "yaxis": "y8"
        },
        {
         "marker": {
          "color": "blue"
         },
         "mode": "markers",
         "showlegend": false,
         "type": "scatter",
         "x": [
          0.8900980949274357,
          0.8948981646435507,
          0.8613942980328207,
          0.9319513598781867,
          0.936282339954052,
          0.8391595314083865,
          0.9046232163279039,
          0.8068024643282966,
          0.8239356475166675,
          0.9352121294797716,
          0.837401579465228,
          0.8811054959671076,
          0.8514556457883057,
          0.9053066199293018,
          0.8442735224806106
         ],
         "xaxis": "x9",
         "y": [
          0.09396071328310486,
          0.08738507004050046,
          0.11157480185634092,
          0.06033501859905631,
          0.05682208124229973,
          0.13132114649039306,
          0.08282405268394424,
          0.15245192397716284,
          0.1356853078425715,
          0.057041149303396065,
          0.13233260171895064,
          0.1007787873780476,
          0.12262381315666464,
          0.08261222540343466,
          0.1277512030773252
         ],
         "yaxis": "y9"
        },
        {
         "marker": {
          "color": "red"
         },
         "mode": "markers",
         "showlegend": false,
         "type": "scatter",
         "x": [
          0.9132368122528595,
          0.9617865484253206,
          0.9557954641559332,
          0.9727620807631184,
          0.9542222773562379,
          0.8827239074148259,
          0.8701460782132752,
          0.9412933543514499,
          0.9714934096861745,
          0.9579428219498729,
          0.8888355106229814,
          0.9757217481303343,
          0.9073215933951833,
          0.9530654342999869,
          0.9428469694800293
         ],
         "xaxis": "x9",
         "y": [
          0.07510429056869038,
          0.035354392229531274,
          0.040096290537323824,
          0.025300128314789297,
          0.041895153876939935,
          0.10025605941828107,
          0.10926217417456258,
          0.0528236674973697,
          0.02652938087992264,
          0.03871976049071252,
          0.0926828331721057,
          0.022799645752332797,
          0.07972796849154269,
          0.0428259121035307,
          0.05177812112190749
         ],
         "yaxis": "y9"
        },
        {
         "marker": {
          "color": "blue"
         },
         "mode": "markers",
         "showlegend": false,
         "type": "scatter",
         "x": [
          0.8368451532230515,
          0.8468318170605481,
          0.8074415822149881,
          0.9004147462617903,
          0.8994079823502675,
          0.7703638621885944,
          0.8363089935898658,
          0.726968404189825,
          0.7646927379846582,
          0.902641508761222,
          0.7737057854508852,
          0.8242331461729586,
          0.7876465885102873,
          0.8594057736877309,
          0.778161684941239
         ],
         "xaxis": "x10",
         "y": [
          0.17275551063889588,
          0.1477960848076825,
          0.17790262242715635,
          0.11128627499553878,
          0.11512208311682304,
          0.2142366999395941,
          0.19098007480144796,
          0.23417536127471675,
          0.20090324514453187,
          0.1057111131009284,
          0.20740199315608512,
          0.1836772370748939,
          0.203963304357822,
          0.14827629039681994,
          0.20608029431774508
         ],
         "yaxis": "y10"
        },
        {
         "marker": {
          "color": "red"
         },
         "mode": "markers",
         "showlegend": false,
         "type": "scatter",
         "x": [
          0.8689795031288182,
          0.9371422271288942,
          0.9266856264203683,
          0.953131776890955,
          0.9198599628854742,
          0.8168159003992592,
          0.8171222258698057,
          0.907173903700219,
          0.9526757138381625,
          0.9269280579768442,
          0.842490994552047,
          0.9527393038276551,
          0.8536253410893381,
          0.9249547684703361,
          0.9053727842055465
         ],
         "xaxis": "x10",
         "y": [
          0.14833024520259264,
          0.07759935580267818,
          0.09002067498481063,
          0.05864822192310849,
          0.10152617457681719,
          0.18423983239025096,
          0.18504578259754104,
          0.11314686241491084,
          0.06027783756208774,
          0.09141566342074633,
          0.1486570249334162,
          0.06214289768988789,
          0.16470200003868937,
          0.09046379223077204,
          0.11170373534515753
         ],
         "yaxis": "y10"
        },
        {
         "marker": {
          "color": "blue"
         },
         "mode": "markers",
         "showlegend": false,
         "type": "scatter",
         "x": [
          0.8118381855274571,
          0.8070850363149759,
          0.7747040954141486,
          0.8797271380684087,
          0.8781295433383675,
          0.7529048406331575,
          0.8362395139686034,
          0.6941606202666012,
          0.7327102175571276,
          0.8797731824344024,
          0.739781506470455,
          0.8058378210224718,
          0.7610833139457815,
          0.8339414201137167,
          0.7481027394179192
         ],
         "xaxis": "x11",
         "y": [
          0.24182904523308718,
          0.22183416290912503,
          0.24504514296685576,
          0.16749881838802066,
          0.1788286364699706,
          0.26968122853825577,
          0.23208616301773005,
          0.2982410993472905,
          0.26410245867194465,
          0.1624961439289546,
          0.2817363334011845,
          0.24698781238194667,
          0.2692841159347573,
          0.2095668203766314,
          0.2766133596034992
         ],
         "yaxis": "y11"
        },
        {
         "marker": {
          "color": "red"
         },
         "mode": "markers",
         "showlegend": false,
         "type": "scatter",
         "x": [
          0.8522630800849385,
          0.9160443524288797,
          0.9050386007560568,
          0.9369694071708099,
          0.897105451743887,
          0.7823404598044722,
          0.8006075262019317,
          0.8906237089767381,
          0.9385917404587393,
          0.9044311363025388,
          0.8055045105492382,
          0.9418071816110831,
          0.8211793978544655,
          0.9038782819621854,
          0.8761555240924265
         ],
         "xaxis": "x11",
         "y": [
          0.21213550850756333,
          0.13382310355516835,
          0.15293732999998927,
          0.10523113284906715,
          0.16534229241273943,
          0.26115226089201937,
          0.23578584570585456,
          0.16948760688750417,
          0.10353577630786294,
          0.15477099892637838,
          0.21966818092161025,
          0.10161505736640304,
          0.25039112895021104,
          0.1504613030989275,
          0.18844100700661887
         ],
         "yaxis": "y11"
        },
        {
         "marker": {
          "color": "blue"
         },
         "mode": "markers",
         "name": "Walking",
         "type": "scatter",
         "x": [
          0.8349173561905701,
          0.807546988153289,
          0.7868358446393539,
          0.8794652339603044,
          0.8908060260591356,
          0.7812823469640741,
          0.8664782603133597,
          0.7352739448741068,
          0.7485190966701195,
          0.8798663129046269,
          0.7681731309809434,
          0.8376351165290811,
          0.786055140275707,
          0.8398374487724841,
          0.7806307801593326
         ],
         "xaxis": "x12",
         "y": [
          0.2520260151436284,
          0.2566956127550809,
          0.2619294997434032,
          0.19800120541245622,
          0.1956499120868189,
          0.2762162614053678,
          0.22920194965458754,
          0.29818591408838474,
          0.281140501509321,
          0.19195980062761436,
          0.2953781146094939,
          0.24793973849108183,
          0.280377052198106,
          0.2329508134373508,
          0.28369062537740924
         ],
         "yaxis": "y12"
        },
        {
         "marker": {
          "color": "red"
         },
         "mode": "markers",
         "name": "Running",
         "type": "scatter",
         "x": [
          0.8821475633612901,
          0.9116575406211013,
          0.9095489208227949,
          0.9322219333649497,
          0.9110983086711173,
          0.8058786823375059,
          0.8147965742522439,
          0.8970226011226744,
          0.9332074295756738,
          0.9102977528717741,
          0.8080982275985308,
          0.9408230762775132,
          0.851848984319173,
          0.906703335641102,
          0.8913481124708686
         ],
         "xaxis": "x12",
         "y": [
          0.20632472032260774,
          0.16814919661706196,
          0.17736443069597224,
          0.14123503684756847,
          0.1723555378314408,
          0.26840654740359454,
          0.24956138381732973,
          0.1908574276246825,
          0.13913211750053125,
          0.17481285133451901,
          0.24449094923640285,
          0.12815206609819232,
          0.24724093415855974,
          0.17902460003776896,
          0.20024957216119194
         ],
         "yaxis": "y12"
        }
       ],
       "layout": {
        "template": {
         "data": {
          "bar": [
           {
            "error_x": {
             "color": "#2a3f5f"
            },
            "error_y": {
             "color": "#2a3f5f"
            },
            "marker": {
             "line": {
              "color": "#E5ECF6",
              "width": 0.5
             },
             "pattern": {
              "fillmode": "overlay",
              "size": 10,
              "solidity": 0.2
             }
            },
            "type": "bar"
           }
          ],
          "barpolar": [
           {
            "marker": {
             "line": {
              "color": "#E5ECF6",
              "width": 0.5
             },
             "pattern": {
              "fillmode": "overlay",
              "size": 10,
              "solidity": 0.2
             }
            },
            "type": "barpolar"
           }
          ],
          "carpet": [
           {
            "aaxis": {
             "endlinecolor": "#2a3f5f",
             "gridcolor": "white",
             "linecolor": "white",
             "minorgridcolor": "white",
             "startlinecolor": "#2a3f5f"
            },
            "baxis": {
             "endlinecolor": "#2a3f5f",
             "gridcolor": "white",
             "linecolor": "white",
             "minorgridcolor": "white",
             "startlinecolor": "#2a3f5f"
            },
            "type": "carpet"
           }
          ],
          "choropleth": [
           {
            "colorbar": {
             "outlinewidth": 0,
             "ticks": ""
            },
            "type": "choropleth"
           }
          ],
          "contour": [
           {
            "colorbar": {
             "outlinewidth": 0,
             "ticks": ""
            },
            "colorscale": [
             [
              0,
              "#0d0887"
             ],
             [
              0.1111111111111111,
              "#46039f"
             ],
             [
              0.2222222222222222,
              "#7201a8"
             ],
             [
              0.3333333333333333,
              "#9c179e"
             ],
             [
              0.4444444444444444,
              "#bd3786"
             ],
             [
              0.5555555555555556,
              "#d8576b"
             ],
             [
              0.6666666666666666,
              "#ed7953"
             ],
             [
              0.7777777777777778,
              "#fb9f3a"
             ],
             [
              0.8888888888888888,
              "#fdca26"
             ],
             [
              1,
              "#f0f921"
             ]
            ],
            "type": "contour"
           }
          ],
          "contourcarpet": [
           {
            "colorbar": {
             "outlinewidth": 0,
             "ticks": ""
            },
            "type": "contourcarpet"
           }
          ],
          "heatmap": [
           {
            "colorbar": {
             "outlinewidth": 0,
             "ticks": ""
            },
            "colorscale": [
             [
              0,
              "#0d0887"
             ],
             [
              0.1111111111111111,
              "#46039f"
             ],
             [
              0.2222222222222222,
              "#7201a8"
             ],
             [
              0.3333333333333333,
              "#9c179e"
             ],
             [
              0.4444444444444444,
              "#bd3786"
             ],
             [
              0.5555555555555556,
              "#d8576b"
             ],
             [
              0.6666666666666666,
              "#ed7953"
             ],
             [
              0.7777777777777778,
              "#fb9f3a"
             ],
             [
              0.8888888888888888,
              "#fdca26"
             ],
             [
              1,
              "#f0f921"
             ]
            ],
            "type": "heatmap"
           }
          ],
          "heatmapgl": [
           {
            "colorbar": {
             "outlinewidth": 0,
             "ticks": ""
            },
            "colorscale": [
             [
              0,
              "#0d0887"
             ],
             [
              0.1111111111111111,
              "#46039f"
             ],
             [
              0.2222222222222222,
              "#7201a8"
             ],
             [
              0.3333333333333333,
              "#9c179e"
             ],
             [
              0.4444444444444444,
              "#bd3786"
             ],
             [
              0.5555555555555556,
              "#d8576b"
             ],
             [
              0.6666666666666666,
              "#ed7953"
             ],
             [
              0.7777777777777778,
              "#fb9f3a"
             ],
             [
              0.8888888888888888,
              "#fdca26"
             ],
             [
              1,
              "#f0f921"
             ]
            ],
            "type": "heatmapgl"
           }
          ],
          "histogram": [
           {
            "marker": {
             "pattern": {
              "fillmode": "overlay",
              "size": 10,
              "solidity": 0.2
             }
            },
            "type": "histogram"
           }
          ],
          "histogram2d": [
           {
            "colorbar": {
             "outlinewidth": 0,
             "ticks": ""
            },
            "colorscale": [
             [
              0,
              "#0d0887"
             ],
             [
              0.1111111111111111,
              "#46039f"
             ],
             [
              0.2222222222222222,
              "#7201a8"
             ],
             [
              0.3333333333333333,
              "#9c179e"
             ],
             [
              0.4444444444444444,
              "#bd3786"
             ],
             [
              0.5555555555555556,
              "#d8576b"
             ],
             [
              0.6666666666666666,
              "#ed7953"
             ],
             [
              0.7777777777777778,
              "#fb9f3a"
             ],
             [
              0.8888888888888888,
              "#fdca26"
             ],
             [
              1,
              "#f0f921"
             ]
            ],
            "type": "histogram2d"
           }
          ],
          "histogram2dcontour": [
           {
            "colorbar": {
             "outlinewidth": 0,
             "ticks": ""
            },
            "colorscale": [
             [
              0,
              "#0d0887"
             ],
             [
              0.1111111111111111,
              "#46039f"
             ],
             [
              0.2222222222222222,
              "#7201a8"
             ],
             [
              0.3333333333333333,
              "#9c179e"
             ],
             [
              0.4444444444444444,
              "#bd3786"
             ],
             [
              0.5555555555555556,
              "#d8576b"
             ],
             [
              0.6666666666666666,
              "#ed7953"
             ],
             [
              0.7777777777777778,
              "#fb9f3a"
             ],
             [
              0.8888888888888888,
              "#fdca26"
             ],
             [
              1,
              "#f0f921"
             ]
            ],
            "type": "histogram2dcontour"
           }
          ],
          "mesh3d": [
           {
            "colorbar": {
             "outlinewidth": 0,
             "ticks": ""
            },
            "type": "mesh3d"
           }
          ],
          "parcoords": [
           {
            "line": {
             "colorbar": {
              "outlinewidth": 0,
              "ticks": ""
             }
            },
            "type": "parcoords"
           }
          ],
          "pie": [
           {
            "automargin": true,
            "type": "pie"
           }
          ],
          "scatter": [
           {
            "marker": {
             "colorbar": {
              "outlinewidth": 0,
              "ticks": ""
             }
            },
            "type": "scatter"
           }
          ],
          "scatter3d": [
           {
            "line": {
             "colorbar": {
              "outlinewidth": 0,
              "ticks": ""
             }
            },
            "marker": {
             "colorbar": {
              "outlinewidth": 0,
              "ticks": ""
             }
            },
            "type": "scatter3d"
           }
          ],
          "scattercarpet": [
           {
            "marker": {
             "colorbar": {
              "outlinewidth": 0,
              "ticks": ""
             }
            },
            "type": "scattercarpet"
           }
          ],
          "scattergeo": [
           {
            "marker": {
             "colorbar": {
              "outlinewidth": 0,
              "ticks": ""
             }
            },
            "type": "scattergeo"
           }
          ],
          "scattergl": [
           {
            "marker": {
             "colorbar": {
              "outlinewidth": 0,
              "ticks": ""
             }
            },
            "type": "scattergl"
           }
          ],
          "scattermapbox": [
           {
            "marker": {
             "colorbar": {
              "outlinewidth": 0,
              "ticks": ""
             }
            },
            "type": "scattermapbox"
           }
          ],
          "scatterpolar": [
           {
            "marker": {
             "colorbar": {
              "outlinewidth": 0,
              "ticks": ""
             }
            },
            "type": "scatterpolar"
           }
          ],
          "scatterpolargl": [
           {
            "marker": {
             "colorbar": {
              "outlinewidth": 0,
              "ticks": ""
             }
            },
            "type": "scatterpolargl"
           }
          ],
          "scatterternary": [
           {
            "marker": {
             "colorbar": {
              "outlinewidth": 0,
              "ticks": ""
             }
            },
            "type": "scatterternary"
           }
          ],
          "surface": [
           {
            "colorbar": {
             "outlinewidth": 0,
             "ticks": ""
            },
            "colorscale": [
             [
              0,
              "#0d0887"
             ],
             [
              0.1111111111111111,
              "#46039f"
             ],
             [
              0.2222222222222222,
              "#7201a8"
             ],
             [
              0.3333333333333333,
              "#9c179e"
             ],
             [
              0.4444444444444444,
              "#bd3786"
             ],
             [
              0.5555555555555556,
              "#d8576b"
             ],
             [
              0.6666666666666666,
              "#ed7953"
             ],
             [
              0.7777777777777778,
              "#fb9f3a"
             ],
             [
              0.8888888888888888,
              "#fdca26"
             ],
             [
              1,
              "#f0f921"
             ]
            ],
            "type": "surface"
           }
          ],
          "table": [
           {
            "cells": {
             "fill": {
              "color": "#EBF0F8"
             },
             "line": {
              "color": "white"
             }
            },
            "header": {
             "fill": {
              "color": "#C8D4E3"
             },
             "line": {
              "color": "white"
             }
            },
            "type": "table"
           }
          ]
         },
         "layout": {
          "annotationdefaults": {
           "arrowcolor": "#2a3f5f",
           "arrowhead": 0,
           "arrowwidth": 1
          },
          "autotypenumbers": "strict",
          "coloraxis": {
           "colorbar": {
            "outlinewidth": 0,
            "ticks": ""
           }
          },
          "colorscale": {
           "diverging": [
            [
             0,
             "#8e0152"
            ],
            [
             0.1,
             "#c51b7d"
            ],
            [
             0.2,
             "#de77ae"
            ],
            [
             0.3,
             "#f1b6da"
            ],
            [
             0.4,
             "#fde0ef"
            ],
            [
             0.5,
             "#f7f7f7"
            ],
            [
             0.6,
             "#e6f5d0"
            ],
            [
             0.7,
             "#b8e186"
            ],
            [
             0.8,
             "#7fbc41"
            ],
            [
             0.9,
             "#4d9221"
            ],
            [
             1,
             "#276419"
            ]
           ],
           "sequential": [
            [
             0,
             "#0d0887"
            ],
            [
             0.1111111111111111,
             "#46039f"
            ],
            [
             0.2222222222222222,
             "#7201a8"
            ],
            [
             0.3333333333333333,
             "#9c179e"
            ],
            [
             0.4444444444444444,
             "#bd3786"
            ],
            [
             0.5555555555555556,
             "#d8576b"
            ],
            [
             0.6666666666666666,
             "#ed7953"
            ],
            [
             0.7777777777777778,
             "#fb9f3a"
            ],
            [
             0.8888888888888888,
             "#fdca26"
            ],
            [
             1,
             "#f0f921"
            ]
           ],
           "sequentialminus": [
            [
             0,
             "#0d0887"
            ],
            [
             0.1111111111111111,
             "#46039f"
            ],
            [
             0.2222222222222222,
             "#7201a8"
            ],
            [
             0.3333333333333333,
             "#9c179e"
            ],
            [
             0.4444444444444444,
             "#bd3786"
            ],
            [
             0.5555555555555556,
             "#d8576b"
            ],
            [
             0.6666666666666666,
             "#ed7953"
            ],
            [
             0.7777777777777778,
             "#fb9f3a"
            ],
            [
             0.8888888888888888,
             "#fdca26"
            ],
            [
             1,
             "#f0f921"
            ]
           ]
          },
          "colorway": [
           "#636efa",
           "#EF553B",
           "#00cc96",
           "#ab63fa",
           "#FFA15A",
           "#19d3f3",
           "#FF6692",
           "#B6E880",
           "#FF97FF",
           "#FECB52"
          ],
          "font": {
           "color": "#2a3f5f"
          },
          "geo": {
           "bgcolor": "white",
           "lakecolor": "white",
           "landcolor": "#E5ECF6",
           "showlakes": true,
           "showland": true,
           "subunitcolor": "white"
          },
          "hoverlabel": {
           "align": "left"
          },
          "hovermode": "closest",
          "mapbox": {
           "style": "light"
          },
          "paper_bgcolor": "white",
          "plot_bgcolor": "#E5ECF6",
          "polar": {
           "angularaxis": {
            "gridcolor": "white",
            "linecolor": "white",
            "ticks": ""
           },
           "bgcolor": "#E5ECF6",
           "radialaxis": {
            "gridcolor": "white",
            "linecolor": "white",
            "ticks": ""
           }
          },
          "scene": {
           "xaxis": {
            "backgroundcolor": "#E5ECF6",
            "gridcolor": "white",
            "gridwidth": 2,
            "linecolor": "white",
            "showbackground": true,
            "ticks": "",
            "zerolinecolor": "white"
           },
           "yaxis": {
            "backgroundcolor": "#E5ECF6",
            "gridcolor": "white",
            "gridwidth": 2,
            "linecolor": "white",
            "showbackground": true,
            "ticks": "",
            "zerolinecolor": "white"
           },
           "zaxis": {
            "backgroundcolor": "#E5ECF6",
            "gridcolor": "white",
            "gridwidth": 2,
            "linecolor": "white",
            "showbackground": true,
            "ticks": "",
            "zerolinecolor": "white"
           }
          },
          "shapedefaults": {
           "line": {
            "color": "#2a3f5f"
           }
          },
          "ternary": {
           "aaxis": {
            "gridcolor": "white",
            "linecolor": "white",
            "ticks": ""
           },
           "baxis": {
            "gridcolor": "white",
            "linecolor": "white",
            "ticks": ""
           },
           "bgcolor": "#E5ECF6",
           "caxis": {
            "gridcolor": "white",
            "linecolor": "white",
            "ticks": ""
           }
          },
          "title": {
           "x": 0.05
          },
          "xaxis": {
           "automargin": true,
           "gridcolor": "white",
           "linecolor": "white",
           "ticks": "",
           "title": {
            "standoff": 15
           },
           "zerolinecolor": "white",
           "zerolinewidth": 2
          },
          "yaxis": {
           "automargin": true,
           "gridcolor": "white",
           "linecolor": "white",
           "ticks": "",
           "title": {
            "standoff": 15
           },
           "zerolinecolor": "white",
           "zerolinewidth": 2
          }
         }
        },
        "title": {
         "text": "Permutation entropy (x axis) vs Complexity (y axis) for - Walking and Running activities (signal length =4096, embedded delay = 1)"
        },
        "xaxis": {
         "anchor": "y",
         "domain": [
          0,
          0.2125
         ]
        },
        "xaxis10": {
         "anchor": "y10",
         "domain": [
          0.2625,
          0.475
         ],
         "title": {
          "text": "Dimension 4"
         }
        },
        "xaxis11": {
         "anchor": "y11",
         "domain": [
          0.525,
          0.7375
         ],
         "title": {
          "text": "Dimension 5"
         }
        },
        "xaxis12": {
         "anchor": "y12",
         "domain": [
          0.7875,
          1
         ],
         "title": {
          "text": "Dimension 6"
         }
        },
        "xaxis2": {
         "anchor": "y2",
         "domain": [
          0.2625,
          0.475
         ]
        },
        "xaxis3": {
         "anchor": "y3",
         "domain": [
          0.525,
          0.7375
         ]
        },
        "xaxis4": {
         "anchor": "y4",
         "domain": [
          0.7875,
          1
         ]
        },
        "xaxis5": {
         "anchor": "y5",
         "domain": [
          0,
          0.2125
         ]
        },
        "xaxis6": {
         "anchor": "y6",
         "domain": [
          0.2625,
          0.475
         ]
        },
        "xaxis7": {
         "anchor": "y7",
         "domain": [
          0.525,
          0.7375
         ]
        },
        "xaxis8": {
         "anchor": "y8",
         "domain": [
          0.7875,
          1
         ]
        },
        "xaxis9": {
         "anchor": "y9",
         "domain": [
          0,
          0.2125
         ],
         "title": {
          "text": "Dimension 3"
         }
        },
        "yaxis": {
         "anchor": "x",
         "domain": [
          0.7333333333333333,
          1
         ],
         "title": {
          "text": "X Axis"
         }
        },
        "yaxis10": {
         "anchor": "x10",
         "domain": [
          0,
          0.26666666666666666
         ]
        },
        "yaxis11": {
         "anchor": "x11",
         "domain": [
          0,
          0.26666666666666666
         ]
        },
        "yaxis12": {
         "anchor": "x12",
         "domain": [
          0,
          0.26666666666666666
         ]
        },
        "yaxis2": {
         "anchor": "x2",
         "domain": [
          0.7333333333333333,
          1
         ]
        },
        "yaxis3": {
         "anchor": "x3",
         "domain": [
          0.7333333333333333,
          1
         ]
        },
        "yaxis4": {
         "anchor": "x4",
         "domain": [
          0.7333333333333333,
          1
         ]
        },
        "yaxis5": {
         "anchor": "x5",
         "domain": [
          0.36666666666666664,
          0.6333333333333333
         ],
         "title": {
          "text": "Y Axis"
         }
        },
        "yaxis6": {
         "anchor": "x6",
         "domain": [
          0.36666666666666664,
          0.6333333333333333
         ]
        },
        "yaxis7": {
         "anchor": "x7",
         "domain": [
          0.36666666666666664,
          0.6333333333333333
         ]
        },
        "yaxis8": {
         "anchor": "x8",
         "domain": [
          0.36666666666666664,
          0.6333333333333333
         ]
        },
        "yaxis9": {
         "anchor": "x9",
         "domain": [
          0,
          0.26666666666666666
         ],
         "title": {
          "text": "Z Axis"
         }
        }
       }
      },
      "text/html": [
       "<div>                            <div id=\"d57a9e93-d6f3-4529-9dc4-bdaab89026a7\" class=\"plotly-graph-div\" style=\"height:525px; width:100%;\"></div>            <script type=\"text/javascript\">                require([\"plotly\"], function(Plotly) {                    window.PLOTLYENV=window.PLOTLYENV || {};                                    if (document.getElementById(\"d57a9e93-d6f3-4529-9dc4-bdaab89026a7\")) {                    Plotly.newPlot(                        \"d57a9e93-d6f3-4529-9dc4-bdaab89026a7\",                        [{\"marker\":{\"color\":\"blue\"},\"mode\":\"markers\",\"showlegend\":false,\"x\":[0.8308176791127714,0.8506455408062724,0.8189427217012181,0.8958713886344558,0.8868069285965713,0.8006190265203343,0.8298381085067363,0.7402130869051724,0.8843015100065252,0.9283869667711948,0.8054384077854186,0.8254040052785966,0.7763483532677395,0.9198430228688835,0.7993748537363072],\"y\":[0.13688776854164744,0.12311317960775839,0.1440272008248881,0.0895037775926286,0.09690402418132618,0.156541288445793,0.13754429190529033,0.1915181684539713,0.098723744994591,0.06395788680602012,0.15351754101832032,0.140317542675047,0.17124623536431366,0.07099075215834054,0.1573685292248044],\"type\":\"scatter\",\"xaxis\":\"x\",\"yaxis\":\"y\"},{\"marker\":{\"color\":\"red\"},\"mode\":\"markers\",\"showlegend\":false,\"x\":[0.8960406450487436,0.921033894641917,0.9238474072197588,0.9342691660936421,0.8824676171835644,0.8336059412591156,0.7995738596322035,0.7537567155760245,0.9225647448409366,0.9016315875069429,0.9036719006382092,0.9292692608629332,0.9064753422659152,0.9449677975780338,0.8575202860998169],\"y\":[0.08983452026033757,0.06865072387009682,0.06581331833814019,0.059020685983168106,0.10038406504231773,0.13513082767046294,0.15753228351450702,0.17901522360868896,0.0677969554276115,0.0853641389769765,0.08447351869495082,0.06320508621419044,0.081765138915462,0.05003446358607354,0.11781155897807762],\"type\":\"scatter\",\"xaxis\":\"x\",\"yaxis\":\"y\"},{\"marker\":{\"color\":\"blue\"},\"mode\":\"markers\",\"showlegend\":false,\"x\":[0.7600627896713661,0.7847517884621303,0.7490826848446505,0.84070976794317,0.8345150673100612,0.7278812021424803,0.7514908706157155,0.6444373082271568,0.833003354593935,0.8920861861575633,0.72963560007202,0.7491636360069424,0.6890279125840671,0.8762354549213611,0.721817426957156],\"y\":[0.22648108838475195,0.2003036444905452,0.22229367911971856,0.17599863043373673,0.16965987298509091,0.23742735613186006,0.23501273058927177,0.25974348124703034,0.165945305985171,0.11611412367969458,0.23250464799393794,0.23234440551497432,0.2495231149055348,0.139687981641382,0.23683014967363],\"type\":\"scatter\",\"xaxis\":\"x2\",\"yaxis\":\"y2\"},{\"marker\":{\"color\":\"red\"},\"mode\":\"markers\",\"showlegend\":false,\"x\":[0.8476295037861844,0.8809204868385034,0.891342268091369,0.8984334244784401,0.8283997378185898,0.7583306592851404,0.7239995860791343,0.6806358594508058,0.8853366357115819,0.8573989055982615,0.8559228726391782,0.8890089436668168,0.8554509625413783,0.9017469507171677,0.7864722494046774],\"y\":[0.16582457985662363,0.1362890489823775,0.11983686895734741,0.11710725941537509,0.1800498860708873,0.21831374232727122,0.23633189525120463,0.23820809824234612,0.11773297409715126,0.15708521662283484,0.14535730825093593,0.13244761199974908,0.15039989398424936,0.12254488531728544,0.19641730776634378],\"type\":\"scatter\",\"xaxis\":\"x2\",\"yaxis\":\"y2\"},{\"marker\":{\"color\":\"blue\"},\"mode\":\"markers\",\"showlegend\":false,\"x\":[0.743250704990011,0.7568289837099766,0.7186628169653632,0.8270694713843876,0.8097143225324022,0.7023696720214545,0.7405604088698151,0.6120323827884911,0.7975660700817576,0.8685122598694401,0.6936581443259867,0.733381386899255,0.6637079084772654,0.8541667913303717,0.6933019323115326],\"y\":[0.2881248944043079,0.2671573107206864,0.2908877613335942,0.2389864784413012,0.2388380579156763,0.30240026838003514,0.2902932955258535,0.3104666902927045,0.24266538655654307,0.1764482772673249,0.30096483908237126,0.29127829278955353,0.3063829575734237,0.20699391954964386,0.29899034742181807],\"type\":\"scatter\",\"xaxis\":\"x3\",\"yaxis\":\"y3\"},{\"marker\":{\"color\":\"red\"},\"mode\":\"markers\",\"showlegend\":false,\"x\":[0.8314961011796804,0.8613954955040052,0.8688373354748171,0.8781097940960787,0.8049893003862266,0.7335756488047945,0.7067789909458768,0.654585271375087,0.8591640799916881,0.8375150938355913,0.8212207647606701,0.8716174825995954,0.8209123482232306,0.8871094296758468,0.7444823776301159],\"y\":[0.228028948580991,0.19946932433018413,0.18340690236558294,0.17725092332368042,0.25395558707726246,0.2780543119770507,0.2896289869156992,0.2889106775258407,0.17584617940191893,0.22136985418528562,0.213075520509666,0.19288467605249537,0.22162872251504756,0.17975313135874577,0.273112363677236],\"type\":\"scatter\",\"xaxis\":\"x3\",\"yaxis\":\"y3\"},{\"marker\":{\"color\":\"blue\"},\"mode\":\"markers\",\"showlegend\":false,\"x\":[0.7829735017764434,0.786693852232543,0.7536312285336734,0.8614841331724403,0.8330156367401892,0.7452755205202231,0.7876982631650119,0.656933540243459,0.8142922998025259,0.8671885921041353,0.7283522692494007,0.771522928803067,0.710889786436582,0.8729452535348283,0.7331235525618408],\"y\":[0.2877383158521656,0.27398500270198217,0.2987820291208862,0.23045487121724506,0.25159573445766487,0.30691495732261015,0.2792303454891232,0.318221834164995,0.2624641203010933,0.21651964992740655,0.309352992410927,0.2966795275717223,0.31076420734576177,0.21784211117256605,0.30467657293556816],\"type\":\"scatter\",\"xaxis\":\"x4\",\"yaxis\":\"y4\"},{\"marker\":{\"color\":\"red\"},\"mode\":\"markers\",\"showlegend\":false,\"x\":[0.8625507904998723,0.8773645397276588,0.878284187854377,0.8864907684461354,0.8401701166132498,0.7713767566215399,0.7394650985822894,0.6887936708973132,0.8560103166391525,0.8590463814460516,0.8259563645687754,0.8916471813458365,0.8264184107731567,0.9076163858664533,0.7692877342332601],\"y\":[0.22549171485303818,0.20597537530268467,0.2021159826469525,0.2026916645961148,0.251807051769176,0.27342212181973724,0.29777558186737413,0.3049279089495551,0.21294107280032393,0.22702565396427155,0.23592296353116507,0.19783950854586574,0.24711682564630832,0.179809417455314,0.2795615896464302],\"type\":\"scatter\",\"xaxis\":\"x4\",\"yaxis\":\"y4\"},{\"marker\":{\"color\":\"blue\"},\"mode\":\"markers\",\"showlegend\":false,\"x\":[0.7710978214542604,0.7357374585432137,0.703687883294231,0.7237632384068031,0.8473666035099109,0.691871060354209,0.8149231442417271,0.8100024884542393,0.7767151853313021,0.844337285221439,0.7291669805044085,0.7587472066940626,0.7424914328509927,0.7430472281854873,0.7564307206802986],\"y\":[0.1705494808594374,0.19380630224977938,0.20783496643493596,0.1974394412178873,0.12577606784449438,0.2115664876491491,0.14674225868810403,0.15039788040686625,0.17105704118062035,0.12756352004062219,0.1949745925358065,0.18093667872055896,0.18851936860764598,0.18787704730492932,0.18116310003712838],\"type\":\"scatter\",\"xaxis\":\"x5\",\"yaxis\":\"y5\"},{\"marker\":{\"color\":\"red\"},\"mode\":\"markers\",\"showlegend\":false,\"x\":[0.6788363729052334,0.7065142676692676,0.6181023618295536,0.7460171378196311,0.7056763498128251,0.6873253613292302,0.7273190550015054,0.8929834927881126,0.7120930173525392,0.7626093555106905,0.7377216675484729,0.6865789343365746,0.6451980795501793,0.7731790137668535,0.6806544774124913],\"y\":[0.20454035762292214,0.2088808769024365,0.231978369690211,0.18574590438984367,0.1890871499199275,0.2129005078220806,0.19210750837985485,0.09221802233956143,0.2034517229258333,0.17709135621248376,0.18720497896879534,0.21708891718482504,0.22947088237667823,0.17475002299006406,0.20955234177716694],\"type\":\"scatter\",\"xaxis\":\"x5\",\"yaxis\":\"y5\"},{\"marker\":{\"color\":\"blue\"},\"mode\":\"markers\",\"showlegend\":false,\"x\":[0.6865815032320189,0.6426317060538547,0.6039122940262699,0.6297652404370205,0.7823589848119369,0.5866446790994326,0.7404958358313682,0.7345695237526783,0.684778940303741,0.7799661006465968,0.634112858747726,0.6689505501670852,0.6513781980100052,0.6522683741766089,0.665117020448811],\"y\":[0.2533774910850227,0.2581307552787765,0.26833830556523464,0.26634741262298534,0.21020463127009115,0.27806906983970753,0.23370873642213114,0.2243609279892409,0.24440985956897762,0.19798631108553602,0.2663652150892228,0.25932126744978945,0.26038761764767593,0.2605089555126762,0.26171873405030055],\"type\":\"scatter\",\"xaxis\":\"x6\",\"yaxis\":\"y6\"},{\"marker\":{\"color\":\"red\"},\"mode\":\"markers\",\"showlegend\":false,\"x\":[0.6004080290410581,0.6123126924835915,0.5104455252888102,0.6584318498347206,0.6339604195521918,0.5838760901243846,0.6424056355938988,0.8420135975908071,0.6102448747098859,0.6777297711285768,0.6563258219262442,0.578578012663002,0.541053675330032,0.6859194030188752,0.5966120810540231],\"y\":[0.25235617582638376,0.27360019732033475,0.2725728073003938,0.2520335805677128,0.23519149634179848,0.2740911895010405,0.2571697054025622,0.15311419586033964,0.25929778515137947,0.24295358949015328,0.25750362703636326,0.2715941700526061,0.2744302409654007,0.24996151008673584,0.2674531898003176],\"type\":\"scatter\",\"xaxis\":\"x6\",\"yaxis\":\"y6\"},{\"marker\":{\"color\":\"blue\"},\"mode\":\"markers\",\"showlegend\":false,\"x\":[0.6689566837862809,0.6257658660974109,0.5756768911256921,0.6102577315005211,0.7615013019894111,0.5817187752583369,0.7342960932607127,0.7001445211124611,0.6494510737784657,0.7490564748749703,0.6114230171321315,0.6522744043748595,0.6318553182260349,0.6321339368767892,0.6484061255803893],\"y\":[0.30800564964276905,0.28979310478206355,0.30234199736053613,0.3088929189370506,0.27838466760115227,0.3132014220294562,0.27920419056061996,0.28836239054286916,0.30333782653968394,0.25915261833585024,0.31101906320780626,0.302157528584065,0.3070252756144527,0.302954481871299,0.31053502368834945],\"type\":\"scatter\",\"xaxis\":\"x7\",\"yaxis\":\"y7\"},{\"marker\":{\"color\":\"red\"},\"mode\":\"markers\",\"showlegend\":false,\"x\":[0.5858014986114429,0.5860420404257439,0.48617643758780726,0.6127343055366741,0.5898300977198282,0.5900659921671506,0.6233210836006937,0.8089253886504707,0.5594974312749744,0.6342262840694299,0.6381242252830996,0.5456152067683102,0.5085380222453504,0.6570618625901455,0.6041011486184616],\"y\":[0.28637789983152373,0.31120305652559327,0.2975934984105927,0.29733226163589505,0.28290066711945844,0.29982282803340304,0.29491906895031805,0.21421609554032953,0.3012182494959808,0.3035928835316504,0.30778259074642866,0.3017820498169092,0.3058648713559141,0.29643347794845176,0.2952004748166359],\"type\":\"scatter\",\"xaxis\":\"x7\",\"yaxis\":\"y7\"},{\"marker\":{\"color\":\"blue\"},\"mode\":\"markers\",\"showlegend\":false,\"x\":[0.707927741497155,0.6552482165320967,0.6097488708934639,0.6470075152327578,0.789179744843387,0.6210729776126207,0.7660099979073257,0.7334823736254825,0.6883751378076443,0.7642790609022201,0.6454801988393434,0.6816060315922648,0.6662561116181767,0.662321837550716,0.6868468336190428],\"y\":[0.31768429859485753,0.28929567642948384,0.30927664944488054,0.3134483488800377,0.291190371981257,0.3314885178459979,0.28212489410255054,0.2945913492475281,0.3111087901866504,0.27927354771725726,0.3237366493242837,0.31381536203415555,0.32157336363510086,0.3076143659582399,0.32323238539334803],\"type\":\"scatter\",\"xaxis\":\"x8\",\"yaxis\":\"y8\"},{\"marker\":{\"color\":\"red\"},\"mode\":\"markers\",\"showlegend\":false,\"x\":[0.6133348898984503,0.6169988309182711,0.5110964558055775,0.6285303606347226,0.6107006667085291,0.6230377140162494,0.6433826198854143,0.8108116977492532,0.5794954803056737,0.6710601765640093,0.684459031683507,0.5708073970321705,0.5486111651146919,0.6780387024269772,0.6451138342094171],\"y\":[0.2957595024021845,0.31837691253594214,0.31035165391149117,0.3046887648680292,0.2955796278903629,0.31588610764147557,0.3069904892119408,0.23939224809002158,0.3143501350384511,0.3164021684094339,0.3096509675108577,0.3143864470016504,0.32185163985198983,0.3106468012849351,0.31130030769316736],\"type\":\"scatter\",\"xaxis\":\"x8\",\"yaxis\":\"y8\"},{\"marker\":{\"color\":\"blue\"},\"mode\":\"markers\",\"showlegend\":false,\"x\":[0.8900980949274357,0.8948981646435507,0.8613942980328207,0.9319513598781867,0.936282339954052,0.8391595314083865,0.9046232163279039,0.8068024643282966,0.8239356475166675,0.9352121294797716,0.837401579465228,0.8811054959671076,0.8514556457883057,0.9053066199293018,0.8442735224806106],\"y\":[0.09396071328310486,0.08738507004050046,0.11157480185634092,0.06033501859905631,0.05682208124229973,0.13132114649039306,0.08282405268394424,0.15245192397716284,0.1356853078425715,0.057041149303396065,0.13233260171895064,0.1007787873780476,0.12262381315666464,0.08261222540343466,0.1277512030773252],\"type\":\"scatter\",\"xaxis\":\"x9\",\"yaxis\":\"y9\"},{\"marker\":{\"color\":\"red\"},\"mode\":\"markers\",\"showlegend\":false,\"x\":[0.9132368122528595,0.9617865484253206,0.9557954641559332,0.9727620807631184,0.9542222773562379,0.8827239074148259,0.8701460782132752,0.9412933543514499,0.9714934096861745,0.9579428219498729,0.8888355106229814,0.9757217481303343,0.9073215933951833,0.9530654342999869,0.9428469694800293],\"y\":[0.07510429056869038,0.035354392229531274,0.040096290537323824,0.025300128314789297,0.041895153876939935,0.10025605941828107,0.10926217417456258,0.0528236674973697,0.02652938087992264,0.03871976049071252,0.0926828331721057,0.022799645752332797,0.07972796849154269,0.0428259121035307,0.05177812112190749],\"type\":\"scatter\",\"xaxis\":\"x9\",\"yaxis\":\"y9\"},{\"marker\":{\"color\":\"blue\"},\"mode\":\"markers\",\"showlegend\":false,\"x\":[0.8368451532230515,0.8468318170605481,0.8074415822149881,0.9004147462617903,0.8994079823502675,0.7703638621885944,0.8363089935898658,0.726968404189825,0.7646927379846582,0.902641508761222,0.7737057854508852,0.8242331461729586,0.7876465885102873,0.8594057736877309,0.778161684941239],\"y\":[0.17275551063889588,0.1477960848076825,0.17790262242715635,0.11128627499553878,0.11512208311682304,0.2142366999395941,0.19098007480144796,0.23417536127471675,0.20090324514453187,0.1057111131009284,0.20740199315608512,0.1836772370748939,0.203963304357822,0.14827629039681994,0.20608029431774508],\"type\":\"scatter\",\"xaxis\":\"x10\",\"yaxis\":\"y10\"},{\"marker\":{\"color\":\"red\"},\"mode\":\"markers\",\"showlegend\":false,\"x\":[0.8689795031288182,0.9371422271288942,0.9266856264203683,0.953131776890955,0.9198599628854742,0.8168159003992592,0.8171222258698057,0.907173903700219,0.9526757138381625,0.9269280579768442,0.842490994552047,0.9527393038276551,0.8536253410893381,0.9249547684703361,0.9053727842055465],\"y\":[0.14833024520259264,0.07759935580267818,0.09002067498481063,0.05864822192310849,0.10152617457681719,0.18423983239025096,0.18504578259754104,0.11314686241491084,0.06027783756208774,0.09141566342074633,0.1486570249334162,0.06214289768988789,0.16470200003868937,0.09046379223077204,0.11170373534515753],\"type\":\"scatter\",\"xaxis\":\"x10\",\"yaxis\":\"y10\"},{\"marker\":{\"color\":\"blue\"},\"mode\":\"markers\",\"showlegend\":false,\"x\":[0.8118381855274571,0.8070850363149759,0.7747040954141486,0.8797271380684087,0.8781295433383675,0.7529048406331575,0.8362395139686034,0.6941606202666012,0.7327102175571276,0.8797731824344024,0.739781506470455,0.8058378210224718,0.7610833139457815,0.8339414201137167,0.7481027394179192],\"y\":[0.24182904523308718,0.22183416290912503,0.24504514296685576,0.16749881838802066,0.1788286364699706,0.26968122853825577,0.23208616301773005,0.2982410993472905,0.26410245867194465,0.1624961439289546,0.2817363334011845,0.24698781238194667,0.2692841159347573,0.2095668203766314,0.2766133596034992],\"type\":\"scatter\",\"xaxis\":\"x11\",\"yaxis\":\"y11\"},{\"marker\":{\"color\":\"red\"},\"mode\":\"markers\",\"showlegend\":false,\"x\":[0.8522630800849385,0.9160443524288797,0.9050386007560568,0.9369694071708099,0.897105451743887,0.7823404598044722,0.8006075262019317,0.8906237089767381,0.9385917404587393,0.9044311363025388,0.8055045105492382,0.9418071816110831,0.8211793978544655,0.9038782819621854,0.8761555240924265],\"y\":[0.21213550850756333,0.13382310355516835,0.15293732999998927,0.10523113284906715,0.16534229241273943,0.26115226089201937,0.23578584570585456,0.16948760688750417,0.10353577630786294,0.15477099892637838,0.21966818092161025,0.10161505736640304,0.25039112895021104,0.1504613030989275,0.18844100700661887],\"type\":\"scatter\",\"xaxis\":\"x11\",\"yaxis\":\"y11\"},{\"marker\":{\"color\":\"blue\"},\"mode\":\"markers\",\"name\":\"Walking\",\"x\":[0.8349173561905701,0.807546988153289,0.7868358446393539,0.8794652339603044,0.8908060260591356,0.7812823469640741,0.8664782603133597,0.7352739448741068,0.7485190966701195,0.8798663129046269,0.7681731309809434,0.8376351165290811,0.786055140275707,0.8398374487724841,0.7806307801593326],\"y\":[0.2520260151436284,0.2566956127550809,0.2619294997434032,0.19800120541245622,0.1956499120868189,0.2762162614053678,0.22920194965458754,0.29818591408838474,0.281140501509321,0.19195980062761436,0.2953781146094939,0.24793973849108183,0.280377052198106,0.2329508134373508,0.28369062537740924],\"type\":\"scatter\",\"xaxis\":\"x12\",\"yaxis\":\"y12\"},{\"marker\":{\"color\":\"red\"},\"mode\":\"markers\",\"name\":\"Running\",\"x\":[0.8821475633612901,0.9116575406211013,0.9095489208227949,0.9322219333649497,0.9110983086711173,0.8058786823375059,0.8147965742522439,0.8970226011226744,0.9332074295756738,0.9102977528717741,0.8080982275985308,0.9408230762775132,0.851848984319173,0.906703335641102,0.8913481124708686],\"y\":[0.20632472032260774,0.16814919661706196,0.17736443069597224,0.14123503684756847,0.1723555378314408,0.26840654740359454,0.24956138381732973,0.1908574276246825,0.13913211750053125,0.17481285133451901,0.24449094923640285,0.12815206609819232,0.24724093415855974,0.17902460003776896,0.20024957216119194],\"type\":\"scatter\",\"xaxis\":\"x12\",\"yaxis\":\"y12\"}],                        {\"template\":{\"data\":{\"bar\":[{\"error_x\":{\"color\":\"#2a3f5f\"},\"error_y\":{\"color\":\"#2a3f5f\"},\"marker\":{\"line\":{\"color\":\"#E5ECF6\",\"width\":0.5},\"pattern\":{\"fillmode\":\"overlay\",\"size\":10,\"solidity\":0.2}},\"type\":\"bar\"}],\"barpolar\":[{\"marker\":{\"line\":{\"color\":\"#E5ECF6\",\"width\":0.5},\"pattern\":{\"fillmode\":\"overlay\",\"size\":10,\"solidity\":0.2}},\"type\":\"barpolar\"}],\"carpet\":[{\"aaxis\":{\"endlinecolor\":\"#2a3f5f\",\"gridcolor\":\"white\",\"linecolor\":\"white\",\"minorgridcolor\":\"white\",\"startlinecolor\":\"#2a3f5f\"},\"baxis\":{\"endlinecolor\":\"#2a3f5f\",\"gridcolor\":\"white\",\"linecolor\":\"white\",\"minorgridcolor\":\"white\",\"startlinecolor\":\"#2a3f5f\"},\"type\":\"carpet\"}],\"choropleth\":[{\"colorbar\":{\"outlinewidth\":0,\"ticks\":\"\"},\"type\":\"choropleth\"}],\"contour\":[{\"colorbar\":{\"outlinewidth\":0,\"ticks\":\"\"},\"colorscale\":[[0.0,\"#0d0887\"],[0.1111111111111111,\"#46039f\"],[0.2222222222222222,\"#7201a8\"],[0.3333333333333333,\"#9c179e\"],[0.4444444444444444,\"#bd3786\"],[0.5555555555555556,\"#d8576b\"],[0.6666666666666666,\"#ed7953\"],[0.7777777777777778,\"#fb9f3a\"],[0.8888888888888888,\"#fdca26\"],[1.0,\"#f0f921\"]],\"type\":\"contour\"}],\"contourcarpet\":[{\"colorbar\":{\"outlinewidth\":0,\"ticks\":\"\"},\"type\":\"contourcarpet\"}],\"heatmap\":[{\"colorbar\":{\"outlinewidth\":0,\"ticks\":\"\"},\"colorscale\":[[0.0,\"#0d0887\"],[0.1111111111111111,\"#46039f\"],[0.2222222222222222,\"#7201a8\"],[0.3333333333333333,\"#9c179e\"],[0.4444444444444444,\"#bd3786\"],[0.5555555555555556,\"#d8576b\"],[0.6666666666666666,\"#ed7953\"],[0.7777777777777778,\"#fb9f3a\"],[0.8888888888888888,\"#fdca26\"],[1.0,\"#f0f921\"]],\"type\":\"heatmap\"}],\"heatmapgl\":[{\"colorbar\":{\"outlinewidth\":0,\"ticks\":\"\"},\"colorscale\":[[0.0,\"#0d0887\"],[0.1111111111111111,\"#46039f\"],[0.2222222222222222,\"#7201a8\"],[0.3333333333333333,\"#9c179e\"],[0.4444444444444444,\"#bd3786\"],[0.5555555555555556,\"#d8576b\"],[0.6666666666666666,\"#ed7953\"],[0.7777777777777778,\"#fb9f3a\"],[0.8888888888888888,\"#fdca26\"],[1.0,\"#f0f921\"]],\"type\":\"heatmapgl\"}],\"histogram\":[{\"marker\":{\"pattern\":{\"fillmode\":\"overlay\",\"size\":10,\"solidity\":0.2}},\"type\":\"histogram\"}],\"histogram2d\":[{\"colorbar\":{\"outlinewidth\":0,\"ticks\":\"\"},\"colorscale\":[[0.0,\"#0d0887\"],[0.1111111111111111,\"#46039f\"],[0.2222222222222222,\"#7201a8\"],[0.3333333333333333,\"#9c179e\"],[0.4444444444444444,\"#bd3786\"],[0.5555555555555556,\"#d8576b\"],[0.6666666666666666,\"#ed7953\"],[0.7777777777777778,\"#fb9f3a\"],[0.8888888888888888,\"#fdca26\"],[1.0,\"#f0f921\"]],\"type\":\"histogram2d\"}],\"histogram2dcontour\":[{\"colorbar\":{\"outlinewidth\":0,\"ticks\":\"\"},\"colorscale\":[[0.0,\"#0d0887\"],[0.1111111111111111,\"#46039f\"],[0.2222222222222222,\"#7201a8\"],[0.3333333333333333,\"#9c179e\"],[0.4444444444444444,\"#bd3786\"],[0.5555555555555556,\"#d8576b\"],[0.6666666666666666,\"#ed7953\"],[0.7777777777777778,\"#fb9f3a\"],[0.8888888888888888,\"#fdca26\"],[1.0,\"#f0f921\"]],\"type\":\"histogram2dcontour\"}],\"mesh3d\":[{\"colorbar\":{\"outlinewidth\":0,\"ticks\":\"\"},\"type\":\"mesh3d\"}],\"parcoords\":[{\"line\":{\"colorbar\":{\"outlinewidth\":0,\"ticks\":\"\"}},\"type\":\"parcoords\"}],\"pie\":[{\"automargin\":true,\"type\":\"pie\"}],\"scatter\":[{\"marker\":{\"colorbar\":{\"outlinewidth\":0,\"ticks\":\"\"}},\"type\":\"scatter\"}],\"scatter3d\":[{\"line\":{\"colorbar\":{\"outlinewidth\":0,\"ticks\":\"\"}},\"marker\":{\"colorbar\":{\"outlinewidth\":0,\"ticks\":\"\"}},\"type\":\"scatter3d\"}],\"scattercarpet\":[{\"marker\":{\"colorbar\":{\"outlinewidth\":0,\"ticks\":\"\"}},\"type\":\"scattercarpet\"}],\"scattergeo\":[{\"marker\":{\"colorbar\":{\"outlinewidth\":0,\"ticks\":\"\"}},\"type\":\"scattergeo\"}],\"scattergl\":[{\"marker\":{\"colorbar\":{\"outlinewidth\":0,\"ticks\":\"\"}},\"type\":\"scattergl\"}],\"scattermapbox\":[{\"marker\":{\"colorbar\":{\"outlinewidth\":0,\"ticks\":\"\"}},\"type\":\"scattermapbox\"}],\"scatterpolar\":[{\"marker\":{\"colorbar\":{\"outlinewidth\":0,\"ticks\":\"\"}},\"type\":\"scatterpolar\"}],\"scatterpolargl\":[{\"marker\":{\"colorbar\":{\"outlinewidth\":0,\"ticks\":\"\"}},\"type\":\"scatterpolargl\"}],\"scatterternary\":[{\"marker\":{\"colorbar\":{\"outlinewidth\":0,\"ticks\":\"\"}},\"type\":\"scatterternary\"}],\"surface\":[{\"colorbar\":{\"outlinewidth\":0,\"ticks\":\"\"},\"colorscale\":[[0.0,\"#0d0887\"],[0.1111111111111111,\"#46039f\"],[0.2222222222222222,\"#7201a8\"],[0.3333333333333333,\"#9c179e\"],[0.4444444444444444,\"#bd3786\"],[0.5555555555555556,\"#d8576b\"],[0.6666666666666666,\"#ed7953\"],[0.7777777777777778,\"#fb9f3a\"],[0.8888888888888888,\"#fdca26\"],[1.0,\"#f0f921\"]],\"type\":\"surface\"}],\"table\":[{\"cells\":{\"fill\":{\"color\":\"#EBF0F8\"},\"line\":{\"color\":\"white\"}},\"header\":{\"fill\":{\"color\":\"#C8D4E3\"},\"line\":{\"color\":\"white\"}},\"type\":\"table\"}]},\"layout\":{\"annotationdefaults\":{\"arrowcolor\":\"#2a3f5f\",\"arrowhead\":0,\"arrowwidth\":1},\"autotypenumbers\":\"strict\",\"coloraxis\":{\"colorbar\":{\"outlinewidth\":0,\"ticks\":\"\"}},\"colorscale\":{\"diverging\":[[0,\"#8e0152\"],[0.1,\"#c51b7d\"],[0.2,\"#de77ae\"],[0.3,\"#f1b6da\"],[0.4,\"#fde0ef\"],[0.5,\"#f7f7f7\"],[0.6,\"#e6f5d0\"],[0.7,\"#b8e186\"],[0.8,\"#7fbc41\"],[0.9,\"#4d9221\"],[1,\"#276419\"]],\"sequential\":[[0.0,\"#0d0887\"],[0.1111111111111111,\"#46039f\"],[0.2222222222222222,\"#7201a8\"],[0.3333333333333333,\"#9c179e\"],[0.4444444444444444,\"#bd3786\"],[0.5555555555555556,\"#d8576b\"],[0.6666666666666666,\"#ed7953\"],[0.7777777777777778,\"#fb9f3a\"],[0.8888888888888888,\"#fdca26\"],[1.0,\"#f0f921\"]],\"sequentialminus\":[[0.0,\"#0d0887\"],[0.1111111111111111,\"#46039f\"],[0.2222222222222222,\"#7201a8\"],[0.3333333333333333,\"#9c179e\"],[0.4444444444444444,\"#bd3786\"],[0.5555555555555556,\"#d8576b\"],[0.6666666666666666,\"#ed7953\"],[0.7777777777777778,\"#fb9f3a\"],[0.8888888888888888,\"#fdca26\"],[1.0,\"#f0f921\"]]},\"colorway\":[\"#636efa\",\"#EF553B\",\"#00cc96\",\"#ab63fa\",\"#FFA15A\",\"#19d3f3\",\"#FF6692\",\"#B6E880\",\"#FF97FF\",\"#FECB52\"],\"font\":{\"color\":\"#2a3f5f\"},\"geo\":{\"bgcolor\":\"white\",\"lakecolor\":\"white\",\"landcolor\":\"#E5ECF6\",\"showlakes\":true,\"showland\":true,\"subunitcolor\":\"white\"},\"hoverlabel\":{\"align\":\"left\"},\"hovermode\":\"closest\",\"mapbox\":{\"style\":\"light\"},\"paper_bgcolor\":\"white\",\"plot_bgcolor\":\"#E5ECF6\",\"polar\":{\"angularaxis\":{\"gridcolor\":\"white\",\"linecolor\":\"white\",\"ticks\":\"\"},\"bgcolor\":\"#E5ECF6\",\"radialaxis\":{\"gridcolor\":\"white\",\"linecolor\":\"white\",\"ticks\":\"\"}},\"scene\":{\"xaxis\":{\"backgroundcolor\":\"#E5ECF6\",\"gridcolor\":\"white\",\"gridwidth\":2,\"linecolor\":\"white\",\"showbackground\":true,\"ticks\":\"\",\"zerolinecolor\":\"white\"},\"yaxis\":{\"backgroundcolor\":\"#E5ECF6\",\"gridcolor\":\"white\",\"gridwidth\":2,\"linecolor\":\"white\",\"showbackground\":true,\"ticks\":\"\",\"zerolinecolor\":\"white\"},\"zaxis\":{\"backgroundcolor\":\"#E5ECF6\",\"gridcolor\":\"white\",\"gridwidth\":2,\"linecolor\":\"white\",\"showbackground\":true,\"ticks\":\"\",\"zerolinecolor\":\"white\"}},\"shapedefaults\":{\"line\":{\"color\":\"#2a3f5f\"}},\"ternary\":{\"aaxis\":{\"gridcolor\":\"white\",\"linecolor\":\"white\",\"ticks\":\"\"},\"baxis\":{\"gridcolor\":\"white\",\"linecolor\":\"white\",\"ticks\":\"\"},\"bgcolor\":\"#E5ECF6\",\"caxis\":{\"gridcolor\":\"white\",\"linecolor\":\"white\",\"ticks\":\"\"}},\"title\":{\"x\":0.05},\"xaxis\":{\"automargin\":true,\"gridcolor\":\"white\",\"linecolor\":\"white\",\"ticks\":\"\",\"title\":{\"standoff\":15},\"zerolinecolor\":\"white\",\"zerolinewidth\":2},\"yaxis\":{\"automargin\":true,\"gridcolor\":\"white\",\"linecolor\":\"white\",\"ticks\":\"\",\"title\":{\"standoff\":15},\"zerolinecolor\":\"white\",\"zerolinewidth\":2}}},\"xaxis\":{\"anchor\":\"y\",\"domain\":[0.0,0.2125]},\"yaxis\":{\"anchor\":\"x\",\"domain\":[0.7333333333333333,1.0],\"title\":{\"text\":\"X Axis\"}},\"xaxis2\":{\"anchor\":\"y2\",\"domain\":[0.2625,0.475]},\"yaxis2\":{\"anchor\":\"x2\",\"domain\":[0.7333333333333333,1.0]},\"xaxis3\":{\"anchor\":\"y3\",\"domain\":[0.525,0.7375]},\"yaxis3\":{\"anchor\":\"x3\",\"domain\":[0.7333333333333333,1.0]},\"xaxis4\":{\"anchor\":\"y4\",\"domain\":[0.7875,1.0]},\"yaxis4\":{\"anchor\":\"x4\",\"domain\":[0.7333333333333333,1.0]},\"xaxis5\":{\"anchor\":\"y5\",\"domain\":[0.0,0.2125]},\"yaxis5\":{\"anchor\":\"x5\",\"domain\":[0.36666666666666664,0.6333333333333333],\"title\":{\"text\":\"Y Axis\"}},\"xaxis6\":{\"anchor\":\"y6\",\"domain\":[0.2625,0.475]},\"yaxis6\":{\"anchor\":\"x6\",\"domain\":[0.36666666666666664,0.6333333333333333]},\"xaxis7\":{\"anchor\":\"y7\",\"domain\":[0.525,0.7375]},\"yaxis7\":{\"anchor\":\"x7\",\"domain\":[0.36666666666666664,0.6333333333333333]},\"xaxis8\":{\"anchor\":\"y8\",\"domain\":[0.7875,1.0]},\"yaxis8\":{\"anchor\":\"x8\",\"domain\":[0.36666666666666664,0.6333333333333333]},\"xaxis9\":{\"anchor\":\"y9\",\"domain\":[0.0,0.2125],\"title\":{\"text\":\"Dimension 3\"}},\"yaxis9\":{\"anchor\":\"x9\",\"domain\":[0.0,0.26666666666666666],\"title\":{\"text\":\"Z Axis\"}},\"xaxis10\":{\"anchor\":\"y10\",\"domain\":[0.2625,0.475],\"title\":{\"text\":\"Dimension 4\"}},\"yaxis10\":{\"anchor\":\"x10\",\"domain\":[0.0,0.26666666666666666]},\"xaxis11\":{\"anchor\":\"y11\",\"domain\":[0.525,0.7375],\"title\":{\"text\":\"Dimension 5\"}},\"yaxis11\":{\"anchor\":\"x11\",\"domain\":[0.0,0.26666666666666666]},\"xaxis12\":{\"anchor\":\"y12\",\"domain\":[0.7875,1.0],\"title\":{\"text\":\"Dimension 6\"}},\"yaxis12\":{\"anchor\":\"x12\",\"domain\":[0.0,0.26666666666666666]},\"title\":{\"text\":\"Permutation entropy (x axis) vs Complexity (y axis) for - Walking and Running activities (signal length =4096, embedded delay = 1)\"}},                        {\"responsive\": true}                    ).then(function(){\n",
       "                            \n",
       "var gd = document.getElementById('d57a9e93-d6f3-4529-9dc4-bdaab89026a7');\n",
       "var x = new MutationObserver(function (mutations, observer) {{\n",
       "        var display = window.getComputedStyle(gd).display;\n",
       "        if (!display || display === 'none') {{\n",
       "            console.log([gd, 'removed!']);\n",
       "            Plotly.purge(gd);\n",
       "            observer.disconnect();\n",
       "        }}\n",
       "}});\n",
       "\n",
       "// Listen for the removal of the full notebook cells\n",
       "var notebookContainer = gd.closest('#notebook-container');\n",
       "if (notebookContainer) {{\n",
       "    x.observe(notebookContainer, {childList: true});\n",
       "}}\n",
       "\n",
       "// Listen for the clearing of the current output cell\n",
       "var outputEl = gd.closest('.output');\n",
       "if (outputEl) {{\n",
       "    x.observe(outputEl, {childList: true});\n",
       "}}\n",
       "\n",
       "                        })                };                });            </script>        </div>"
      ]
     },
     "metadata": {},
     "output_type": "display_data"
    }
   ],
   "source": [
    "import plotly.graph_objects as go\n",
    "from plotly.subplots import make_subplots\n",
    "\n",
    "fig = make_subplots(rows=3, cols=4)\n",
    "\n",
    "# Signal length = 4096 and delay = 1\n",
    "# Activities running and walking\n",
    "plot3_df = df[(df['Signal_Length']==4096)&(df['Delay']==1)&(df['Activity'].isin(['walking','running']))]\n",
    "\n",
    "\n",
    "fig1 = plot3_df[(plot3_df['Dimension']==3)&(plot3_df['Accelerometer_Axis']=='x')&(plot3_df['Activity']=='walking')]\n",
    "fig1_1 = plot3_df[(plot3_df['Dimension']==3)&(plot3_df['Accelerometer_Axis']=='x')&(plot3_df['Activity']=='running')]\n",
    "fig.add_trace(go.Scatter(x=fig1['Permutation_Entropy'], y=fig1['Complexity'], mode=\"markers\", marker_color='blue', showlegend=False),row=1, col=1)\n",
    "fig.add_trace(go.Scatter(x=fig1_1['Permutation_Entropy'], y=fig1_1['Complexity'], mode=\"markers\", marker_color='red', showlegend=False),row=1, col=1)\n",
    "\n",
    "fig2 = plot3_df[(plot3_df['Dimension']==4)&(plot3_df['Accelerometer_Axis']=='x')&(plot3_df['Activity']=='walking')]\n",
    "fig2_1 = plot3_df[(plot3_df['Dimension']==4)&(plot3_df['Accelerometer_Axis']=='x')&(plot3_df['Activity']=='running')]\n",
    "fig.add_trace(go.Scatter(x=fig2['Permutation_Entropy'], y=fig2['Complexity'], mode=\"markers\", marker_color='blue', showlegend=False),row=1, col=2)\n",
    "fig.add_trace(go.Scatter(x=fig2_1['Permutation_Entropy'], y=fig2_1['Complexity'], mode=\"markers\", marker_color='red', showlegend=False),row=1, col=2)\n",
    "\n",
    "fig3 = plot3_df[(plot3_df['Dimension']==5)&(plot3_df['Accelerometer_Axis']=='x')&(plot3_df['Activity']=='walking')]\n",
    "fig3_1 = plot3_df[(plot3_df['Dimension']==5)&(plot3_df['Accelerometer_Axis']=='x')&(plot3_df['Activity']=='running')]\n",
    "fig.add_trace(go.Scatter(x=fig3['Permutation_Entropy'], y=fig3['Complexity'], mode=\"markers\", marker_color='blue', showlegend=False),row=1, col=3)\n",
    "fig.add_trace(go.Scatter(x=fig3_1['Permutation_Entropy'], y=fig3_1['Complexity'], mode=\"markers\", marker_color='red', showlegend=False),row=1, col=3)\n",
    "\n",
    "fig4 = plot3_df[(plot3_df['Dimension']==6)&(plot3_df['Accelerometer_Axis']=='x')&(plot3_df['Activity']=='walking')]\n",
    "fig4_1 = plot3_df[(plot3_df['Dimension']==6)&(plot3_df['Accelerometer_Axis']=='x')&(plot3_df['Activity']=='running')]\n",
    "fig.add_trace(go.Scatter(x=fig4['Permutation_Entropy'], y=fig4['Complexity'], mode=\"markers\", marker_color='blue', showlegend=False),row=1, col=4)\n",
    "fig.add_trace(go.Scatter(x=fig4_1['Permutation_Entropy'], y=fig4_1['Complexity'], mode=\"markers\", marker_color='red', showlegend=False),row=1, col=4)\n",
    "\n",
    "\n",
    "fig5 = plot3_df[(plot3_df['Dimension']==3)&(plot3_df['Accelerometer_Axis']=='y')&(plot3_df['Activity']=='walking')]\n",
    "fig5_1 = plot3_df[(plot3_df['Dimension']==3)&(plot3_df['Accelerometer_Axis']=='y')&(plot3_df['Activity']=='running')]\n",
    "fig.add_trace(go.Scatter(x=fig5['Permutation_Entropy'], y=fig5['Complexity'], mode=\"markers\", marker_color='blue', showlegend=False),row=2, col=1)\n",
    "fig.add_trace(go.Scatter(x=fig5_1['Permutation_Entropy'], y=fig5_1['Complexity'], mode=\"markers\", marker_color='red', showlegend=False),row=2, col=1)\n",
    "\n",
    "fig6 = plot3_df[(plot3_df['Dimension']==4)&(plot3_df['Accelerometer_Axis']=='y')&(plot3_df['Activity']=='walking')]\n",
    "fig6_1 = plot3_df[(plot3_df['Dimension']==4)&(plot3_df['Accelerometer_Axis']=='y')&(plot3_df['Activity']=='running')]\n",
    "fig.add_trace(go.Scatter(x=fig6['Permutation_Entropy'], y=fig6['Complexity'], mode=\"markers\", marker_color='blue', showlegend=False),row=2, col=2)\n",
    "fig.add_trace(go.Scatter(x=fig6_1['Permutation_Entropy'], y=fig6_1['Complexity'], mode=\"markers\", marker_color='red', showlegend=False),row=2, col=2)\n",
    "\n",
    "fig7 = plot3_df[(plot3_df['Dimension']==5)&(plot3_df['Accelerometer_Axis']=='y')&(plot3_df['Activity']=='walking')]\n",
    "fig7_1 = plot3_df[(plot3_df['Dimension']==5)&(plot3_df['Accelerometer_Axis']=='y')&(plot3_df['Activity']=='running')]\n",
    "fig.add_trace(go.Scatter(x=fig7['Permutation_Entropy'], y=fig7['Complexity'], mode=\"markers\", marker_color='blue', showlegend=False),row=2, col=3)\n",
    "fig.add_trace(go.Scatter(x=fig7_1['Permutation_Entropy'], y=fig7_1['Complexity'], mode=\"markers\", marker_color='red', showlegend=False),row=2, col=3)\n",
    "\n",
    "fig8 = plot3_df[(plot3_df['Dimension']==6)&(plot3_df['Accelerometer_Axis']=='y')&(plot3_df['Activity']=='walking')]\n",
    "fig8_1 = plot3_df[(plot3_df['Dimension']==6)&(plot3_df['Accelerometer_Axis']=='y')&(plot3_df['Activity']=='running')]\n",
    "fig.add_trace(go.Scatter(x=fig8['Permutation_Entropy'], y=fig8['Complexity'], mode=\"markers\", marker_color='blue', showlegend=False),row=2, col=4)\n",
    "fig.add_trace(go.Scatter(x=fig8_1['Permutation_Entropy'], y=fig8_1['Complexity'], mode=\"markers\", marker_color='red', showlegend=False),row=2, col=4)\n",
    "\n",
    "\n",
    "\n",
    "fig9 = plot3_df[(plot3_df['Dimension']==3)&(plot3_df['Accelerometer_Axis']=='z')&(plot3_df['Activity']=='walking')]\n",
    "fig9_1 = plot3_df[(plot3_df['Dimension']==3)&(plot3_df['Accelerometer_Axis']=='z')&(plot3_df['Activity']=='running')]\n",
    "fig.add_trace(go.Scatter(x=fig9['Permutation_Entropy'], y=fig9['Complexity'], mode=\"markers\", marker_color='blue', showlegend=False),row=3, col=1)\n",
    "fig.add_trace(go.Scatter(x=fig9_1['Permutation_Entropy'], y=fig9_1['Complexity'], mode=\"markers\", marker_color='red', showlegend=False),row=3, col=1)\n",
    "\n",
    "fig10 = plot3_df[(plot3_df['Dimension']==4)&(plot3_df['Accelerometer_Axis']=='z')&(plot3_df['Activity']=='walking')]\n",
    "fig10_1 = plot3_df[(plot3_df['Dimension']==4)&(plot3_df['Accelerometer_Axis']=='z')&(plot3_df['Activity']=='running')]\n",
    "fig.add_trace(go.Scatter(x=fig10['Permutation_Entropy'], y=fig10['Complexity'], mode=\"markers\", marker_color='blue', showlegend=False),row=3, col=2)\n",
    "fig.add_trace(go.Scatter(x=fig10_1['Permutation_Entropy'], y=fig10_1['Complexity'], mode=\"markers\", marker_color='red', showlegend=False),row=3, col=2)\n",
    "\n",
    "fig11 = plot3_df[(plot3_df['Dimension']==5)&(plot3_df['Accelerometer_Axis']=='z')&(plot3_df['Activity']=='walking')]\n",
    "fig11_1 = plot3_df[(plot3_df['Dimension']==5)&(plot3_df['Accelerometer_Axis']=='z')&(plot3_df['Activity']=='running')]\n",
    "fig.add_trace(go.Scatter(x=fig11['Permutation_Entropy'], y=fig11['Complexity'], mode=\"markers\", marker_color='blue', showlegend=False),row=3, col=3)\n",
    "fig.add_trace(go.Scatter(x=fig11_1['Permutation_Entropy'], y=fig11_1['Complexity'], mode=\"markers\", marker_color='red', showlegend=False),row=3, col=3)\n",
    "\n",
    "fig12 = plot3_df[(plot3_df['Dimension']==6)&(plot3_df['Accelerometer_Axis']=='z')&(plot3_df['Activity']=='walking')]\n",
    "fig12_1 = plot3_df[(plot3_df['Dimension']==6)&(plot3_df['Accelerometer_Axis']=='z')&(plot3_df['Activity']=='running')]\n",
    "fig.add_trace(go.Scatter(x=fig12['Permutation_Entropy'], y=fig12['Complexity'], mode=\"markers\", marker_color='blue', name='Walking'),row=3, col=4)\n",
    "fig.add_trace(go.Scatter(x=fig12_1['Permutation_Entropy'], y=fig12_1['Complexity'], mode=\"markers\", marker_color='red', name='Running'),row=3, col=4)\n",
    "\n",
    "\n",
    "# Update xaxis properties\n",
    "fig.update_xaxes(title_text=\"Dimension 3\", row=3, col=1)\n",
    "fig.update_xaxes(title_text=\"Dimension 4\", row=3, col=2)\n",
    "fig.update_xaxes(title_text=\"Dimension 5\", row=3, col=3)\n",
    "fig.update_xaxes(title_text=\"Dimension 6\", row=3, col=4)\n",
    "\n",
    "# # Update yaxis properties\n",
    "fig.update_yaxes(title_text=\"X Axis\", row=1, col=1)\n",
    "fig.update_yaxes(title_text=\"Y Axis\", row=2, col=1)\n",
    "fig.update_yaxes(title_text=\"Z Axis\", row=3, col=1)\n",
    "\n",
    "fig.update_layout(title_text = \"Permutation entropy (x axis) vs Complexity (y axis) for - Walking and Running activities (signal length =4096, embedded delay = 1)\")\n",
    "\n",
    "fig.show()"
   ]
  },
  {
   "cell_type": "markdown",
   "metadata": {},
   "source": [
    "> In above figure, across all graphs, **x axis represents Permutation Entropy, and y axis represents Complexity** ."
   ]
  },
  {
   "cell_type": "markdown",
   "metadata": {},
   "source": [
    "## Task 2.4  Plotting Permutation entropy vs Complexity for Climbing up and Climbing down activity in subjects. (signal length =4096, embedded delay = 1 along data of axis x,y and z)"
   ]
  },
  {
   "cell_type": "code",
   "execution_count": 21,
   "metadata": {},
   "outputs": [
    {
     "data": {
      "application/vnd.plotly.v1+json": {
       "config": {
        "plotlyServerURL": "https://plot.ly"
       },
       "data": [
        {
         "marker": {
          "color": "blue"
         },
         "mode": "markers",
         "showlegend": false,
         "type": "scatter",
         "x": [
          0.838023386603512,
          0.857310015364552,
          0.8848567298227434,
          0.9017199709690839,
          0.8714934346388941,
          0.8069790011448966,
          0.7804008271057196,
          0.728338267048828,
          0.8669382274984839,
          0.8891484357245724,
          0.7859076509301717,
          0.8344130873648693,
          0.7949950350745129,
          0.904892162592648,
          0.759057303090126
         ],
         "xaxis": "x",
         "y": [
          0.13210378297043984,
          0.11844411932143792,
          0.09842353130301751,
          0.08522767757222419,
          0.10773192631135531,
          0.15204076727349994,
          0.1692055066998176,
          0.1972799303792229,
          0.11166875113053229,
          0.09512270235750776,
          0.1652266501201932,
          0.13402524875940502,
          0.16005720659267667,
          0.0824583672373841,
          0.1811539368079669
         ],
         "yaxis": "y"
        },
        {
         "marker": {
          "color": "red"
         },
         "mode": "markers",
         "showlegend": false,
         "type": "scatter",
         "x": [
          0.7977255711375275,
          0.896242831839856,
          0.87108962067002,
          0.8825565360761064,
          0.916854823699659,
          0.8402988249686103,
          0.8673892703478027,
          0.748884559880869,
          0.8617591093788867,
          0.9134168689783716,
          0.8317070590024903,
          0.8724771663583257,
          0.7992514048677564,
          0.8958880794246341,
          0.8440473814521339
         ],
         "xaxis": "x",
         "y": [
          0.15801486569479473,
          0.08976292208899031,
          0.10863817886319692,
          0.10010094103410853,
          0.07332716538942718,
          0.13044026083195878,
          0.11116168014678843,
          0.1868724836268214,
          0.11541142216202736,
          0.07607813328326264,
          0.13621381468303137,
          0.10771695676998513,
          0.15744656884120609,
          0.08992244724609458,
          0.12794252140650636
         ],
         "yaxis": "y"
        },
        {
         "marker": {
          "color": "blue"
         },
         "mode": "markers",
         "showlegend": false,
         "type": "scatter",
         "x": [
          0.7712595480799473,
          0.7958220354797095,
          0.829858814932502,
          0.8525998639019498,
          0.8179779838330388,
          0.7320290341005563,
          0.6927805542540367,
          0.6312812453003499,
          0.807306504241246,
          0.8367317826417778,
          0.7060475199474758,
          0.7629675001602966,
          0.7170811655170587,
          0.8536525358953246,
          0.6712835724601405
         ],
         "xaxis": "x2",
         "y": [
          0.20523676740544702,
          0.1966471121567936,
          0.16633849767746384,
          0.15754834401795065,
          0.17646237905338075,
          0.22775407475499235,
          0.2589664874283025,
          0.26376082262864375,
          0.1820001594795672,
          0.1621456887922241,
          0.23877128829673275,
          0.2231189698019418,
          0.23287092089693115,
          0.16152060759213493,
          0.253954938132134
         ],
         "yaxis": "y2"
        },
        {
         "marker": {
          "color": "red"
         },
         "mode": "markers",
         "showlegend": false,
         "type": "scatter",
         "x": [
          0.7195322316343692,
          0.8428239061813663,
          0.8146013010146025,
          0.822986677763697,
          0.8767769288798691,
          0.7742867428221789,
          0.802694197611045,
          0.6574288966539954,
          0.7988572529181863,
          0.872152675790517,
          0.763478480258805,
          0.8087079409788105,
          0.7211752224452759,
          0.8365238877191397,
          0.7808435382056141
         ],
         "xaxis": "x2",
         "y": [
          0.24106806618046325,
          0.17068013089855288,
          0.1876960385489445,
          0.18948908780527998,
          0.13333837068025714,
          0.20460465829104374,
          0.2063432524567726,
          0.2570202690423927,
          0.20008507531469935,
          0.13242196064128534,
          0.21133115094151414,
          0.200709813355878,
          0.23291396176608542,
          0.18536076432464343,
          0.20221776909459574
         ],
         "yaxis": "y2"
        },
        {
         "marker": {
          "color": "blue"
         },
         "mode": "markers",
         "showlegend": false,
         "type": "scatter",
         "x": [
          0.7360461688662038,
          0.7665374654015421,
          0.7974031408529656,
          0.8248303969622365,
          0.7871712791647226,
          0.7017091825001037,
          0.6918400579336762,
          0.6024445393545561,
          0.7706417108927153,
          0.8051650801402233,
          0.673137562743478,
          0.7523265110770083,
          0.6788877344003933,
          0.8307333412674477,
          0.6410561661283019
         ],
         "xaxis": "x3",
         "y": [
          0.27159454887532236,
          0.26747330156869975,
          0.23568475859759427,
          0.23066954421342717,
          0.24693520316435286,
          0.2915273648324165,
          0.30048733981545395,
          0.30835979725471613,
          0.2540595149492253,
          0.2351182966870933,
          0.30001256931823894,
          0.27581362728553205,
          0.2982659966731849,
          0.2324079141781609,
          0.3091187895907514
         ],
         "yaxis": "y3"
        },
        {
         "marker": {
          "color": "red"
         },
         "mode": "markers",
         "showlegend": false,
         "type": "scatter",
         "x": [
          0.6961969876332031,
          0.8222878782706134,
          0.7878827274477771,
          0.804775564446538,
          0.8516592415339306,
          0.7413251834388909,
          0.7964948066256268,
          0.6348049496144265,
          0.7702728194068603,
          0.8443304706557516,
          0.7381053004094197,
          0.7996292972505331,
          0.6895347035714167,
          0.8272026562723723,
          0.7498944816234647
         ],
         "xaxis": "x3",
         "y": [
          0.3003582828864494,
          0.23732932500871867,
          0.25684971304362186,
          0.2549345228502727,
          0.2002685126615017,
          0.27347915105884135,
          0.25793861558156955,
          0.30365198598279497,
          0.274115289438905,
          0.2011005415324856,
          0.26943710467962056,
          0.25416341134342757,
          0.2939253867300894,
          0.24303282425665038,
          0.2685020144431305
         ],
         "yaxis": "y3"
        },
        {
         "marker": {
          "color": "blue"
         },
         "mode": "markers",
         "showlegend": false,
         "type": "scatter",
         "x": [
          0.7618192907263117,
          0.7962762157838223,
          0.8097779094666752,
          0.8500711173404168,
          0.8052825068658525,
          0.7361881034136075,
          0.7345373977243291,
          0.6376826872753957,
          0.7861971416388653,
          0.8182004113161611,
          0.7093823920903144,
          0.7844919705118079,
          0.7101462259982367,
          0.8599816233341507,
          0.6792755203523191
         ],
         "xaxis": "x4",
         "y": [
          0.28154546118487267,
          0.2736341376447581,
          0.2573077177597293,
          0.23537440136099802,
          0.2656439837473223,
          0.30134978863192163,
          0.3030214491305697,
          0.3237395530117928,
          0.27518906923668196,
          0.2616882305188919,
          0.3083765343393041,
          0.2834447552359921,
          0.3114147506744545,
          0.23448599469027975,
          0.3205488246379318
         ],
         "yaxis": "y4"
        },
        {
         "marker": {
          "color": "red"
         },
         "mode": "markers",
         "showlegend": false,
         "type": "scatter",
         "x": [
          0.7357156604306082,
          0.8508046947390404,
          0.8105625967481529,
          0.842402055753019,
          0.8597256819827158,
          0.7667600214294694,
          0.8324945572364559,
          0.6740190350453981,
          0.80352540603291,
          0.8531128643292978,
          0.7671040127529886,
          0.8318173399431295,
          0.7207902657663532,
          0.8694474261284575,
          0.7743529267310929
         ],
         "xaxis": "x4",
         "y": [
          0.3048584125581587,
          0.23991109613272468,
          0.2708668490113195,
          0.24869209536490694,
          0.2282669572982283,
          0.28775932987295494,
          0.25623525335705605,
          0.31272790977840276,
          0.27894233348130115,
          0.22871139476651717,
          0.2740608496048447,
          0.2542441973467361,
          0.30721052210305183,
          0.22529980972421515,
          0.27945977189029325
         ],
         "yaxis": "y4"
        },
        {
         "marker": {
          "color": "blue"
         },
         "mode": "markers",
         "showlegend": false,
         "type": "scatter",
         "x": [
          0.7633313628486065,
          0.7586382561284981,
          0.733529858220782,
          0.8124389502220964,
          0.8098871811783362,
          0.7132298147849545,
          0.7655707496242639,
          0.8687057132500838,
          0.7365227151583931,
          0.7865191461310309,
          0.7594615182588188,
          0.7765641957736175,
          0.7648723909737917,
          0.7756011445210248,
          0.7393262870524582
         ],
         "xaxis": "x5",
         "y": [
          0.17696508192737842,
          0.18143074907313708,
          0.19493357595451713,
          0.14907549730962097,
          0.1503320622233603,
          0.2036428533112721,
          0.1775125112697776,
          0.11003728010598077,
          0.19297665186972887,
          0.16498431162834257,
          0.1798269122716885,
          0.17109610893286914,
          0.1772155874145823,
          0.16816238938112646,
          0.19185796707056188
         ],
         "yaxis": "y5"
        },
        {
         "marker": {
          "color": "red"
         },
         "mode": "markers",
         "showlegend": false,
         "type": "scatter",
         "x": [
          0.8237212106475056,
          0.8377372060397184,
          0.7836863453258843,
          0.7992625293468753,
          0.8552914739152294,
          0.7848451205391219,
          0.8051053222369764,
          0.85770551735834,
          0.785239993048889,
          0.8470755543374708,
          0.8123032363929255,
          0.8247891018159423,
          0.7986213932050886,
          0.7989929524924755,
          0.8243516582564973
         ],
         "xaxis": "x5",
         "y": [
          0.14178962652436947,
          0.132318482060379,
          0.1664467399498572,
          0.15752593696913494,
          0.12006064874637154,
          0.16629822625502225,
          0.1537195300563403,
          0.1182890329250057,
          0.16602767095607499,
          0.12423911919304265,
          0.1491154493050423,
          0.14061097245171336,
          0.15756766476480116,
          0.15769470705295402,
          0.14124600853050048
         ],
         "yaxis": "y5"
        },
        {
         "marker": {
          "color": "blue"
         },
         "mode": "markers",
         "showlegend": false,
         "type": "scatter",
         "x": [
          0.6780177251462861,
          0.6701264119994824,
          0.6346888771874807,
          0.732166884783361,
          0.7352608287289737,
          0.61425822165147,
          0.6756217339881414,
          0.8067360268014687,
          0.6380743309346951,
          0.7049357274420368,
          0.669621241576002,
          0.690926542749277,
          0.6796733367380208,
          0.6985495406589141,
          0.6459011875962616
         ],
         "xaxis": "x6",
         "y": [
          0.24745906926294695,
          0.24941406973697763,
          0.2575504761990312,
          0.2215966353906277,
          0.22047109703753692,
          0.2731044488808248,
          0.26010872302886656,
          0.18022810856680826,
          0.25045382620196394,
          0.2344481857953966,
          0.2542629036464054,
          0.2520532327214587,
          0.24952783774963033,
          0.24036278523059482,
          0.2640368922152565
         ],
         "yaxis": "y6"
        },
        {
         "marker": {
          "color": "red"
         },
         "mode": "markers",
         "showlegend": false,
         "type": "scatter",
         "x": [
          0.7529871940490351,
          0.7691637650192479,
          0.7007657981782859,
          0.7216357373605196,
          0.7932668040365276,
          0.701068117832602,
          0.7218115113512574,
          0.7973519144885541,
          0.7038701105380911,
          0.7869903839784641,
          0.7386522447527668,
          0.7537599904321135,
          0.7183264471327329,
          0.7164049162340267,
          0.7502067794987064
         ],
         "xaxis": "x6",
         "y": [
          0.21906720848056133,
          0.21940282366367783,
          0.24497733473065136,
          0.23956456942042947,
          0.19781126564227564,
          0.24897229311671404,
          0.2455926559866204,
          0.18728721280299143,
          0.23991252242453767,
          0.19631516170262672,
          0.22648745702351106,
          0.22349593910274454,
          0.24335893348714668,
          0.25362166500180455,
          0.2289117083708295
         ],
         "yaxis": "y6"
        },
        {
         "marker": {
          "color": "blue"
         },
         "mode": "markers",
         "showlegend": false,
         "type": "scatter",
         "x": [
          0.6475972482101183,
          0.6389222683881481,
          0.6070004336708976,
          0.694143627145799,
          0.7024724296079226,
          0.6080013646192218,
          0.6760148456673573,
          0.7738462189145443,
          0.5975664940090257,
          0.669171518047072,
          0.6378937431335504,
          0.6706586173108673,
          0.6468525807483713,
          0.6708377947519634,
          0.6214806619716645
         ],
         "xaxis": "x7",
         "y": [
          0.2985555261673916,
          0.2941347291938514,
          0.2942109715550579,
          0.27917877861869533,
          0.2753223305656355,
          0.3107920587943132,
          0.29425762181435006,
          0.24485010115628555,
          0.28963950451472026,
          0.29105547978898516,
          0.309911727582861,
          0.30246715683693065,
          0.30480122458999603,
          0.29500392351177007,
          0.3128831816018335
         ],
         "yaxis": "y7"
        },
        {
         "marker": {
          "color": "red"
         },
         "mode": "markers",
         "showlegend": false,
         "type": "scatter",
         "x": [
          0.7288554101498109,
          0.7436575162429666,
          0.6754370021609667,
          0.7070180307782138,
          0.7614968153672732,
          0.6783248517655436,
          0.7137950366096869,
          0.7621440845773911,
          0.6756968075106148,
          0.7608871221508033,
          0.7076178227625594,
          0.7318104489312696,
          0.6970635142576436,
          0.7274367996685422,
          0.7252223176326646
         ],
         "xaxis": "x7",
         "y": [
          0.2782767168801829,
          0.28675432075237367,
          0.2996533235790356,
          0.28776524498806927,
          0.27203897312137965,
          0.30603335935196774,
          0.2907764564706744,
          0.2556266686196999,
          0.296764776906593,
          0.26025816034336346,
          0.2890412375476791,
          0.28238103310466234,
          0.30259176598122156,
          0.28681639551867133,
          0.29329791739159655
         ],
         "yaxis": "y7"
        },
        {
         "marker": {
          "color": "blue"
         },
         "mode": "markers",
         "showlegend": false,
         "type": "scatter",
         "x": [
          0.6746067459445733,
          0.6713030096696747,
          0.6346702348833492,
          0.7154809567996461,
          0.7246813924124094,
          0.6565056752247371,
          0.7083109008000322,
          0.7853456405563775,
          0.6171853391179072,
          0.7007233133002737,
          0.6766477130328904,
          0.7140114740415494,
          0.6833908431088151,
          0.7049544766712977,
          0.6624760727236465
         ],
         "xaxis": "x8",
         "y": [
          0.3127208964754158,
          0.2957275325914132,
          0.3017905433199277,
          0.2887217981825589,
          0.2835055234927045,
          0.31968931801741785,
          0.30262602846640996,
          0.2669776942483348,
          0.30197742329923805,
          0.2975170223354871,
          0.3220025542831784,
          0.30112712300078787,
          0.31409730802410357,
          0.30131444900550086,
          0.3237623236996839
         ],
         "yaxis": "y8"
        },
        {
         "marker": {
          "color": "red"
         },
         "mode": "markers",
         "showlegend": false,
         "type": "scatter",
         "x": [
          0.7576415451777933,
          0.7826670199380221,
          0.7128192589406196,
          0.7411888325451715,
          0.7915963881078291,
          0.7194075163931943,
          0.7606349664608119,
          0.7826900908005935,
          0.7125771152820333,
          0.7855727871379766,
          0.737460008723161,
          0.7622451328590293,
          0.734026359475291,
          0.7667720054056056,
          0.7641636704134579
         ],
         "xaxis": "x8",
         "y": [
          0.29030569930867434,
          0.28663094187356297,
          0.3034488308657269,
          0.293721187535352,
          0.2822635443917875,
          0.312330357761089,
          0.28333069387796095,
          0.27117379097033195,
          0.3056221459073229,
          0.273575836501125,
          0.3004320242558768,
          0.2858741418765959,
          0.3134904607136849,
          0.2889701749819628,
          0.29401381089821427
         ],
         "yaxis": "y8"
        },
        {
         "marker": {
          "color": "blue"
         },
         "mode": "markers",
         "showlegend": false,
         "type": "scatter",
         "x": [
          0.8859214308833558,
          0.9168646321865848,
          0.9056208256380325,
          0.9191690218687404,
          0.9071460952549854,
          0.8457073974323814,
          0.8642610202036775,
          0.8261533453463986,
          0.8983453089985912,
          0.8676049187803543,
          0.8439041519346637,
          0.9026308217496596,
          0.8448587339902077,
          0.9167685618601453,
          0.8036634274193983
         ],
         "xaxis": "x9",
         "y": [
          0.09725119222745095,
          0.07270492475268021,
          0.0820811380580108,
          0.07095606753784893,
          0.08009174251121622,
          0.12663195569293187,
          0.11367496150053166,
          0.14014805255192325,
          0.08746771531680204,
          0.111198673431853,
          0.1277801932917416,
          0.08449402576173083,
          0.1272655890012488,
          0.0726689234660896,
          0.15454982990794597
         ],
         "yaxis": "y9"
        },
        {
         "marker": {
          "color": "red"
         },
         "mode": "markers",
         "showlegend": false,
         "type": "scatter",
         "x": [
          0.8735448063872852,
          0.9628483117758821,
          0.9381721675561406,
          0.9305931853167924,
          0.9419553547251647,
          0.882831911512428,
          0.9219243575108531,
          0.878430144954221,
          0.9076582610963985,
          0.9392238212610061,
          0.9165192103306777,
          0.9233455282489715,
          0.8577405972524269,
          0.9225191725269434,
          0.9015506185357162
         ],
         "xaxis": "x9",
         "y": [
          0.10697223131847662,
          0.03444970563395193,
          0.05578365614967962,
          0.06213036923780032,
          0.05254223398639988,
          0.09992748822133517,
          0.06918634516598533,
          0.10281427180187723,
          0.08074826251555903,
          0.05477207484839729,
          0.07340242361155601,
          0.06809627864383144,
          0.118361619245291,
          0.06878844184863196,
          0.08546539512247465
         ],
         "yaxis": "y9"
        },
        {
         "marker": {
          "color": "blue"
         },
         "mode": "markers",
         "showlegend": false,
         "type": "scatter",
         "x": [
          0.834368422621168,
          0.8777428545689367,
          0.8601189165453833,
          0.8774156516174637,
          0.8662541955919733,
          0.7816034397171485,
          0.797296972759462,
          0.754993964175394,
          0.8508678249658231,
          0.8090954373405527,
          0.7778948100893616,
          0.855027932834687,
          0.7813725356935491,
          0.8779711022424966,
          0.7251953846862619
         ],
         "xaxis": "x10",
         "y": [
          0.16942728706727633,
          0.12380517861517387,
          0.1385620488241369,
          0.12515426175625186,
          0.13601887415988845,
          0.20074079979918447,
          0.2111377036363466,
          0.21389657121532607,
          0.14459015442466444,
          0.180134872748411,
          0.19747801703370507,
          0.15949383341580306,
          0.20306640980167331,
          0.13059870510452878,
          0.23476824050648232
         ],
         "yaxis": "y10"
        },
        {
         "marker": {
          "color": "red"
         },
         "mode": "markers",
         "showlegend": false,
         "type": "scatter",
         "x": [
          0.8096774854910623,
          0.9402245935953133,
          0.9014568026599827,
          0.8955186082064803,
          0.9113364597690349,
          0.8312654805566786,
          0.8618380548720226,
          0.8239020512367361,
          0.8591941357652008,
          0.9056183698565811,
          0.8762623227480896,
          0.8708896641048237,
          0.7969365849910661,
          0.8769669049921969,
          0.8581066854703989
         ],
         "xaxis": "x10",
         "y": [
          0.2020813265971712,
          0.07225488267608995,
          0.11654026864233104,
          0.11906499740007838,
          0.1011744657375365,
          0.17654207329331528,
          0.16756031726315135,
          0.17405079782832322,
          0.15617837990681532,
          0.11084957557767146,
          0.13133951174317218,
          0.15481150526636875,
          0.1974356959436836,
          0.14634511957956087,
          0.1507363624099711
         ],
         "yaxis": "y10"
        },
        {
         "marker": {
          "color": "blue"
         },
         "mode": "markers",
         "showlegend": false,
         "type": "scatter",
         "x": [
          0.8099150354498141,
          0.8496624583941845,
          0.825656706066428,
          0.8460663085037976,
          0.8390828548269238,
          0.7505639410294916,
          0.7845965165368425,
          0.7241438842956733,
          0.8153599127364315,
          0.7722965073996949,
          0.7463811594912818,
          0.8314646560974941,
          0.7556623001952678,
          0.8530261510318333,
          0.7046002757205647
         ],
         "xaxis": "x11",
         "y": [
          0.23586260822793026,
          0.1798308496864633,
          0.2039062362060401,
          0.1875497244578674,
          0.20041959656334754,
          0.2667645242251469,
          0.2701382097754863,
          0.2783472881786605,
          0.20905834781873694,
          0.249239925443625,
          0.26242477524151236,
          0.22991104094825432,
          0.26657881820072915,
          0.19490295346577424,
          0.2887089679662194
         ],
         "yaxis": "y11"
        },
        {
         "marker": {
          "color": "red"
         },
         "mode": "markers",
         "showlegend": false,
         "type": "scatter",
         "x": [
          0.7976775107543987,
          0.9261851549806877,
          0.8825208938383942,
          0.8749388712054552,
          0.892244809880547,
          0.8120490398961336,
          0.8477642047177208,
          0.7968563674644602,
          0.8401378646932867,
          0.8880864913313208,
          0.8500220836127435,
          0.8581381791444632,
          0.7677499986904263,
          0.8622203798531973,
          0.8315133492398274
         ],
         "xaxis": "x11",
         "y": [
          0.26011054991247257,
          0.11713651395572046,
          0.17767498876355636,
          0.18110278708350194,
          0.15572584773664566,
          0.2374884512749207,
          0.2307797396079268,
          0.2431266363889113,
          0.22170110130539455,
          0.16695408149449895,
          0.19424476072936733,
          0.21068605909741034,
          0.27059805627736705,
          0.20831098314283306,
          0.21866908654169548
         ],
         "yaxis": "y11"
        },
        {
         "marker": {
          "color": "blue"
         },
         "mode": "markers",
         "name": "Climbing Up",
         "type": "scatter",
         "x": [
          0.8281326918859857,
          0.8393156042845482,
          0.8243566383671881,
          0.838063393551602,
          0.8442389184992745,
          0.7786881163106413,
          0.8257000886826147,
          0.7487283127860701,
          0.8084365776799347,
          0.7873759372696104,
          0.7636536443444637,
          0.8582402967212902,
          0.7846983140714235,
          0.8617464417104158,
          0.7355590319966895
         ],
         "xaxis": "x12",
         "y": [
          0.24933385097119004,
          0.2224732662347715,
          0.2353501901068841,
          0.22635483331213677,
          0.22738699710285826,
          0.2721682845578131,
          0.2613004412350871,
          0.2924033206007603,
          0.24527154673286816,
          0.2650181440406363,
          0.2843671026286952,
          0.22837809426206096,
          0.2755159183866627,
          0.2156150341248308,
          0.2989699424685422
         ],
         "yaxis": "y12"
        },
        {
         "marker": {
          "color": "red"
         },
         "mode": "markers",
         "name": "Climbing Down",
         "type": "scatter",
         "x": [
          0.8327161846997341,
          0.9259123088770329,
          0.8961317278818429,
          0.8874670241423329,
          0.8923703577254916,
          0.8354538382325264,
          0.8908259848614802,
          0.8196495770072878,
          0.865417816464761,
          0.8997287257636516,
          0.853599865315598,
          0.8862898294058428,
          0.8007322435747705,
          0.8924686800482448,
          0.8447337348044871
         ],
         "xaxis": "x12",
         "y": [
          0.2568456804651055,
          0.14832918181989746,
          0.19298502717895002,
          0.1979926824885707,
          0.18831121648759622,
          0.246194447794843,
          0.20471615128127343,
          0.25738440748140057,
          0.22798303507279058,
          0.18324896492890463,
          0.22590550048726668,
          0.2067875415045395,
          0.27386251954345203,
          0.2012984374392044,
          0.23861102618561156
         ],
         "yaxis": "y12"
        }
       ],
       "layout": {
        "template": {
         "data": {
          "bar": [
           {
            "error_x": {
             "color": "#2a3f5f"
            },
            "error_y": {
             "color": "#2a3f5f"
            },
            "marker": {
             "line": {
              "color": "#E5ECF6",
              "width": 0.5
             },
             "pattern": {
              "fillmode": "overlay",
              "size": 10,
              "solidity": 0.2
             }
            },
            "type": "bar"
           }
          ],
          "barpolar": [
           {
            "marker": {
             "line": {
              "color": "#E5ECF6",
              "width": 0.5
             },
             "pattern": {
              "fillmode": "overlay",
              "size": 10,
              "solidity": 0.2
             }
            },
            "type": "barpolar"
           }
          ],
          "carpet": [
           {
            "aaxis": {
             "endlinecolor": "#2a3f5f",
             "gridcolor": "white",
             "linecolor": "white",
             "minorgridcolor": "white",
             "startlinecolor": "#2a3f5f"
            },
            "baxis": {
             "endlinecolor": "#2a3f5f",
             "gridcolor": "white",
             "linecolor": "white",
             "minorgridcolor": "white",
             "startlinecolor": "#2a3f5f"
            },
            "type": "carpet"
           }
          ],
          "choropleth": [
           {
            "colorbar": {
             "outlinewidth": 0,
             "ticks": ""
            },
            "type": "choropleth"
           }
          ],
          "contour": [
           {
            "colorbar": {
             "outlinewidth": 0,
             "ticks": ""
            },
            "colorscale": [
             [
              0,
              "#0d0887"
             ],
             [
              0.1111111111111111,
              "#46039f"
             ],
             [
              0.2222222222222222,
              "#7201a8"
             ],
             [
              0.3333333333333333,
              "#9c179e"
             ],
             [
              0.4444444444444444,
              "#bd3786"
             ],
             [
              0.5555555555555556,
              "#d8576b"
             ],
             [
              0.6666666666666666,
              "#ed7953"
             ],
             [
              0.7777777777777778,
              "#fb9f3a"
             ],
             [
              0.8888888888888888,
              "#fdca26"
             ],
             [
              1,
              "#f0f921"
             ]
            ],
            "type": "contour"
           }
          ],
          "contourcarpet": [
           {
            "colorbar": {
             "outlinewidth": 0,
             "ticks": ""
            },
            "type": "contourcarpet"
           }
          ],
          "heatmap": [
           {
            "colorbar": {
             "outlinewidth": 0,
             "ticks": ""
            },
            "colorscale": [
             [
              0,
              "#0d0887"
             ],
             [
              0.1111111111111111,
              "#46039f"
             ],
             [
              0.2222222222222222,
              "#7201a8"
             ],
             [
              0.3333333333333333,
              "#9c179e"
             ],
             [
              0.4444444444444444,
              "#bd3786"
             ],
             [
              0.5555555555555556,
              "#d8576b"
             ],
             [
              0.6666666666666666,
              "#ed7953"
             ],
             [
              0.7777777777777778,
              "#fb9f3a"
             ],
             [
              0.8888888888888888,
              "#fdca26"
             ],
             [
              1,
              "#f0f921"
             ]
            ],
            "type": "heatmap"
           }
          ],
          "heatmapgl": [
           {
            "colorbar": {
             "outlinewidth": 0,
             "ticks": ""
            },
            "colorscale": [
             [
              0,
              "#0d0887"
             ],
             [
              0.1111111111111111,
              "#46039f"
             ],
             [
              0.2222222222222222,
              "#7201a8"
             ],
             [
              0.3333333333333333,
              "#9c179e"
             ],
             [
              0.4444444444444444,
              "#bd3786"
             ],
             [
              0.5555555555555556,
              "#d8576b"
             ],
             [
              0.6666666666666666,
              "#ed7953"
             ],
             [
              0.7777777777777778,
              "#fb9f3a"
             ],
             [
              0.8888888888888888,
              "#fdca26"
             ],
             [
              1,
              "#f0f921"
             ]
            ],
            "type": "heatmapgl"
           }
          ],
          "histogram": [
           {
            "marker": {
             "pattern": {
              "fillmode": "overlay",
              "size": 10,
              "solidity": 0.2
             }
            },
            "type": "histogram"
           }
          ],
          "histogram2d": [
           {
            "colorbar": {
             "outlinewidth": 0,
             "ticks": ""
            },
            "colorscale": [
             [
              0,
              "#0d0887"
             ],
             [
              0.1111111111111111,
              "#46039f"
             ],
             [
              0.2222222222222222,
              "#7201a8"
             ],
             [
              0.3333333333333333,
              "#9c179e"
             ],
             [
              0.4444444444444444,
              "#bd3786"
             ],
             [
              0.5555555555555556,
              "#d8576b"
             ],
             [
              0.6666666666666666,
              "#ed7953"
             ],
             [
              0.7777777777777778,
              "#fb9f3a"
             ],
             [
              0.8888888888888888,
              "#fdca26"
             ],
             [
              1,
              "#f0f921"
             ]
            ],
            "type": "histogram2d"
           }
          ],
          "histogram2dcontour": [
           {
            "colorbar": {
             "outlinewidth": 0,
             "ticks": ""
            },
            "colorscale": [
             [
              0,
              "#0d0887"
             ],
             [
              0.1111111111111111,
              "#46039f"
             ],
             [
              0.2222222222222222,
              "#7201a8"
             ],
             [
              0.3333333333333333,
              "#9c179e"
             ],
             [
              0.4444444444444444,
              "#bd3786"
             ],
             [
              0.5555555555555556,
              "#d8576b"
             ],
             [
              0.6666666666666666,
              "#ed7953"
             ],
             [
              0.7777777777777778,
              "#fb9f3a"
             ],
             [
              0.8888888888888888,
              "#fdca26"
             ],
             [
              1,
              "#f0f921"
             ]
            ],
            "type": "histogram2dcontour"
           }
          ],
          "mesh3d": [
           {
            "colorbar": {
             "outlinewidth": 0,
             "ticks": ""
            },
            "type": "mesh3d"
           }
          ],
          "parcoords": [
           {
            "line": {
             "colorbar": {
              "outlinewidth": 0,
              "ticks": ""
             }
            },
            "type": "parcoords"
           }
          ],
          "pie": [
           {
            "automargin": true,
            "type": "pie"
           }
          ],
          "scatter": [
           {
            "marker": {
             "colorbar": {
              "outlinewidth": 0,
              "ticks": ""
             }
            },
            "type": "scatter"
           }
          ],
          "scatter3d": [
           {
            "line": {
             "colorbar": {
              "outlinewidth": 0,
              "ticks": ""
             }
            },
            "marker": {
             "colorbar": {
              "outlinewidth": 0,
              "ticks": ""
             }
            },
            "type": "scatter3d"
           }
          ],
          "scattercarpet": [
           {
            "marker": {
             "colorbar": {
              "outlinewidth": 0,
              "ticks": ""
             }
            },
            "type": "scattercarpet"
           }
          ],
          "scattergeo": [
           {
            "marker": {
             "colorbar": {
              "outlinewidth": 0,
              "ticks": ""
             }
            },
            "type": "scattergeo"
           }
          ],
          "scattergl": [
           {
            "marker": {
             "colorbar": {
              "outlinewidth": 0,
              "ticks": ""
             }
            },
            "type": "scattergl"
           }
          ],
          "scattermapbox": [
           {
            "marker": {
             "colorbar": {
              "outlinewidth": 0,
              "ticks": ""
             }
            },
            "type": "scattermapbox"
           }
          ],
          "scatterpolar": [
           {
            "marker": {
             "colorbar": {
              "outlinewidth": 0,
              "ticks": ""
             }
            },
            "type": "scatterpolar"
           }
          ],
          "scatterpolargl": [
           {
            "marker": {
             "colorbar": {
              "outlinewidth": 0,
              "ticks": ""
             }
            },
            "type": "scatterpolargl"
           }
          ],
          "scatterternary": [
           {
            "marker": {
             "colorbar": {
              "outlinewidth": 0,
              "ticks": ""
             }
            },
            "type": "scatterternary"
           }
          ],
          "surface": [
           {
            "colorbar": {
             "outlinewidth": 0,
             "ticks": ""
            },
            "colorscale": [
             [
              0,
              "#0d0887"
             ],
             [
              0.1111111111111111,
              "#46039f"
             ],
             [
              0.2222222222222222,
              "#7201a8"
             ],
             [
              0.3333333333333333,
              "#9c179e"
             ],
             [
              0.4444444444444444,
              "#bd3786"
             ],
             [
              0.5555555555555556,
              "#d8576b"
             ],
             [
              0.6666666666666666,
              "#ed7953"
             ],
             [
              0.7777777777777778,
              "#fb9f3a"
             ],
             [
              0.8888888888888888,
              "#fdca26"
             ],
             [
              1,
              "#f0f921"
             ]
            ],
            "type": "surface"
           }
          ],
          "table": [
           {
            "cells": {
             "fill": {
              "color": "#EBF0F8"
             },
             "line": {
              "color": "white"
             }
            },
            "header": {
             "fill": {
              "color": "#C8D4E3"
             },
             "line": {
              "color": "white"
             }
            },
            "type": "table"
           }
          ]
         },
         "layout": {
          "annotationdefaults": {
           "arrowcolor": "#2a3f5f",
           "arrowhead": 0,
           "arrowwidth": 1
          },
          "autotypenumbers": "strict",
          "coloraxis": {
           "colorbar": {
            "outlinewidth": 0,
            "ticks": ""
           }
          },
          "colorscale": {
           "diverging": [
            [
             0,
             "#8e0152"
            ],
            [
             0.1,
             "#c51b7d"
            ],
            [
             0.2,
             "#de77ae"
            ],
            [
             0.3,
             "#f1b6da"
            ],
            [
             0.4,
             "#fde0ef"
            ],
            [
             0.5,
             "#f7f7f7"
            ],
            [
             0.6,
             "#e6f5d0"
            ],
            [
             0.7,
             "#b8e186"
            ],
            [
             0.8,
             "#7fbc41"
            ],
            [
             0.9,
             "#4d9221"
            ],
            [
             1,
             "#276419"
            ]
           ],
           "sequential": [
            [
             0,
             "#0d0887"
            ],
            [
             0.1111111111111111,
             "#46039f"
            ],
            [
             0.2222222222222222,
             "#7201a8"
            ],
            [
             0.3333333333333333,
             "#9c179e"
            ],
            [
             0.4444444444444444,
             "#bd3786"
            ],
            [
             0.5555555555555556,
             "#d8576b"
            ],
            [
             0.6666666666666666,
             "#ed7953"
            ],
            [
             0.7777777777777778,
             "#fb9f3a"
            ],
            [
             0.8888888888888888,
             "#fdca26"
            ],
            [
             1,
             "#f0f921"
            ]
           ],
           "sequentialminus": [
            [
             0,
             "#0d0887"
            ],
            [
             0.1111111111111111,
             "#46039f"
            ],
            [
             0.2222222222222222,
             "#7201a8"
            ],
            [
             0.3333333333333333,
             "#9c179e"
            ],
            [
             0.4444444444444444,
             "#bd3786"
            ],
            [
             0.5555555555555556,
             "#d8576b"
            ],
            [
             0.6666666666666666,
             "#ed7953"
            ],
            [
             0.7777777777777778,
             "#fb9f3a"
            ],
            [
             0.8888888888888888,
             "#fdca26"
            ],
            [
             1,
             "#f0f921"
            ]
           ]
          },
          "colorway": [
           "#636efa",
           "#EF553B",
           "#00cc96",
           "#ab63fa",
           "#FFA15A",
           "#19d3f3",
           "#FF6692",
           "#B6E880",
           "#FF97FF",
           "#FECB52"
          ],
          "font": {
           "color": "#2a3f5f"
          },
          "geo": {
           "bgcolor": "white",
           "lakecolor": "white",
           "landcolor": "#E5ECF6",
           "showlakes": true,
           "showland": true,
           "subunitcolor": "white"
          },
          "hoverlabel": {
           "align": "left"
          },
          "hovermode": "closest",
          "mapbox": {
           "style": "light"
          },
          "paper_bgcolor": "white",
          "plot_bgcolor": "#E5ECF6",
          "polar": {
           "angularaxis": {
            "gridcolor": "white",
            "linecolor": "white",
            "ticks": ""
           },
           "bgcolor": "#E5ECF6",
           "radialaxis": {
            "gridcolor": "white",
            "linecolor": "white",
            "ticks": ""
           }
          },
          "scene": {
           "xaxis": {
            "backgroundcolor": "#E5ECF6",
            "gridcolor": "white",
            "gridwidth": 2,
            "linecolor": "white",
            "showbackground": true,
            "ticks": "",
            "zerolinecolor": "white"
           },
           "yaxis": {
            "backgroundcolor": "#E5ECF6",
            "gridcolor": "white",
            "gridwidth": 2,
            "linecolor": "white",
            "showbackground": true,
            "ticks": "",
            "zerolinecolor": "white"
           },
           "zaxis": {
            "backgroundcolor": "#E5ECF6",
            "gridcolor": "white",
            "gridwidth": 2,
            "linecolor": "white",
            "showbackground": true,
            "ticks": "",
            "zerolinecolor": "white"
           }
          },
          "shapedefaults": {
           "line": {
            "color": "#2a3f5f"
           }
          },
          "ternary": {
           "aaxis": {
            "gridcolor": "white",
            "linecolor": "white",
            "ticks": ""
           },
           "baxis": {
            "gridcolor": "white",
            "linecolor": "white",
            "ticks": ""
           },
           "bgcolor": "#E5ECF6",
           "caxis": {
            "gridcolor": "white",
            "linecolor": "white",
            "ticks": ""
           }
          },
          "title": {
           "x": 0.05
          },
          "xaxis": {
           "automargin": true,
           "gridcolor": "white",
           "linecolor": "white",
           "ticks": "",
           "title": {
            "standoff": 15
           },
           "zerolinecolor": "white",
           "zerolinewidth": 2
          },
          "yaxis": {
           "automargin": true,
           "gridcolor": "white",
           "linecolor": "white",
           "ticks": "",
           "title": {
            "standoff": 15
           },
           "zerolinecolor": "white",
           "zerolinewidth": 2
          }
         }
        },
        "title": {
         "text": "Permutation entropy (x axis) vs Complexity (y axis) for - Climbing up and Climbing down activities (signal length =4096, embedded delay = 1)"
        },
        "xaxis": {
         "anchor": "y",
         "domain": [
          0,
          0.2125
         ]
        },
        "xaxis10": {
         "anchor": "y10",
         "domain": [
          0.2625,
          0.475
         ],
         "title": {
          "text": "Dimension 4"
         }
        },
        "xaxis11": {
         "anchor": "y11",
         "domain": [
          0.525,
          0.7375
         ],
         "title": {
          "text": "Dimension 5"
         }
        },
        "xaxis12": {
         "anchor": "y12",
         "domain": [
          0.7875,
          1
         ],
         "title": {
          "text": "Dimension 6"
         }
        },
        "xaxis2": {
         "anchor": "y2",
         "domain": [
          0.2625,
          0.475
         ]
        },
        "xaxis3": {
         "anchor": "y3",
         "domain": [
          0.525,
          0.7375
         ]
        },
        "xaxis4": {
         "anchor": "y4",
         "domain": [
          0.7875,
          1
         ]
        },
        "xaxis5": {
         "anchor": "y5",
         "domain": [
          0,
          0.2125
         ]
        },
        "xaxis6": {
         "anchor": "y6",
         "domain": [
          0.2625,
          0.475
         ]
        },
        "xaxis7": {
         "anchor": "y7",
         "domain": [
          0.525,
          0.7375
         ]
        },
        "xaxis8": {
         "anchor": "y8",
         "domain": [
          0.7875,
          1
         ]
        },
        "xaxis9": {
         "anchor": "y9",
         "domain": [
          0,
          0.2125
         ],
         "title": {
          "text": "Dimension 3"
         }
        },
        "yaxis": {
         "anchor": "x",
         "domain": [
          0.7333333333333333,
          1
         ],
         "title": {
          "text": "X Axis"
         }
        },
        "yaxis10": {
         "anchor": "x10",
         "domain": [
          0,
          0.26666666666666666
         ]
        },
        "yaxis11": {
         "anchor": "x11",
         "domain": [
          0,
          0.26666666666666666
         ]
        },
        "yaxis12": {
         "anchor": "x12",
         "domain": [
          0,
          0.26666666666666666
         ]
        },
        "yaxis2": {
         "anchor": "x2",
         "domain": [
          0.7333333333333333,
          1
         ]
        },
        "yaxis3": {
         "anchor": "x3",
         "domain": [
          0.7333333333333333,
          1
         ]
        },
        "yaxis4": {
         "anchor": "x4",
         "domain": [
          0.7333333333333333,
          1
         ]
        },
        "yaxis5": {
         "anchor": "x5",
         "domain": [
          0.36666666666666664,
          0.6333333333333333
         ],
         "title": {
          "text": "Y Axis"
         }
        },
        "yaxis6": {
         "anchor": "x6",
         "domain": [
          0.36666666666666664,
          0.6333333333333333
         ]
        },
        "yaxis7": {
         "anchor": "x7",
         "domain": [
          0.36666666666666664,
          0.6333333333333333
         ]
        },
        "yaxis8": {
         "anchor": "x8",
         "domain": [
          0.36666666666666664,
          0.6333333333333333
         ]
        },
        "yaxis9": {
         "anchor": "x9",
         "domain": [
          0,
          0.26666666666666666
         ],
         "title": {
          "text": "Z Axis"
         }
        }
       }
      },
      "text/html": [
       "<div>                            <div id=\"f18b8bde-07a9-4546-9d95-6f71e8e6de3f\" class=\"plotly-graph-div\" style=\"height:525px; width:100%;\"></div>            <script type=\"text/javascript\">                require([\"plotly\"], function(Plotly) {                    window.PLOTLYENV=window.PLOTLYENV || {};                                    if (document.getElementById(\"f18b8bde-07a9-4546-9d95-6f71e8e6de3f\")) {                    Plotly.newPlot(                        \"f18b8bde-07a9-4546-9d95-6f71e8e6de3f\",                        [{\"marker\":{\"color\":\"blue\"},\"mode\":\"markers\",\"showlegend\":false,\"x\":[0.838023386603512,0.857310015364552,0.8848567298227434,0.9017199709690839,0.8714934346388941,0.8069790011448966,0.7804008271057196,0.728338267048828,0.8669382274984839,0.8891484357245724,0.7859076509301717,0.8344130873648693,0.7949950350745129,0.904892162592648,0.759057303090126],\"y\":[0.13210378297043984,0.11844411932143792,0.09842353130301751,0.08522767757222419,0.10773192631135531,0.15204076727349994,0.1692055066998176,0.1972799303792229,0.11166875113053229,0.09512270235750776,0.1652266501201932,0.13402524875940502,0.16005720659267667,0.0824583672373841,0.1811539368079669],\"type\":\"scatter\",\"xaxis\":\"x\",\"yaxis\":\"y\"},{\"marker\":{\"color\":\"red\"},\"mode\":\"markers\",\"showlegend\":false,\"x\":[0.7977255711375275,0.896242831839856,0.87108962067002,0.8825565360761064,0.916854823699659,0.8402988249686103,0.8673892703478027,0.748884559880869,0.8617591093788867,0.9134168689783716,0.8317070590024903,0.8724771663583257,0.7992514048677564,0.8958880794246341,0.8440473814521339],\"y\":[0.15801486569479473,0.08976292208899031,0.10863817886319692,0.10010094103410853,0.07332716538942718,0.13044026083195878,0.11116168014678843,0.1868724836268214,0.11541142216202736,0.07607813328326264,0.13621381468303137,0.10771695676998513,0.15744656884120609,0.08992244724609458,0.12794252140650636],\"type\":\"scatter\",\"xaxis\":\"x\",\"yaxis\":\"y\"},{\"marker\":{\"color\":\"blue\"},\"mode\":\"markers\",\"showlegend\":false,\"x\":[0.7712595480799473,0.7958220354797095,0.829858814932502,0.8525998639019498,0.8179779838330388,0.7320290341005563,0.6927805542540367,0.6312812453003499,0.807306504241246,0.8367317826417778,0.7060475199474758,0.7629675001602966,0.7170811655170587,0.8536525358953246,0.6712835724601405],\"y\":[0.20523676740544702,0.1966471121567936,0.16633849767746384,0.15754834401795065,0.17646237905338075,0.22775407475499235,0.2589664874283025,0.26376082262864375,0.1820001594795672,0.1621456887922241,0.23877128829673275,0.2231189698019418,0.23287092089693115,0.16152060759213493,0.253954938132134],\"type\":\"scatter\",\"xaxis\":\"x2\",\"yaxis\":\"y2\"},{\"marker\":{\"color\":\"red\"},\"mode\":\"markers\",\"showlegend\":false,\"x\":[0.7195322316343692,0.8428239061813663,0.8146013010146025,0.822986677763697,0.8767769288798691,0.7742867428221789,0.802694197611045,0.6574288966539954,0.7988572529181863,0.872152675790517,0.763478480258805,0.8087079409788105,0.7211752224452759,0.8365238877191397,0.7808435382056141],\"y\":[0.24106806618046325,0.17068013089855288,0.1876960385489445,0.18948908780527998,0.13333837068025714,0.20460465829104374,0.2063432524567726,0.2570202690423927,0.20008507531469935,0.13242196064128534,0.21133115094151414,0.200709813355878,0.23291396176608542,0.18536076432464343,0.20221776909459574],\"type\":\"scatter\",\"xaxis\":\"x2\",\"yaxis\":\"y2\"},{\"marker\":{\"color\":\"blue\"},\"mode\":\"markers\",\"showlegend\":false,\"x\":[0.7360461688662038,0.7665374654015421,0.7974031408529656,0.8248303969622365,0.7871712791647226,0.7017091825001037,0.6918400579336762,0.6024445393545561,0.7706417108927153,0.8051650801402233,0.673137562743478,0.7523265110770083,0.6788877344003933,0.8307333412674477,0.6410561661283019],\"y\":[0.27159454887532236,0.26747330156869975,0.23568475859759427,0.23066954421342717,0.24693520316435286,0.2915273648324165,0.30048733981545395,0.30835979725471613,0.2540595149492253,0.2351182966870933,0.30001256931823894,0.27581362728553205,0.2982659966731849,0.2324079141781609,0.3091187895907514],\"type\":\"scatter\",\"xaxis\":\"x3\",\"yaxis\":\"y3\"},{\"marker\":{\"color\":\"red\"},\"mode\":\"markers\",\"showlegend\":false,\"x\":[0.6961969876332031,0.8222878782706134,0.7878827274477771,0.804775564446538,0.8516592415339306,0.7413251834388909,0.7964948066256268,0.6348049496144265,0.7702728194068603,0.8443304706557516,0.7381053004094197,0.7996292972505331,0.6895347035714167,0.8272026562723723,0.7498944816234647],\"y\":[0.3003582828864494,0.23732932500871867,0.25684971304362186,0.2549345228502727,0.2002685126615017,0.27347915105884135,0.25793861558156955,0.30365198598279497,0.274115289438905,0.2011005415324856,0.26943710467962056,0.25416341134342757,0.2939253867300894,0.24303282425665038,0.2685020144431305],\"type\":\"scatter\",\"xaxis\":\"x3\",\"yaxis\":\"y3\"},{\"marker\":{\"color\":\"blue\"},\"mode\":\"markers\",\"showlegend\":false,\"x\":[0.7618192907263117,0.7962762157838223,0.8097779094666752,0.8500711173404168,0.8052825068658525,0.7361881034136075,0.7345373977243291,0.6376826872753957,0.7861971416388653,0.8182004113161611,0.7093823920903144,0.7844919705118079,0.7101462259982367,0.8599816233341507,0.6792755203523191],\"y\":[0.28154546118487267,0.2736341376447581,0.2573077177597293,0.23537440136099802,0.2656439837473223,0.30134978863192163,0.3030214491305697,0.3237395530117928,0.27518906923668196,0.2616882305188919,0.3083765343393041,0.2834447552359921,0.3114147506744545,0.23448599469027975,0.3205488246379318],\"type\":\"scatter\",\"xaxis\":\"x4\",\"yaxis\":\"y4\"},{\"marker\":{\"color\":\"red\"},\"mode\":\"markers\",\"showlegend\":false,\"x\":[0.7357156604306082,0.8508046947390404,0.8105625967481529,0.842402055753019,0.8597256819827158,0.7667600214294694,0.8324945572364559,0.6740190350453981,0.80352540603291,0.8531128643292978,0.7671040127529886,0.8318173399431295,0.7207902657663532,0.8694474261284575,0.7743529267310929],\"y\":[0.3048584125581587,0.23991109613272468,0.2708668490113195,0.24869209536490694,0.2282669572982283,0.28775932987295494,0.25623525335705605,0.31272790977840276,0.27894233348130115,0.22871139476651717,0.2740608496048447,0.2542441973467361,0.30721052210305183,0.22529980972421515,0.27945977189029325],\"type\":\"scatter\",\"xaxis\":\"x4\",\"yaxis\":\"y4\"},{\"marker\":{\"color\":\"blue\"},\"mode\":\"markers\",\"showlegend\":false,\"x\":[0.7633313628486065,0.7586382561284981,0.733529858220782,0.8124389502220964,0.8098871811783362,0.7132298147849545,0.7655707496242639,0.8687057132500838,0.7365227151583931,0.7865191461310309,0.7594615182588188,0.7765641957736175,0.7648723909737917,0.7756011445210248,0.7393262870524582],\"y\":[0.17696508192737842,0.18143074907313708,0.19493357595451713,0.14907549730962097,0.1503320622233603,0.2036428533112721,0.1775125112697776,0.11003728010598077,0.19297665186972887,0.16498431162834257,0.1798269122716885,0.17109610893286914,0.1772155874145823,0.16816238938112646,0.19185796707056188],\"type\":\"scatter\",\"xaxis\":\"x5\",\"yaxis\":\"y5\"},{\"marker\":{\"color\":\"red\"},\"mode\":\"markers\",\"showlegend\":false,\"x\":[0.8237212106475056,0.8377372060397184,0.7836863453258843,0.7992625293468753,0.8552914739152294,0.7848451205391219,0.8051053222369764,0.85770551735834,0.785239993048889,0.8470755543374708,0.8123032363929255,0.8247891018159423,0.7986213932050886,0.7989929524924755,0.8243516582564973],\"y\":[0.14178962652436947,0.132318482060379,0.1664467399498572,0.15752593696913494,0.12006064874637154,0.16629822625502225,0.1537195300563403,0.1182890329250057,0.16602767095607499,0.12423911919304265,0.1491154493050423,0.14061097245171336,0.15756766476480116,0.15769470705295402,0.14124600853050048],\"type\":\"scatter\",\"xaxis\":\"x5\",\"yaxis\":\"y5\"},{\"marker\":{\"color\":\"blue\"},\"mode\":\"markers\",\"showlegend\":false,\"x\":[0.6780177251462861,0.6701264119994824,0.6346888771874807,0.732166884783361,0.7352608287289737,0.61425822165147,0.6756217339881414,0.8067360268014687,0.6380743309346951,0.7049357274420368,0.669621241576002,0.690926542749277,0.6796733367380208,0.6985495406589141,0.6459011875962616],\"y\":[0.24745906926294695,0.24941406973697763,0.2575504761990312,0.2215966353906277,0.22047109703753692,0.2731044488808248,0.26010872302886656,0.18022810856680826,0.25045382620196394,0.2344481857953966,0.2542629036464054,0.2520532327214587,0.24952783774963033,0.24036278523059482,0.2640368922152565],\"type\":\"scatter\",\"xaxis\":\"x6\",\"yaxis\":\"y6\"},{\"marker\":{\"color\":\"red\"},\"mode\":\"markers\",\"showlegend\":false,\"x\":[0.7529871940490351,0.7691637650192479,0.7007657981782859,0.7216357373605196,0.7932668040365276,0.701068117832602,0.7218115113512574,0.7973519144885541,0.7038701105380911,0.7869903839784641,0.7386522447527668,0.7537599904321135,0.7183264471327329,0.7164049162340267,0.7502067794987064],\"y\":[0.21906720848056133,0.21940282366367783,0.24497733473065136,0.23956456942042947,0.19781126564227564,0.24897229311671404,0.2455926559866204,0.18728721280299143,0.23991252242453767,0.19631516170262672,0.22648745702351106,0.22349593910274454,0.24335893348714668,0.25362166500180455,0.2289117083708295],\"type\":\"scatter\",\"xaxis\":\"x6\",\"yaxis\":\"y6\"},{\"marker\":{\"color\":\"blue\"},\"mode\":\"markers\",\"showlegend\":false,\"x\":[0.6475972482101183,0.6389222683881481,0.6070004336708976,0.694143627145799,0.7024724296079226,0.6080013646192218,0.6760148456673573,0.7738462189145443,0.5975664940090257,0.669171518047072,0.6378937431335504,0.6706586173108673,0.6468525807483713,0.6708377947519634,0.6214806619716645],\"y\":[0.2985555261673916,0.2941347291938514,0.2942109715550579,0.27917877861869533,0.2753223305656355,0.3107920587943132,0.29425762181435006,0.24485010115628555,0.28963950451472026,0.29105547978898516,0.309911727582861,0.30246715683693065,0.30480122458999603,0.29500392351177007,0.3128831816018335],\"type\":\"scatter\",\"xaxis\":\"x7\",\"yaxis\":\"y7\"},{\"marker\":{\"color\":\"red\"},\"mode\":\"markers\",\"showlegend\":false,\"x\":[0.7288554101498109,0.7436575162429666,0.6754370021609667,0.7070180307782138,0.7614968153672732,0.6783248517655436,0.7137950366096869,0.7621440845773911,0.6756968075106148,0.7608871221508033,0.7076178227625594,0.7318104489312696,0.6970635142576436,0.7274367996685422,0.7252223176326646],\"y\":[0.2782767168801829,0.28675432075237367,0.2996533235790356,0.28776524498806927,0.27203897312137965,0.30603335935196774,0.2907764564706744,0.2556266686196999,0.296764776906593,0.26025816034336346,0.2890412375476791,0.28238103310466234,0.30259176598122156,0.28681639551867133,0.29329791739159655],\"type\":\"scatter\",\"xaxis\":\"x7\",\"yaxis\":\"y7\"},{\"marker\":{\"color\":\"blue\"},\"mode\":\"markers\",\"showlegend\":false,\"x\":[0.6746067459445733,0.6713030096696747,0.6346702348833492,0.7154809567996461,0.7246813924124094,0.6565056752247371,0.7083109008000322,0.7853456405563775,0.6171853391179072,0.7007233133002737,0.6766477130328904,0.7140114740415494,0.6833908431088151,0.7049544766712977,0.6624760727236465],\"y\":[0.3127208964754158,0.2957275325914132,0.3017905433199277,0.2887217981825589,0.2835055234927045,0.31968931801741785,0.30262602846640996,0.2669776942483348,0.30197742329923805,0.2975170223354871,0.3220025542831784,0.30112712300078787,0.31409730802410357,0.30131444900550086,0.3237623236996839],\"type\":\"scatter\",\"xaxis\":\"x8\",\"yaxis\":\"y8\"},{\"marker\":{\"color\":\"red\"},\"mode\":\"markers\",\"showlegend\":false,\"x\":[0.7576415451777933,0.7826670199380221,0.7128192589406196,0.7411888325451715,0.7915963881078291,0.7194075163931943,0.7606349664608119,0.7826900908005935,0.7125771152820333,0.7855727871379766,0.737460008723161,0.7622451328590293,0.734026359475291,0.7667720054056056,0.7641636704134579],\"y\":[0.29030569930867434,0.28663094187356297,0.3034488308657269,0.293721187535352,0.2822635443917875,0.312330357761089,0.28333069387796095,0.27117379097033195,0.3056221459073229,0.273575836501125,0.3004320242558768,0.2858741418765959,0.3134904607136849,0.2889701749819628,0.29401381089821427],\"type\":\"scatter\",\"xaxis\":\"x8\",\"yaxis\":\"y8\"},{\"marker\":{\"color\":\"blue\"},\"mode\":\"markers\",\"showlegend\":false,\"x\":[0.8859214308833558,0.9168646321865848,0.9056208256380325,0.9191690218687404,0.9071460952549854,0.8457073974323814,0.8642610202036775,0.8261533453463986,0.8983453089985912,0.8676049187803543,0.8439041519346637,0.9026308217496596,0.8448587339902077,0.9167685618601453,0.8036634274193983],\"y\":[0.09725119222745095,0.07270492475268021,0.0820811380580108,0.07095606753784893,0.08009174251121622,0.12663195569293187,0.11367496150053166,0.14014805255192325,0.08746771531680204,0.111198673431853,0.1277801932917416,0.08449402576173083,0.1272655890012488,0.0726689234660896,0.15454982990794597],\"type\":\"scatter\",\"xaxis\":\"x9\",\"yaxis\":\"y9\"},{\"marker\":{\"color\":\"red\"},\"mode\":\"markers\",\"showlegend\":false,\"x\":[0.8735448063872852,0.9628483117758821,0.9381721675561406,0.9305931853167924,0.9419553547251647,0.882831911512428,0.9219243575108531,0.878430144954221,0.9076582610963985,0.9392238212610061,0.9165192103306777,0.9233455282489715,0.8577405972524269,0.9225191725269434,0.9015506185357162],\"y\":[0.10697223131847662,0.03444970563395193,0.05578365614967962,0.06213036923780032,0.05254223398639988,0.09992748822133517,0.06918634516598533,0.10281427180187723,0.08074826251555903,0.05477207484839729,0.07340242361155601,0.06809627864383144,0.118361619245291,0.06878844184863196,0.08546539512247465],\"type\":\"scatter\",\"xaxis\":\"x9\",\"yaxis\":\"y9\"},{\"marker\":{\"color\":\"blue\"},\"mode\":\"markers\",\"showlegend\":false,\"x\":[0.834368422621168,0.8777428545689367,0.8601189165453833,0.8774156516174637,0.8662541955919733,0.7816034397171485,0.797296972759462,0.754993964175394,0.8508678249658231,0.8090954373405527,0.7778948100893616,0.855027932834687,0.7813725356935491,0.8779711022424966,0.7251953846862619],\"y\":[0.16942728706727633,0.12380517861517387,0.1385620488241369,0.12515426175625186,0.13601887415988845,0.20074079979918447,0.2111377036363466,0.21389657121532607,0.14459015442466444,0.180134872748411,0.19747801703370507,0.15949383341580306,0.20306640980167331,0.13059870510452878,0.23476824050648232],\"type\":\"scatter\",\"xaxis\":\"x10\",\"yaxis\":\"y10\"},{\"marker\":{\"color\":\"red\"},\"mode\":\"markers\",\"showlegend\":false,\"x\":[0.8096774854910623,0.9402245935953133,0.9014568026599827,0.8955186082064803,0.9113364597690349,0.8312654805566786,0.8618380548720226,0.8239020512367361,0.8591941357652008,0.9056183698565811,0.8762623227480896,0.8708896641048237,0.7969365849910661,0.8769669049921969,0.8581066854703989],\"y\":[0.2020813265971712,0.07225488267608995,0.11654026864233104,0.11906499740007838,0.1011744657375365,0.17654207329331528,0.16756031726315135,0.17405079782832322,0.15617837990681532,0.11084957557767146,0.13133951174317218,0.15481150526636875,0.1974356959436836,0.14634511957956087,0.1507363624099711],\"type\":\"scatter\",\"xaxis\":\"x10\",\"yaxis\":\"y10\"},{\"marker\":{\"color\":\"blue\"},\"mode\":\"markers\",\"showlegend\":false,\"x\":[0.8099150354498141,0.8496624583941845,0.825656706066428,0.8460663085037976,0.8390828548269238,0.7505639410294916,0.7845965165368425,0.7241438842956733,0.8153599127364315,0.7722965073996949,0.7463811594912818,0.8314646560974941,0.7556623001952678,0.8530261510318333,0.7046002757205647],\"y\":[0.23586260822793026,0.1798308496864633,0.2039062362060401,0.1875497244578674,0.20041959656334754,0.2667645242251469,0.2701382097754863,0.2783472881786605,0.20905834781873694,0.249239925443625,0.26242477524151236,0.22991104094825432,0.26657881820072915,0.19490295346577424,0.2887089679662194],\"type\":\"scatter\",\"xaxis\":\"x11\",\"yaxis\":\"y11\"},{\"marker\":{\"color\":\"red\"},\"mode\":\"markers\",\"showlegend\":false,\"x\":[0.7976775107543987,0.9261851549806877,0.8825208938383942,0.8749388712054552,0.892244809880547,0.8120490398961336,0.8477642047177208,0.7968563674644602,0.8401378646932867,0.8880864913313208,0.8500220836127435,0.8581381791444632,0.7677499986904263,0.8622203798531973,0.8315133492398274],\"y\":[0.26011054991247257,0.11713651395572046,0.17767498876355636,0.18110278708350194,0.15572584773664566,0.2374884512749207,0.2307797396079268,0.2431266363889113,0.22170110130539455,0.16695408149449895,0.19424476072936733,0.21068605909741034,0.27059805627736705,0.20831098314283306,0.21866908654169548],\"type\":\"scatter\",\"xaxis\":\"x11\",\"yaxis\":\"y11\"},{\"marker\":{\"color\":\"blue\"},\"mode\":\"markers\",\"name\":\"Climbing Up\",\"x\":[0.8281326918859857,0.8393156042845482,0.8243566383671881,0.838063393551602,0.8442389184992745,0.7786881163106413,0.8257000886826147,0.7487283127860701,0.8084365776799347,0.7873759372696104,0.7636536443444637,0.8582402967212902,0.7846983140714235,0.8617464417104158,0.7355590319966895],\"y\":[0.24933385097119004,0.2224732662347715,0.2353501901068841,0.22635483331213677,0.22738699710285826,0.2721682845578131,0.2613004412350871,0.2924033206007603,0.24527154673286816,0.2650181440406363,0.2843671026286952,0.22837809426206096,0.2755159183866627,0.2156150341248308,0.2989699424685422],\"type\":\"scatter\",\"xaxis\":\"x12\",\"yaxis\":\"y12\"},{\"marker\":{\"color\":\"red\"},\"mode\":\"markers\",\"name\":\"Climbing Down\",\"x\":[0.8327161846997341,0.9259123088770329,0.8961317278818429,0.8874670241423329,0.8923703577254916,0.8354538382325264,0.8908259848614802,0.8196495770072878,0.865417816464761,0.8997287257636516,0.853599865315598,0.8862898294058428,0.8007322435747705,0.8924686800482448,0.8447337348044871],\"y\":[0.2568456804651055,0.14832918181989746,0.19298502717895002,0.1979926824885707,0.18831121648759622,0.246194447794843,0.20471615128127343,0.25738440748140057,0.22798303507279058,0.18324896492890463,0.22590550048726668,0.2067875415045395,0.27386251954345203,0.2012984374392044,0.23861102618561156],\"type\":\"scatter\",\"xaxis\":\"x12\",\"yaxis\":\"y12\"}],                        {\"template\":{\"data\":{\"bar\":[{\"error_x\":{\"color\":\"#2a3f5f\"},\"error_y\":{\"color\":\"#2a3f5f\"},\"marker\":{\"line\":{\"color\":\"#E5ECF6\",\"width\":0.5},\"pattern\":{\"fillmode\":\"overlay\",\"size\":10,\"solidity\":0.2}},\"type\":\"bar\"}],\"barpolar\":[{\"marker\":{\"line\":{\"color\":\"#E5ECF6\",\"width\":0.5},\"pattern\":{\"fillmode\":\"overlay\",\"size\":10,\"solidity\":0.2}},\"type\":\"barpolar\"}],\"carpet\":[{\"aaxis\":{\"endlinecolor\":\"#2a3f5f\",\"gridcolor\":\"white\",\"linecolor\":\"white\",\"minorgridcolor\":\"white\",\"startlinecolor\":\"#2a3f5f\"},\"baxis\":{\"endlinecolor\":\"#2a3f5f\",\"gridcolor\":\"white\",\"linecolor\":\"white\",\"minorgridcolor\":\"white\",\"startlinecolor\":\"#2a3f5f\"},\"type\":\"carpet\"}],\"choropleth\":[{\"colorbar\":{\"outlinewidth\":0,\"ticks\":\"\"},\"type\":\"choropleth\"}],\"contour\":[{\"colorbar\":{\"outlinewidth\":0,\"ticks\":\"\"},\"colorscale\":[[0.0,\"#0d0887\"],[0.1111111111111111,\"#46039f\"],[0.2222222222222222,\"#7201a8\"],[0.3333333333333333,\"#9c179e\"],[0.4444444444444444,\"#bd3786\"],[0.5555555555555556,\"#d8576b\"],[0.6666666666666666,\"#ed7953\"],[0.7777777777777778,\"#fb9f3a\"],[0.8888888888888888,\"#fdca26\"],[1.0,\"#f0f921\"]],\"type\":\"contour\"}],\"contourcarpet\":[{\"colorbar\":{\"outlinewidth\":0,\"ticks\":\"\"},\"type\":\"contourcarpet\"}],\"heatmap\":[{\"colorbar\":{\"outlinewidth\":0,\"ticks\":\"\"},\"colorscale\":[[0.0,\"#0d0887\"],[0.1111111111111111,\"#46039f\"],[0.2222222222222222,\"#7201a8\"],[0.3333333333333333,\"#9c179e\"],[0.4444444444444444,\"#bd3786\"],[0.5555555555555556,\"#d8576b\"],[0.6666666666666666,\"#ed7953\"],[0.7777777777777778,\"#fb9f3a\"],[0.8888888888888888,\"#fdca26\"],[1.0,\"#f0f921\"]],\"type\":\"heatmap\"}],\"heatmapgl\":[{\"colorbar\":{\"outlinewidth\":0,\"ticks\":\"\"},\"colorscale\":[[0.0,\"#0d0887\"],[0.1111111111111111,\"#46039f\"],[0.2222222222222222,\"#7201a8\"],[0.3333333333333333,\"#9c179e\"],[0.4444444444444444,\"#bd3786\"],[0.5555555555555556,\"#d8576b\"],[0.6666666666666666,\"#ed7953\"],[0.7777777777777778,\"#fb9f3a\"],[0.8888888888888888,\"#fdca26\"],[1.0,\"#f0f921\"]],\"type\":\"heatmapgl\"}],\"histogram\":[{\"marker\":{\"pattern\":{\"fillmode\":\"overlay\",\"size\":10,\"solidity\":0.2}},\"type\":\"histogram\"}],\"histogram2d\":[{\"colorbar\":{\"outlinewidth\":0,\"ticks\":\"\"},\"colorscale\":[[0.0,\"#0d0887\"],[0.1111111111111111,\"#46039f\"],[0.2222222222222222,\"#7201a8\"],[0.3333333333333333,\"#9c179e\"],[0.4444444444444444,\"#bd3786\"],[0.5555555555555556,\"#d8576b\"],[0.6666666666666666,\"#ed7953\"],[0.7777777777777778,\"#fb9f3a\"],[0.8888888888888888,\"#fdca26\"],[1.0,\"#f0f921\"]],\"type\":\"histogram2d\"}],\"histogram2dcontour\":[{\"colorbar\":{\"outlinewidth\":0,\"ticks\":\"\"},\"colorscale\":[[0.0,\"#0d0887\"],[0.1111111111111111,\"#46039f\"],[0.2222222222222222,\"#7201a8\"],[0.3333333333333333,\"#9c179e\"],[0.4444444444444444,\"#bd3786\"],[0.5555555555555556,\"#d8576b\"],[0.6666666666666666,\"#ed7953\"],[0.7777777777777778,\"#fb9f3a\"],[0.8888888888888888,\"#fdca26\"],[1.0,\"#f0f921\"]],\"type\":\"histogram2dcontour\"}],\"mesh3d\":[{\"colorbar\":{\"outlinewidth\":0,\"ticks\":\"\"},\"type\":\"mesh3d\"}],\"parcoords\":[{\"line\":{\"colorbar\":{\"outlinewidth\":0,\"ticks\":\"\"}},\"type\":\"parcoords\"}],\"pie\":[{\"automargin\":true,\"type\":\"pie\"}],\"scatter\":[{\"marker\":{\"colorbar\":{\"outlinewidth\":0,\"ticks\":\"\"}},\"type\":\"scatter\"}],\"scatter3d\":[{\"line\":{\"colorbar\":{\"outlinewidth\":0,\"ticks\":\"\"}},\"marker\":{\"colorbar\":{\"outlinewidth\":0,\"ticks\":\"\"}},\"type\":\"scatter3d\"}],\"scattercarpet\":[{\"marker\":{\"colorbar\":{\"outlinewidth\":0,\"ticks\":\"\"}},\"type\":\"scattercarpet\"}],\"scattergeo\":[{\"marker\":{\"colorbar\":{\"outlinewidth\":0,\"ticks\":\"\"}},\"type\":\"scattergeo\"}],\"scattergl\":[{\"marker\":{\"colorbar\":{\"outlinewidth\":0,\"ticks\":\"\"}},\"type\":\"scattergl\"}],\"scattermapbox\":[{\"marker\":{\"colorbar\":{\"outlinewidth\":0,\"ticks\":\"\"}},\"type\":\"scattermapbox\"}],\"scatterpolar\":[{\"marker\":{\"colorbar\":{\"outlinewidth\":0,\"ticks\":\"\"}},\"type\":\"scatterpolar\"}],\"scatterpolargl\":[{\"marker\":{\"colorbar\":{\"outlinewidth\":0,\"ticks\":\"\"}},\"type\":\"scatterpolargl\"}],\"scatterternary\":[{\"marker\":{\"colorbar\":{\"outlinewidth\":0,\"ticks\":\"\"}},\"type\":\"scatterternary\"}],\"surface\":[{\"colorbar\":{\"outlinewidth\":0,\"ticks\":\"\"},\"colorscale\":[[0.0,\"#0d0887\"],[0.1111111111111111,\"#46039f\"],[0.2222222222222222,\"#7201a8\"],[0.3333333333333333,\"#9c179e\"],[0.4444444444444444,\"#bd3786\"],[0.5555555555555556,\"#d8576b\"],[0.6666666666666666,\"#ed7953\"],[0.7777777777777778,\"#fb9f3a\"],[0.8888888888888888,\"#fdca26\"],[1.0,\"#f0f921\"]],\"type\":\"surface\"}],\"table\":[{\"cells\":{\"fill\":{\"color\":\"#EBF0F8\"},\"line\":{\"color\":\"white\"}},\"header\":{\"fill\":{\"color\":\"#C8D4E3\"},\"line\":{\"color\":\"white\"}},\"type\":\"table\"}]},\"layout\":{\"annotationdefaults\":{\"arrowcolor\":\"#2a3f5f\",\"arrowhead\":0,\"arrowwidth\":1},\"autotypenumbers\":\"strict\",\"coloraxis\":{\"colorbar\":{\"outlinewidth\":0,\"ticks\":\"\"}},\"colorscale\":{\"diverging\":[[0,\"#8e0152\"],[0.1,\"#c51b7d\"],[0.2,\"#de77ae\"],[0.3,\"#f1b6da\"],[0.4,\"#fde0ef\"],[0.5,\"#f7f7f7\"],[0.6,\"#e6f5d0\"],[0.7,\"#b8e186\"],[0.8,\"#7fbc41\"],[0.9,\"#4d9221\"],[1,\"#276419\"]],\"sequential\":[[0.0,\"#0d0887\"],[0.1111111111111111,\"#46039f\"],[0.2222222222222222,\"#7201a8\"],[0.3333333333333333,\"#9c179e\"],[0.4444444444444444,\"#bd3786\"],[0.5555555555555556,\"#d8576b\"],[0.6666666666666666,\"#ed7953\"],[0.7777777777777778,\"#fb9f3a\"],[0.8888888888888888,\"#fdca26\"],[1.0,\"#f0f921\"]],\"sequentialminus\":[[0.0,\"#0d0887\"],[0.1111111111111111,\"#46039f\"],[0.2222222222222222,\"#7201a8\"],[0.3333333333333333,\"#9c179e\"],[0.4444444444444444,\"#bd3786\"],[0.5555555555555556,\"#d8576b\"],[0.6666666666666666,\"#ed7953\"],[0.7777777777777778,\"#fb9f3a\"],[0.8888888888888888,\"#fdca26\"],[1.0,\"#f0f921\"]]},\"colorway\":[\"#636efa\",\"#EF553B\",\"#00cc96\",\"#ab63fa\",\"#FFA15A\",\"#19d3f3\",\"#FF6692\",\"#B6E880\",\"#FF97FF\",\"#FECB52\"],\"font\":{\"color\":\"#2a3f5f\"},\"geo\":{\"bgcolor\":\"white\",\"lakecolor\":\"white\",\"landcolor\":\"#E5ECF6\",\"showlakes\":true,\"showland\":true,\"subunitcolor\":\"white\"},\"hoverlabel\":{\"align\":\"left\"},\"hovermode\":\"closest\",\"mapbox\":{\"style\":\"light\"},\"paper_bgcolor\":\"white\",\"plot_bgcolor\":\"#E5ECF6\",\"polar\":{\"angularaxis\":{\"gridcolor\":\"white\",\"linecolor\":\"white\",\"ticks\":\"\"},\"bgcolor\":\"#E5ECF6\",\"radialaxis\":{\"gridcolor\":\"white\",\"linecolor\":\"white\",\"ticks\":\"\"}},\"scene\":{\"xaxis\":{\"backgroundcolor\":\"#E5ECF6\",\"gridcolor\":\"white\",\"gridwidth\":2,\"linecolor\":\"white\",\"showbackground\":true,\"ticks\":\"\",\"zerolinecolor\":\"white\"},\"yaxis\":{\"backgroundcolor\":\"#E5ECF6\",\"gridcolor\":\"white\",\"gridwidth\":2,\"linecolor\":\"white\",\"showbackground\":true,\"ticks\":\"\",\"zerolinecolor\":\"white\"},\"zaxis\":{\"backgroundcolor\":\"#E5ECF6\",\"gridcolor\":\"white\",\"gridwidth\":2,\"linecolor\":\"white\",\"showbackground\":true,\"ticks\":\"\",\"zerolinecolor\":\"white\"}},\"shapedefaults\":{\"line\":{\"color\":\"#2a3f5f\"}},\"ternary\":{\"aaxis\":{\"gridcolor\":\"white\",\"linecolor\":\"white\",\"ticks\":\"\"},\"baxis\":{\"gridcolor\":\"white\",\"linecolor\":\"white\",\"ticks\":\"\"},\"bgcolor\":\"#E5ECF6\",\"caxis\":{\"gridcolor\":\"white\",\"linecolor\":\"white\",\"ticks\":\"\"}},\"title\":{\"x\":0.05},\"xaxis\":{\"automargin\":true,\"gridcolor\":\"white\",\"linecolor\":\"white\",\"ticks\":\"\",\"title\":{\"standoff\":15},\"zerolinecolor\":\"white\",\"zerolinewidth\":2},\"yaxis\":{\"automargin\":true,\"gridcolor\":\"white\",\"linecolor\":\"white\",\"ticks\":\"\",\"title\":{\"standoff\":15},\"zerolinecolor\":\"white\",\"zerolinewidth\":2}}},\"xaxis\":{\"anchor\":\"y\",\"domain\":[0.0,0.2125]},\"yaxis\":{\"anchor\":\"x\",\"domain\":[0.7333333333333333,1.0],\"title\":{\"text\":\"X Axis\"}},\"xaxis2\":{\"anchor\":\"y2\",\"domain\":[0.2625,0.475]},\"yaxis2\":{\"anchor\":\"x2\",\"domain\":[0.7333333333333333,1.0]},\"xaxis3\":{\"anchor\":\"y3\",\"domain\":[0.525,0.7375]},\"yaxis3\":{\"anchor\":\"x3\",\"domain\":[0.7333333333333333,1.0]},\"xaxis4\":{\"anchor\":\"y4\",\"domain\":[0.7875,1.0]},\"yaxis4\":{\"anchor\":\"x4\",\"domain\":[0.7333333333333333,1.0]},\"xaxis5\":{\"anchor\":\"y5\",\"domain\":[0.0,0.2125]},\"yaxis5\":{\"anchor\":\"x5\",\"domain\":[0.36666666666666664,0.6333333333333333],\"title\":{\"text\":\"Y Axis\"}},\"xaxis6\":{\"anchor\":\"y6\",\"domain\":[0.2625,0.475]},\"yaxis6\":{\"anchor\":\"x6\",\"domain\":[0.36666666666666664,0.6333333333333333]},\"xaxis7\":{\"anchor\":\"y7\",\"domain\":[0.525,0.7375]},\"yaxis7\":{\"anchor\":\"x7\",\"domain\":[0.36666666666666664,0.6333333333333333]},\"xaxis8\":{\"anchor\":\"y8\",\"domain\":[0.7875,1.0]},\"yaxis8\":{\"anchor\":\"x8\",\"domain\":[0.36666666666666664,0.6333333333333333]},\"xaxis9\":{\"anchor\":\"y9\",\"domain\":[0.0,0.2125],\"title\":{\"text\":\"Dimension 3\"}},\"yaxis9\":{\"anchor\":\"x9\",\"domain\":[0.0,0.26666666666666666],\"title\":{\"text\":\"Z Axis\"}},\"xaxis10\":{\"anchor\":\"y10\",\"domain\":[0.2625,0.475],\"title\":{\"text\":\"Dimension 4\"}},\"yaxis10\":{\"anchor\":\"x10\",\"domain\":[0.0,0.26666666666666666]},\"xaxis11\":{\"anchor\":\"y11\",\"domain\":[0.525,0.7375],\"title\":{\"text\":\"Dimension 5\"}},\"yaxis11\":{\"anchor\":\"x11\",\"domain\":[0.0,0.26666666666666666]},\"xaxis12\":{\"anchor\":\"y12\",\"domain\":[0.7875,1.0],\"title\":{\"text\":\"Dimension 6\"}},\"yaxis12\":{\"anchor\":\"x12\",\"domain\":[0.0,0.26666666666666666]},\"title\":{\"text\":\"Permutation entropy (x axis) vs Complexity (y axis) for - Climbing up and Climbing down activities (signal length =4096, embedded delay = 1)\"}},                        {\"responsive\": true}                    ).then(function(){\n",
       "                            \n",
       "var gd = document.getElementById('f18b8bde-07a9-4546-9d95-6f71e8e6de3f');\n",
       "var x = new MutationObserver(function (mutations, observer) {{\n",
       "        var display = window.getComputedStyle(gd).display;\n",
       "        if (!display || display === 'none') {{\n",
       "            console.log([gd, 'removed!']);\n",
       "            Plotly.purge(gd);\n",
       "            observer.disconnect();\n",
       "        }}\n",
       "}});\n",
       "\n",
       "// Listen for the removal of the full notebook cells\n",
       "var notebookContainer = gd.closest('#notebook-container');\n",
       "if (notebookContainer) {{\n",
       "    x.observe(notebookContainer, {childList: true});\n",
       "}}\n",
       "\n",
       "// Listen for the clearing of the current output cell\n",
       "var outputEl = gd.closest('.output');\n",
       "if (outputEl) {{\n",
       "    x.observe(outputEl, {childList: true});\n",
       "}}\n",
       "\n",
       "                        })                };                });            </script>        </div>"
      ]
     },
     "metadata": {},
     "output_type": "display_data"
    }
   ],
   "source": [
    "fig = make_subplots(rows=3, cols=4, )\n",
    "\n",
    "# Signal length = 4096 and delay = 1\n",
    "# Activities climbing up and climbing down\n",
    "plot4_df = df[(df['Signal_Length']==4096)&(df['Delay']==1)&(df['Activity'].isin(['climbing_up','climbing_down']))]\n",
    "\n",
    "\n",
    "fig1 = plot4_df[(plot4_df['Dimension']==3)&(plot4_df['Accelerometer_Axis']=='x')&(plot4_df['Activity']=='climbing_up')]\n",
    "fig1_1 = plot4_df[(plot4_df['Dimension']==3)&(plot4_df['Accelerometer_Axis']=='x')&(plot4_df['Activity']=='climbing_down')]\n",
    "fig.add_trace(go.Scatter(x=fig1['Permutation_Entropy'], y=fig1['Complexity'], mode=\"markers\", marker_color='blue', showlegend=False),row=1, col=1)\n",
    "fig.add_trace(go.Scatter(x=fig1_1['Permutation_Entropy'], y=fig1_1['Complexity'], mode=\"markers\", marker_color='red', showlegend=False),row=1, col=1)\n",
    "\n",
    "fig2 = plot4_df[(plot4_df['Dimension']==4)&(plot4_df['Accelerometer_Axis']=='x')&(plot4_df['Activity']=='climbing_up')]\n",
    "fig2_1 = plot4_df[(plot4_df['Dimension']==4)&(plot4_df['Accelerometer_Axis']=='x')&(plot4_df['Activity']=='climbing_down')]\n",
    "fig.add_trace(go.Scatter(x=fig2['Permutation_Entropy'], y=fig2['Complexity'], mode=\"markers\", marker_color='blue', showlegend=False),row=1, col=2)\n",
    "fig.add_trace(go.Scatter(x=fig2_1['Permutation_Entropy'], y=fig2_1['Complexity'], mode=\"markers\", marker_color='red', showlegend=False),row=1, col=2)\n",
    "\n",
    "fig3 = plot4_df[(plot4_df['Dimension']==5)&(plot4_df['Accelerometer_Axis']=='x')&(plot4_df['Activity']=='climbing_up')]\n",
    "fig3_1 = plot4_df[(plot4_df['Dimension']==5)&(plot4_df['Accelerometer_Axis']=='x')&(plot4_df['Activity']=='climbing_down')]\n",
    "fig.add_trace(go.Scatter(x=fig3['Permutation_Entropy'], y=fig3['Complexity'], mode=\"markers\", marker_color='blue', showlegend=False),row=1, col=3)\n",
    "fig.add_trace(go.Scatter(x=fig3_1['Permutation_Entropy'], y=fig3_1['Complexity'], mode=\"markers\", marker_color='red', showlegend=False),row=1, col=3)\n",
    "\n",
    "fig4 = plot4_df[(plot4_df['Dimension']==6)&(plot4_df['Accelerometer_Axis']=='x')&(plot4_df['Activity']=='climbing_up')]\n",
    "fig4_1 = plot4_df[(plot4_df['Dimension']==6)&(plot4_df['Accelerometer_Axis']=='x')&(plot4_df['Activity']=='climbing_down')]\n",
    "fig.add_trace(go.Scatter(x=fig4['Permutation_Entropy'], y=fig4['Complexity'], mode=\"markers\", marker_color='blue', showlegend=False),row=1, col=4)\n",
    "fig.add_trace(go.Scatter(x=fig4_1['Permutation_Entropy'], y=fig4_1['Complexity'], mode=\"markers\", marker_color='red', showlegend=False),row=1, col=4)\n",
    "\n",
    "\n",
    "fig5 = plot4_df[(plot4_df['Dimension']==3)&(plot4_df['Accelerometer_Axis']=='y')&(plot4_df['Activity']=='climbing_up')]\n",
    "fig5_1 = plot4_df[(plot4_df['Dimension']==3)&(plot4_df['Accelerometer_Axis']=='y')&(plot4_df['Activity']=='climbing_down')]\n",
    "fig.add_trace(go.Scatter(x=fig5['Permutation_Entropy'], y=fig5['Complexity'], mode=\"markers\", marker_color='blue', showlegend=False),row=2, col=1)\n",
    "fig.add_trace(go.Scatter(x=fig5_1['Permutation_Entropy'], y=fig5_1['Complexity'], mode=\"markers\", marker_color='red', showlegend=False),row=2, col=1)\n",
    "\n",
    "fig6 = plot4_df[(plot4_df['Dimension']==4)&(plot4_df['Accelerometer_Axis']=='y')&(plot4_df['Activity']=='climbing_up')]\n",
    "fig6_1 = plot4_df[(plot4_df['Dimension']==4)&(plot4_df['Accelerometer_Axis']=='y')&(plot4_df['Activity']=='climbing_down')]\n",
    "fig.add_trace(go.Scatter(x=fig6['Permutation_Entropy'], y=fig6['Complexity'], mode=\"markers\", marker_color='blue', showlegend=False),row=2, col=2)\n",
    "fig.add_trace(go.Scatter(x=fig6_1['Permutation_Entropy'], y=fig6_1['Complexity'], mode=\"markers\", marker_color='red', showlegend=False),row=2, col=2)\n",
    "\n",
    "fig7 = plot4_df[(plot4_df['Dimension']==5)&(plot4_df['Accelerometer_Axis']=='y')&(plot4_df['Activity']=='climbing_up')]\n",
    "fig7_1 = plot4_df[(plot4_df['Dimension']==5)&(plot4_df['Accelerometer_Axis']=='y')&(plot4_df['Activity']=='climbing_down')]\n",
    "fig.add_trace(go.Scatter(x=fig7['Permutation_Entropy'], y=fig7['Complexity'], mode=\"markers\", marker_color='blue', showlegend=False),row=2, col=3)\n",
    "fig.add_trace(go.Scatter(x=fig7_1['Permutation_Entropy'], y=fig7_1['Complexity'], mode=\"markers\", marker_color='red', showlegend=False),row=2, col=3)\n",
    "\n",
    "fig8 = plot4_df[(plot4_df['Dimension']==6)&(plot4_df['Accelerometer_Axis']=='y')&(plot4_df['Activity']=='climbing_up')]\n",
    "fig8_1 = plot4_df[(plot4_df['Dimension']==6)&(plot4_df['Accelerometer_Axis']=='y')&(plot4_df['Activity']=='climbing_down')]\n",
    "fig.add_trace(go.Scatter(x=fig8['Permutation_Entropy'], y=fig8['Complexity'], mode=\"markers\", marker_color='blue', showlegend=False),row=2, col=4)\n",
    "fig.add_trace(go.Scatter(x=fig8_1['Permutation_Entropy'], y=fig8_1['Complexity'], mode=\"markers\", marker_color='red', showlegend=False),row=2, col=4)\n",
    "\n",
    "\n",
    "\n",
    "fig9 = plot4_df[(plot4_df['Dimension']==3)&(plot4_df['Accelerometer_Axis']=='z')&(plot4_df['Activity']=='climbing_up')]\n",
    "fig9_1 = plot4_df[(plot4_df['Dimension']==3)&(plot4_df['Accelerometer_Axis']=='z')&(plot4_df['Activity']=='climbing_down')]\n",
    "fig.add_trace(go.Scatter(x=fig9['Permutation_Entropy'], y=fig9['Complexity'], mode=\"markers\", marker_color='blue', showlegend=False),row=3, col=1)\n",
    "fig.add_trace(go.Scatter(x=fig9_1['Permutation_Entropy'], y=fig9_1['Complexity'], mode=\"markers\", marker_color='red', showlegend=False),row=3, col=1)\n",
    "\n",
    "fig10 = plot4_df[(plot4_df['Dimension']==4)&(plot4_df['Accelerometer_Axis']=='z')&(plot4_df['Activity']=='climbing_up')]\n",
    "fig10_1 = plot4_df[(plot4_df['Dimension']==4)&(plot4_df['Accelerometer_Axis']=='z')&(plot4_df['Activity']=='climbing_down')]\n",
    "fig.add_trace(go.Scatter(x=fig10['Permutation_Entropy'], y=fig10['Complexity'], mode=\"markers\", marker_color='blue', showlegend=False),row=3, col=2)\n",
    "fig.add_trace(go.Scatter(x=fig10_1['Permutation_Entropy'], y=fig10_1['Complexity'], mode=\"markers\", marker_color='red', showlegend=False),row=3, col=2)\n",
    "\n",
    "fig11 = plot4_df[(plot4_df['Dimension']==5)&(plot4_df['Accelerometer_Axis']=='z')&(plot4_df['Activity']=='climbing_up')]\n",
    "fig11_1 = plot4_df[(plot4_df['Dimension']==5)&(plot4_df['Accelerometer_Axis']=='z')&(plot4_df['Activity']=='climbing_down')]\n",
    "fig.add_trace(go.Scatter(x=fig11['Permutation_Entropy'], y=fig11['Complexity'], mode=\"markers\", marker_color='blue', showlegend=False),row=3, col=3)\n",
    "fig.add_trace(go.Scatter(x=fig11_1['Permutation_Entropy'], y=fig11_1['Complexity'], mode=\"markers\", marker_color='red', showlegend=False),row=3, col=3)\n",
    "\n",
    "fig12 = plot4_df[(plot4_df['Dimension']==6)&(plot4_df['Accelerometer_Axis']=='z')&(plot4_df['Activity']=='climbing_up')]\n",
    "fig12_1 = plot4_df[(plot4_df['Dimension']==6)&(plot4_df['Accelerometer_Axis']=='z')&(plot4_df['Activity']=='climbing_down')]\n",
    "fig.add_trace(go.Scatter(x=fig12['Permutation_Entropy'], y=fig12['Complexity'], mode=\"markers\", marker_color='blue', name='Climbing Up'),row=3, col=4)\n",
    "fig.add_trace(go.Scatter(x=fig12_1['Permutation_Entropy'], y=fig12_1['Complexity'], mode=\"markers\", marker_color='red', name='Climbing Down'),row=3, col=4)\n",
    "\n",
    "\n",
    "# Update xaxis properties\n",
    "fig.update_xaxes(title_text=\"Dimension 3\", row=3, col=1)\n",
    "fig.update_xaxes(title_text=\"Dimension 4\", row=3, col=2)\n",
    "fig.update_xaxes(title_text=\"Dimension 5\", row=3, col=3)\n",
    "fig.update_xaxes(title_text=\"Dimension 6\", row=3, col=4)\n",
    "\n",
    "# # Update yaxis properties\n",
    "fig.update_yaxes(title_text=\"X Axis\", row=1, col=1)\n",
    "fig.update_yaxes(title_text=\"Y Axis\", row=2, col=1)\n",
    "fig.update_yaxes(title_text=\"Z Axis\", row=3, col=1)\n",
    "\n",
    "fig.update_layout(title_text = \"Permutation entropy (x axis) vs Complexity (y axis) for - Climbing up and Climbing down activities (signal length =4096, embedded delay = 1)\")\n",
    "\n",
    "\n",
    "fig.show()"
   ]
  },
  {
   "cell_type": "markdown",
   "metadata": {},
   "source": [
    "> In above figure, across all graphs, **x axis represents Permutation Entropy, and y axis represents Complexity** ."
   ]
  }
 ],
 "metadata": {
  "kernelspec": {
   "display_name": "Python 3 (ipykernel)",
   "language": "python",
   "name": "python3"
  },
  "language_info": {
   "codemirror_mode": {
    "name": "ipython",
    "version": 3
   },
   "file_extension": ".py",
   "mimetype": "text/x-python",
   "name": "python",
   "nbconvert_exporter": "python",
   "pygments_lexer": "ipython3",
   "version": "3.9.7"
  }
 },
 "nbformat": 4,
 "nbformat_minor": 4
}
