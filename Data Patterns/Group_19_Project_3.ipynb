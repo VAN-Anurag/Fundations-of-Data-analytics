{
  "nbformat": 4,
  "nbformat_minor": 0,
  "metadata": {
    "colab": {
      "name": "Group-19-Project-3",
      "provenance": [],
      "collapsed_sections": []
    },
    "kernelspec": {
      "name": "python3",
      "display_name": "Python 3"
    },
    "language_info": {
      "name": "python"
    }
  },
  "cells": [
    {
      "cell_type": "code",
      "metadata": {
        "id": "s-Wgg6kEwZJK"
      },
      "source": [
        "import numpy as np\n",
        "\n",
        "\n",
        "def s_entropy(freq_list):\n",
        "    ''' This function computes the shannon entropy of a given frequency distribution.\n",
        "    USAGE: shannon_entropy(freq_list)\n",
        "    ARGS: freq_list = Numeric vector representing the frequency distribution\n",
        "    OUTPUT: A numeric value representing shannon's entropy'''\n",
        "    freq_list = [element for element in freq_list if element != 0]\n",
        "    sh_entropy = 0.0\n",
        "    for freq in freq_list:\n",
        "        sh_entropy += freq * np.log(freq)\n",
        "    sh_entropy = -sh_entropy\n",
        "    return(sh_entropy)\n",
        "\n",
        "def ordinal_patterns(ts, embdim, embdelay):\n",
        "    ''' This function computes the ordinal patterns of a time series for a given embedding dimension and embedding delay.\n",
        "    USAGE: ordinal_patterns(ts, embdim, embdelay)\n",
        "    ARGS: ts = Numeric vector representing the time series, embdim = embedding dimension (3<=embdim<=7 prefered range), embdelay =  embdding delay\n",
        "    OUPTUT: A numeric vector representing frequencies of ordinal patterns'''\n",
        "    m, t = embdim, embdelay\n",
        "    x = ts if isinstance(ts, np.ndarray) else np.array(ts) \n",
        "\n",
        "    tmp = np.zeros((x.shape[0], m))\n",
        "    for i in range(m):\n",
        "        tmp[:, i] = np.roll(x, i*t)\n",
        "    partition = tmp[(t*m-1):, :] \n",
        "    permutation = np.argsort(partition)\n",
        "    idx = _hash(permutation)\n",
        "\n",
        "    counts = np.zeros(np.math.factorial(m))\n",
        "    for i in range(counts.shape[0]):\n",
        "        counts[i] = (idx == i).sum()\n",
        "    return list(counts[counts != 0].astype(int))\n",
        "\n",
        "def _hash(x):\n",
        "    m, n = x.shape\n",
        "    if n == 1:\n",
        "        return np.zeros(m)\n",
        "    return np.sum(np.apply_along_axis(lambda y: y < x[:, 0], 0, x), axis=1) * np.math.factorial(n-1) + _hash(x[:, 1:]) \n",
        "    \n",
        "\n",
        "def p_entropy(op):\n",
        "    ordinal_pat = op\n",
        "    max_entropy = np.log(len(ordinal_pat))\n",
        "    p = np.divide(np.array(ordinal_pat), float(sum(ordinal_pat)))\n",
        "    return(s_entropy(p)/max_entropy)\n",
        "\n",
        "def complexity(op):\n",
        "    ''' This function computes the complexity of a time series defined as: Comp_JS = Q_o * JSdivergence * pe\n",
        "    Q_o = Normalizing constant\n",
        "    JSdivergence = Jensen-Shannon divergence\n",
        "    pe = permutation entopry\n",
        "    ARGS: ordinal pattern'''\n",
        "    pe = p_entropy(op)\n",
        "    constant1 = (0.5+((1 - 0.5)/len(op)))* np.log(0.5+((1 - 0.5)/len(op)))\n",
        "    constant2 = ((1 - 0.5)/len(op))*np.log((1 - 0.5)/len(op))*(len(op) - 1)\n",
        "    constant3 = 0.5*np.log(len(op))\n",
        "    Q_o = -1/(constant1+constant2+constant3)\n",
        "\n",
        "    temp_op_prob = np.divide(op, sum(op))\n",
        "    temp_op_prob2 = (0.5*temp_op_prob)+(0.5*(1/len(op)))\n",
        "    JSdivergence = (s_entropy(temp_op_prob2) - 0.5 * s_entropy(temp_op_prob) - 0.5 * np.log(len(op)))\n",
        "    Comp_JS = Q_o * JSdivergence * pe\n",
        "    return(Comp_JS)"
      ],
      "execution_count": 26,
      "outputs": []
    },
    {
      "cell_type": "code",
      "metadata": {
        "id": "lqPr5FJXwmFW",
        "colab": {
          "resources": {
            "http://localhost:8080/nbextensions/google.colab/files.js": {
              "data": "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",
              "ok": true,
              "headers": [
                [
                  "content-type",
                  "application/javascript"
                ]
              ],
              "status": 200,
              "status_text": ""
            }
          },
          "base_uri": "https://localhost:8080/",
          "height": 1000
        },
        "outputId": "f18a9a82-9320-46fa-d607-1f5b20168bee"
      },
      "source": [
        "from google.colab import files\n",
        "uploaded = files.upload()"
      ],
      "execution_count": 7,
      "outputs": [
        {
          "output_type": "display_data",
          "data": {
            "text/html": [
              "\n",
              "     <input type=\"file\" id=\"files-9971ddeb-c6d8-4af8-9371-fa80d1bbfeaa\" name=\"files[]\" multiple disabled\n",
              "        style=\"border:none\" />\n",
              "     <output id=\"result-9971ddeb-c6d8-4af8-9371-fa80d1bbfeaa\">\n",
              "      Upload widget is only available when the cell has been executed in the\n",
              "      current browser session. Please rerun this cell to enable.\n",
              "      </output>\n",
              "      <script src=\"/nbextensions/google.colab/files.js\"></script> "
            ],
            "text/plain": [
              "<IPython.core.display.HTML object>"
            ]
          },
          "metadata": {}
        },
        {
          "output_type": "stream",
          "name": "stdout",
          "text": [
            "Saving climbingdown_subject1.csv to climbingdown_subject1.csv\n",
            "Saving climbingdown_subject2.csv to climbingdown_subject2.csv\n",
            "Saving climbingdown_subject3.csv to climbingdown_subject3.csv\n",
            "Saving climbingdown_subject4.csv to climbingdown_subject4.csv\n",
            "Saving climbingdown_subject5.csv to climbingdown_subject5.csv\n",
            "Saving climbingdown_subject6.csv to climbingdown_subject6.csv\n",
            "Saving climbingdown_subject7.csv to climbingdown_subject7.csv\n",
            "Saving climbingdown_subject8.csv to climbingdown_subject8.csv\n",
            "Saving climbingdown_subject9.csv to climbingdown_subject9.csv\n",
            "Saving climbingdown_subject10.csv to climbingdown_subject10.csv\n",
            "Saving climbingdown_subject11.csv to climbingdown_subject11.csv\n",
            "Saving climbingdown_subject12.csv to climbingdown_subject12.csv\n",
            "Saving climbingdown_subject13.csv to climbingdown_subject13.csv\n",
            "Saving climbingdown_subject14.csv to climbingdown_subject14.csv\n",
            "Saving climbingdown_subject15.csv to climbingdown_subject15.csv\n",
            "Saving climbingup_subject1.csv to climbingup_subject1.csv\n",
            "Saving climbingup_subject2.csv to climbingup_subject2.csv\n",
            "Saving climbingup_subject3.csv to climbingup_subject3.csv\n",
            "Saving climbingup_subject4.csv to climbingup_subject4.csv\n",
            "Saving climbingup_subject5.csv to climbingup_subject5.csv\n",
            "Saving climbingup_subject6.csv to climbingup_subject6.csv\n",
            "Saving climbingup_subject7.csv to climbingup_subject7.csv\n",
            "Saving climbingup_subject8.csv to climbingup_subject8.csv\n",
            "Saving climbingup_subject9.csv to climbingup_subject9.csv\n",
            "Saving climbingup_subject10.csv to climbingup_subject10.csv\n",
            "Saving climbingup_subject11.csv to climbingup_subject11.csv\n",
            "Saving climbingup_subject12.csv to climbingup_subject12.csv\n",
            "Saving climbingup_subject13.csv to climbingup_subject13.csv\n",
            "Saving climbingup_subject14.csv to climbingup_subject14.csv\n",
            "Saving climbingup_subject15.csv to climbingup_subject15.csv\n",
            "Saving Group_19_Project_3.ipynb to Group_19_Project_3.ipynb\n",
            "Saving running_subject1.csv to running_subject1.csv\n",
            "Saving running_subject2.csv to running_subject2.csv\n",
            "Saving running_subject3.csv to running_subject3.csv\n",
            "Saving running_subject4.csv to running_subject4.csv\n",
            "Saving running_subject5.csv to running_subject5.csv\n",
            "Saving running_subject6.csv to running_subject6.csv\n",
            "Saving running_subject7.csv to running_subject7.csv\n",
            "Saving running_subject8.csv to running_subject8.csv\n",
            "Saving running_subject9.csv to running_subject9.csv\n",
            "Saving running_subject10.csv to running_subject10.csv\n",
            "Saving running_subject11.csv to running_subject11.csv\n",
            "Saving running_subject12.csv to running_subject12.csv\n",
            "Saving running_subject13.csv to running_subject13.csv\n",
            "Saving running_subject14.csv to running_subject14.csv\n",
            "Saving running_subject15.csv to running_subject15.csv\n",
            "Saving walking_subject1.csv to walking_subject1.csv\n",
            "Saving walking_subject2.csv to walking_subject2.csv\n",
            "Saving walking_subject3.csv to walking_subject3.csv\n",
            "Saving walking_subject4.csv to walking_subject4.csv\n",
            "Saving walking_subject5.csv to walking_subject5.csv\n",
            "Saving walking_subject6.csv to walking_subject6.csv\n",
            "Saving walking_subject7.csv to walking_subject7.csv\n",
            "Saving walking_subject8.csv to walking_subject8.csv\n",
            "Saving walking_subject9.csv to walking_subject9.csv\n",
            "Saving walking_subject10.csv to walking_subject10.csv\n",
            "Saving walking_subject11.csv to walking_subject11.csv\n",
            "Saving walking_subject12.csv to walking_subject12.csv\n",
            "Saving walking_subject13.csv to walking_subject13.csv\n",
            "Saving walking_subject14.csv to walking_subject14.csv\n",
            "Saving walking_subject15.csv to walking_subject15.csv\n"
          ]
        }
      ]
    },
    {
      "cell_type": "markdown",
      "source": [
        "## Loading libraries"
      ],
      "metadata": {
        "id": "7yFG2eknGpVB"
      }
    },
    {
      "cell_type": "code",
      "source": [
        "import seaborn as sns\n",
        "import pandas as pd"
      ],
      "metadata": {
        "id": "zEgvk8_JGr8b"
      },
      "execution_count": 8,
      "outputs": []
    },
    {
      "cell_type": "markdown",
      "source": [
        "## Reading and accessing data\n"
      ],
      "metadata": {
        "id": "bo82hyA1FegF"
      }
    },
    {
      "cell_type": "code",
      "source": [
        "# Global variable for accessing, reading and loading data\n",
        "# Types of csv files\n",
        "TYPES_OF_DATA = [\"walking\",\"running\",\"climbingup\",\"climbingdown\"]"
      ],
      "metadata": {
        "id": "CPa16CI-E6Mp"
      },
      "execution_count": 24,
      "outputs": []
    },
    {
      "cell_type": "markdown",
      "source": [
        "> Below snippet of code\n",
        " reads the data dynamically using a loop.\n",
        "\n"
      ],
      "metadata": {
        "id": "ZIMrpG7rGyYB"
      }
    },
    {
      "cell_type": "code",
      "metadata": {
        "id": "eAgOGihHwts2"
      },
      "source": [
        "\n",
        "\n",
        "# Reading all files and storing in memory dynamically\n",
        "for d_type in TYPES_OF_DATA:\n",
        "  for i in range(1,16):\n",
        "    globals()[f\"df_{d_type}_subject{i}\"] = pd.read_csv(f\"{d_type}_subject{i}.csv\")"
      ],
      "execution_count": 9,
      "outputs": []
    },
    {
      "cell_type": "markdown",
      "source": [
        "##  Sample snippet of data with plots\n",
        "\n",
        "> Please note data has been read dynamically , and is stored in data frame with the following naming convention `df_walking_subject1` , `df_standing_subject3` etc.\n",
        "\n"
      ],
      "metadata": {
        "id": "VEXvJOQGFnBb"
      }
    },
    {
      "cell_type": "code",
      "metadata": {
        "id": "kCMeEaddwyw9",
        "colab": {
          "base_uri": "https://localhost:8080/",
          "height": 215
        },
        "outputId": "d1803950-476e-4a64-ab43-dce071331142"
      },
      "source": [
        "df_climbingdown_subject1.head()"
      ],
      "execution_count": 11,
      "outputs": [
        {
          "output_type": "execute_result",
          "data": {
            "text/html": [
              "\n",
              "  <div id=\"df-67848eed-f793-43f4-b1b9-883e8f58b043\">\n",
              "    <div class=\"colab-df-container\">\n",
              "      <div>\n",
              "<style scoped>\n",
              "    .dataframe tbody tr th:only-of-type {\n",
              "        vertical-align: middle;\n",
              "    }\n",
              "\n",
              "    .dataframe tbody tr th {\n",
              "        vertical-align: top;\n",
              "    }\n",
              "\n",
              "    .dataframe thead th {\n",
              "        text-align: right;\n",
              "    }\n",
              "</style>\n",
              "<table border=\"1\" class=\"dataframe\">\n",
              "  <thead>\n",
              "    <tr style=\"text-align: right;\">\n",
              "      <th></th>\n",
              "      <th>id</th>\n",
              "      <th>attr_time</th>\n",
              "      <th>attr_x</th>\n",
              "      <th>attr_y</th>\n",
              "      <th>attr_z</th>\n",
              "    </tr>\n",
              "  </thead>\n",
              "  <tbody>\n",
              "    <tr>\n",
              "      <th>0</th>\n",
              "      <td>1</td>\n",
              "      <td>1435996968010</td>\n",
              "      <td>5.616797</td>\n",
              "      <td>8.064270</td>\n",
              "      <td>0.878073</td>\n",
              "    </tr>\n",
              "    <tr>\n",
              "      <th>1</th>\n",
              "      <td>2</td>\n",
              "      <td>1435996968032</td>\n",
              "      <td>5.589264</td>\n",
              "      <td>8.054693</td>\n",
              "      <td>0.869095</td>\n",
              "    </tr>\n",
              "    <tr>\n",
              "      <th>2</th>\n",
              "      <td>3</td>\n",
              "      <td>1435996968052</td>\n",
              "      <td>5.580884</td>\n",
              "      <td>8.060080</td>\n",
              "      <td>0.908001</td>\n",
              "    </tr>\n",
              "    <tr>\n",
              "      <th>3</th>\n",
              "      <td>4</td>\n",
              "      <td>1435996968073</td>\n",
              "      <td>5.588067</td>\n",
              "      <td>8.033744</td>\n",
              "      <td>0.884658</td>\n",
              "    </tr>\n",
              "    <tr>\n",
              "      <th>4</th>\n",
              "      <td>5</td>\n",
              "      <td>1435996968093</td>\n",
              "      <td>5.583877</td>\n",
              "      <td>8.060678</td>\n",
              "      <td>0.875679</td>\n",
              "    </tr>\n",
              "  </tbody>\n",
              "</table>\n",
              "</div>\n",
              "      <button class=\"colab-df-convert\" onclick=\"convertToInteractive('df-67848eed-f793-43f4-b1b9-883e8f58b043')\"\n",
              "              title=\"Convert this dataframe to an interactive table.\"\n",
              "              style=\"display:none;\">\n",
              "        \n",
              "  <svg xmlns=\"http://www.w3.org/2000/svg\" height=\"24px\"viewBox=\"0 0 24 24\"\n",
              "       width=\"24px\">\n",
              "    <path d=\"M0 0h24v24H0V0z\" fill=\"none\"/>\n",
              "    <path d=\"M18.56 5.44l.94 2.06.94-2.06 2.06-.94-2.06-.94-.94-2.06-.94 2.06-2.06.94zm-11 1L8.5 8.5l.94-2.06 2.06-.94-2.06-.94L8.5 2.5l-.94 2.06-2.06.94zm10 10l.94 2.06.94-2.06 2.06-.94-2.06-.94-.94-2.06-.94 2.06-2.06.94z\"/><path d=\"M17.41 7.96l-1.37-1.37c-.4-.4-.92-.59-1.43-.59-.52 0-1.04.2-1.43.59L10.3 9.45l-7.72 7.72c-.78.78-.78 2.05 0 2.83L4 21.41c.39.39.9.59 1.41.59.51 0 1.02-.2 1.41-.59l7.78-7.78 2.81-2.81c.8-.78.8-2.07 0-2.86zM5.41 20L4 18.59l7.72-7.72 1.47 1.35L5.41 20z\"/>\n",
              "  </svg>\n",
              "      </button>\n",
              "      \n",
              "  <style>\n",
              "    .colab-df-container {\n",
              "      display:flex;\n",
              "      flex-wrap:wrap;\n",
              "      gap: 12px;\n",
              "    }\n",
              "\n",
              "    .colab-df-convert {\n",
              "      background-color: #E8F0FE;\n",
              "      border: none;\n",
              "      border-radius: 50%;\n",
              "      cursor: pointer;\n",
              "      display: none;\n",
              "      fill: #1967D2;\n",
              "      height: 32px;\n",
              "      padding: 0 0 0 0;\n",
              "      width: 32px;\n",
              "    }\n",
              "\n",
              "    .colab-df-convert:hover {\n",
              "      background-color: #E2EBFA;\n",
              "      box-shadow: 0px 1px 2px rgba(60, 64, 67, 0.3), 0px 1px 3px 1px rgba(60, 64, 67, 0.15);\n",
              "      fill: #174EA6;\n",
              "    }\n",
              "\n",
              "    [theme=dark] .colab-df-convert {\n",
              "      background-color: #3B4455;\n",
              "      fill: #D2E3FC;\n",
              "    }\n",
              "\n",
              "    [theme=dark] .colab-df-convert:hover {\n",
              "      background-color: #434B5C;\n",
              "      box-shadow: 0px 1px 3px 1px rgba(0, 0, 0, 0.15);\n",
              "      filter: drop-shadow(0px 1px 2px rgba(0, 0, 0, 0.3));\n",
              "      fill: #FFFFFF;\n",
              "    }\n",
              "  </style>\n",
              "\n",
              "      <script>\n",
              "        const buttonEl =\n",
              "          document.querySelector('#df-67848eed-f793-43f4-b1b9-883e8f58b043 button.colab-df-convert');\n",
              "        buttonEl.style.display =\n",
              "          google.colab.kernel.accessAllowed ? 'block' : 'none';\n",
              "\n",
              "        async function convertToInteractive(key) {\n",
              "          const element = document.querySelector('#df-67848eed-f793-43f4-b1b9-883e8f58b043');\n",
              "          const dataTable =\n",
              "            await google.colab.kernel.invokeFunction('convertToInteractive',\n",
              "                                                     [key], {});\n",
              "          if (!dataTable) return;\n",
              "\n",
              "          const docLinkHtml = 'Like what you see? Visit the ' +\n",
              "            '<a target=\"_blank\" href=https://colab.research.google.com/notebooks/data_table.ipynb>data table notebook</a>'\n",
              "            + ' to learn more about interactive tables.';\n",
              "          element.innerHTML = '';\n",
              "          dataTable['output_type'] = 'display_data';\n",
              "          await google.colab.output.renderOutput(dataTable, element);\n",
              "          const docLink = document.createElement('div');\n",
              "          docLink.innerHTML = docLinkHtml;\n",
              "          element.appendChild(docLink);\n",
              "        }\n",
              "      </script>\n",
              "    </div>\n",
              "  </div>\n",
              "  "
            ],
            "text/plain": [
              "   id      attr_time    attr_x    attr_y    attr_z\n",
              "0   1  1435996968010  5.616797  8.064270  0.878073\n",
              "1   2  1435996968032  5.589264  8.054693  0.869095\n",
              "2   3  1435996968052  5.580884  8.060080  0.908001\n",
              "3   4  1435996968073  5.588067  8.033744  0.884658\n",
              "4   5  1435996968093  5.583877  8.060678  0.875679"
            ]
          },
          "metadata": {},
          "execution_count": 11
        }
      ]
    },
    {
      "cell_type": "code",
      "source": [
        "df_running_subject13.head()"
      ],
      "metadata": {
        "colab": {
          "base_uri": "https://localhost:8080/",
          "height": 215
        },
        "id": "q9lM9l2iH79X",
        "outputId": "b43f4fd5-f06f-4a1b-bb4f-5ec2d85091ae"
      },
      "execution_count": 13,
      "outputs": [
        {
          "output_type": "execute_result",
          "data": {
            "text/html": [
              "\n",
              "  <div id=\"df-51d8b927-8445-4cbc-9583-c6b602eeae6a\">\n",
              "    <div class=\"colab-df-container\">\n",
              "      <div>\n",
              "<style scoped>\n",
              "    .dataframe tbody tr th:only-of-type {\n",
              "        vertical-align: middle;\n",
              "    }\n",
              "\n",
              "    .dataframe tbody tr th {\n",
              "        vertical-align: top;\n",
              "    }\n",
              "\n",
              "    .dataframe thead th {\n",
              "        text-align: right;\n",
              "    }\n",
              "</style>\n",
              "<table border=\"1\" class=\"dataframe\">\n",
              "  <thead>\n",
              "    <tr style=\"text-align: right;\">\n",
              "      <th></th>\n",
              "      <th>id</th>\n",
              "      <th>attr_time</th>\n",
              "      <th>attr_x</th>\n",
              "      <th>attr_y</th>\n",
              "      <th>attr_z</th>\n",
              "    </tr>\n",
              "  </thead>\n",
              "  <tbody>\n",
              "    <tr>\n",
              "      <th>0</th>\n",
              "      <td>1</td>\n",
              "      <td>1436982010002</td>\n",
              "      <td>0.269348</td>\n",
              "      <td>9.476251</td>\n",
              "      <td>-2.221221</td>\n",
              "    </tr>\n",
              "    <tr>\n",
              "      <th>1</th>\n",
              "      <td>2</td>\n",
              "      <td>1436982010022</td>\n",
              "      <td>0.227449</td>\n",
              "      <td>9.453505</td>\n",
              "      <td>-2.287660</td>\n",
              "    </tr>\n",
              "    <tr>\n",
              "      <th>2</th>\n",
              "      <td>3</td>\n",
              "      <td>1436982010042</td>\n",
              "      <td>0.235829</td>\n",
              "      <td>9.454702</td>\n",
              "      <td>-2.228403</td>\n",
              "    </tr>\n",
              "    <tr>\n",
              "      <th>3</th>\n",
              "      <td>4</td>\n",
              "      <td>1436982010063</td>\n",
              "      <td>0.251990</td>\n",
              "      <td>9.449914</td>\n",
              "      <td>-2.202666</td>\n",
              "    </tr>\n",
              "    <tr>\n",
              "      <th>4</th>\n",
              "      <td>5</td>\n",
              "      <td>1436982010111</td>\n",
              "      <td>0.263961</td>\n",
              "      <td>9.441534</td>\n",
              "      <td>-2.237980</td>\n",
              "    </tr>\n",
              "  </tbody>\n",
              "</table>\n",
              "</div>\n",
              "      <button class=\"colab-df-convert\" onclick=\"convertToInteractive('df-51d8b927-8445-4cbc-9583-c6b602eeae6a')\"\n",
              "              title=\"Convert this dataframe to an interactive table.\"\n",
              "              style=\"display:none;\">\n",
              "        \n",
              "  <svg xmlns=\"http://www.w3.org/2000/svg\" height=\"24px\"viewBox=\"0 0 24 24\"\n",
              "       width=\"24px\">\n",
              "    <path d=\"M0 0h24v24H0V0z\" fill=\"none\"/>\n",
              "    <path d=\"M18.56 5.44l.94 2.06.94-2.06 2.06-.94-2.06-.94-.94-2.06-.94 2.06-2.06.94zm-11 1L8.5 8.5l.94-2.06 2.06-.94-2.06-.94L8.5 2.5l-.94 2.06-2.06.94zm10 10l.94 2.06.94-2.06 2.06-.94-2.06-.94-.94-2.06-.94 2.06-2.06.94z\"/><path d=\"M17.41 7.96l-1.37-1.37c-.4-.4-.92-.59-1.43-.59-.52 0-1.04.2-1.43.59L10.3 9.45l-7.72 7.72c-.78.78-.78 2.05 0 2.83L4 21.41c.39.39.9.59 1.41.59.51 0 1.02-.2 1.41-.59l7.78-7.78 2.81-2.81c.8-.78.8-2.07 0-2.86zM5.41 20L4 18.59l7.72-7.72 1.47 1.35L5.41 20z\"/>\n",
              "  </svg>\n",
              "      </button>\n",
              "      \n",
              "  <style>\n",
              "    .colab-df-container {\n",
              "      display:flex;\n",
              "      flex-wrap:wrap;\n",
              "      gap: 12px;\n",
              "    }\n",
              "\n",
              "    .colab-df-convert {\n",
              "      background-color: #E8F0FE;\n",
              "      border: none;\n",
              "      border-radius: 50%;\n",
              "      cursor: pointer;\n",
              "      display: none;\n",
              "      fill: #1967D2;\n",
              "      height: 32px;\n",
              "      padding: 0 0 0 0;\n",
              "      width: 32px;\n",
              "    }\n",
              "\n",
              "    .colab-df-convert:hover {\n",
              "      background-color: #E2EBFA;\n",
              "      box-shadow: 0px 1px 2px rgba(60, 64, 67, 0.3), 0px 1px 3px 1px rgba(60, 64, 67, 0.15);\n",
              "      fill: #174EA6;\n",
              "    }\n",
              "\n",
              "    [theme=dark] .colab-df-convert {\n",
              "      background-color: #3B4455;\n",
              "      fill: #D2E3FC;\n",
              "    }\n",
              "\n",
              "    [theme=dark] .colab-df-convert:hover {\n",
              "      background-color: #434B5C;\n",
              "      box-shadow: 0px 1px 3px 1px rgba(0, 0, 0, 0.15);\n",
              "      filter: drop-shadow(0px 1px 2px rgba(0, 0, 0, 0.3));\n",
              "      fill: #FFFFFF;\n",
              "    }\n",
              "  </style>\n",
              "\n",
              "      <script>\n",
              "        const buttonEl =\n",
              "          document.querySelector('#df-51d8b927-8445-4cbc-9583-c6b602eeae6a button.colab-df-convert');\n",
              "        buttonEl.style.display =\n",
              "          google.colab.kernel.accessAllowed ? 'block' : 'none';\n",
              "\n",
              "        async function convertToInteractive(key) {\n",
              "          const element = document.querySelector('#df-51d8b927-8445-4cbc-9583-c6b602eeae6a');\n",
              "          const dataTable =\n",
              "            await google.colab.kernel.invokeFunction('convertToInteractive',\n",
              "                                                     [key], {});\n",
              "          if (!dataTable) return;\n",
              "\n",
              "          const docLinkHtml = 'Like what you see? Visit the ' +\n",
              "            '<a target=\"_blank\" href=https://colab.research.google.com/notebooks/data_table.ipynb>data table notebook</a>'\n",
              "            + ' to learn more about interactive tables.';\n",
              "          element.innerHTML = '';\n",
              "          dataTable['output_type'] = 'display_data';\n",
              "          await google.colab.output.renderOutput(dataTable, element);\n",
              "          const docLink = document.createElement('div');\n",
              "          docLink.innerHTML = docLinkHtml;\n",
              "          element.appendChild(docLink);\n",
              "        }\n",
              "      </script>\n",
              "    </div>\n",
              "  </div>\n",
              "  "
            ],
            "text/plain": [
              "   id      attr_time    attr_x    attr_y    attr_z\n",
              "0   1  1436982010002  0.269348  9.476251 -2.221221\n",
              "1   2  1436982010022  0.227449  9.453505 -2.287660\n",
              "2   3  1436982010042  0.235829  9.454702 -2.228403\n",
              "3   4  1436982010063  0.251990  9.449914 -2.202666\n",
              "4   5  1436982010111  0.263961  9.441534 -2.237980"
            ]
          },
          "metadata": {},
          "execution_count": 13
        }
      ]
    },
    {
      "cell_type": "markdown",
      "source": [
        "> This is what the time series looks as a plot **for a few sample points**"
      ],
      "metadata": {
        "id": "b8KmnzQWGb4L"
      }
    },
    {
      "cell_type": "code",
      "metadata": {
        "id": "3JlCZPLowzTd",
        "colab": {
          "base_uri": "https://localhost:8080/",
          "height": 282
        },
        "outputId": "3aed5035-3777-4bd5-fb2e-1259d49bf61a"
      },
      "source": [
        "\n",
        "sns.lineplot(x=range(1, len(df_walking_subject1['attr_x'][2000:2200])+1), y=df_walking_subject1['attr_x'][1000:1200])"
      ],
      "execution_count": 15,
      "outputs": [
        {
          "output_type": "execute_result",
          "data": {
            "text/plain": [
              "<matplotlib.axes._subplots.AxesSubplot at 0x7f5e26f94ad0>"
            ]
          },
          "metadata": {},
          "execution_count": 15
        },
        {
          "output_type": "display_data",
          "data": {
            "image/png": "[encoded data removed]",
            "text/plain": [
              "<Figure size 432x288 with 1 Axes>"
            ]
          },
          "metadata": {
            "needs_background": "light"
          }
        }
      ]
    },
    {
      "cell_type": "code",
      "metadata": {
        "id": "5v4TMI2tw9iN",
        "colab": {
          "base_uri": "https://localhost:8080/",
          "height": 282
        },
        "outputId": "aa613dc7-d722-4291-b409-e967da20ad46"
      },
      "source": [
        "sns.lineplot(x=range(1, len(df_walking_subject3['attr_x'][2000:2200])+1), y=df_walking_subject3['attr_x'][1000:1200])"
      ],
      "execution_count": 17,
      "outputs": [
        {
          "output_type": "execute_result",
          "data": {
            "text/plain": [
              "<matplotlib.axes._subplots.AxesSubplot at 0x7f5e25c4fe90>"
            ]
          },
          "metadata": {},
          "execution_count": 17
        },
        {
          "output_type": "display_data",
          "data": {
            "image/png": "[encoded data removed]",
            "text/plain": [
              "<Figure size 432x288 with 1 Axes>"
            ]
          },
          "metadata": {
            "needs_background": "light"
          }
        }
      ]
    },
    {
      "cell_type": "code",
      "source": [
        "sns.lineplot(x=range(1, len(df_climbingdown_subject10['attr_y'][2000:2200])+1), y=df_climbingdown_subject10['attr_y'][1000:1200])"
      ],
      "metadata": {
        "colab": {
          "base_uri": "https://localhost:8080/",
          "height": 282
        },
        "id": "oFlFxzSkHaRr",
        "outputId": "1a3a3014-b1c5-49f8-ec9f-f4ebe5fa7934"
      },
      "execution_count": 19,
      "outputs": [
        {
          "output_type": "execute_result",
          "data": {
            "text/plain": [
              "<matplotlib.axes._subplots.AxesSubplot at 0x7f5e25745450>"
            ]
          },
          "metadata": {},
          "execution_count": 19
        },
        {
          "output_type": "display_data",
          "data": {
            "image/png": "[encoded data removed]",
            "text/plain": [
              "<Figure size 432x288 with 1 Axes>"
            ]
          },
          "metadata": {
            "needs_background": "light"
          }
        }
      ]
    },
    {
      "cell_type": "markdown",
      "source": [
        "## Calculating entropy and complexity, while varying embedding dimensions, delay and signal length\n"
      ],
      "metadata": {
        "id": "465cbNLHI5WU"
      }
    },
    {
      "cell_type": "code",
      "source": [
        "# Different value of delay\n",
        "DELAYS = [1,2,3]\n",
        "\n",
        "# Different values of embedding dimensions\n",
        "EMBEDDED_DIMENSIONS = [3,4,5,6]\n"
      ],
      "metadata": {
        "id": "f_epq6RgNkWR"
      },
      "execution_count": 32,
      "outputs": []
    },
    {
      "cell_type": "markdown",
      "source": [
        " \n",
        " \n",
        " Below is a slightly complicated cell which **calculates permutation entropy and complexity, for each of the 15 subjects**  (loaded dynamically earlier).\n",
        "\n",
        " \n",
        "\n",
        "\n",
        "> **It varies delays, embedded dimensions, signal length and attribute x,y,z for the various datasets of the 15 subjects, storing the calculated data in the form of a dictionary.**"
      ],
      "metadata": {
        "id": "UZZNWnHnWQEz"
      }
    },
    {
      "cell_type": "code",
      "metadata": {
        "id": "gGaPF4cn9hVf"
      },
      "source": [
        "\n",
        "# Types of calculations to perform on the data\n",
        "TYPES_OF_CALCULATIONS = [\"p_entropy\",\"complexity\"]\n",
        "\n",
        "# Different value of delay\n",
        "DELAYS = [1,2,3]\n",
        "\n",
        "# Different values of embedding dimensions\n",
        "EMBEDDED_DIMENSIONS = [3,4,5,6]\n",
        "\n",
        "# Different signal length values\n",
        "SIGNAL_LENGTHS = [1024, 2048, 4096]\n",
        "\n",
        "# Generating empty dictionaries to store all the data\n",
        "for i in range(1,16):\n",
        "  for calc_type in TYPES_OF_CALCULATIONS:\n",
        "    for d_type in TYPES_OF_DATA:\n",
        "       \n",
        "       # Dataframe name that will be used to access and calculate data\n",
        "       df_name = f\"df_{d_type}_subject{i}\"\n",
        "\n",
        "       # Variable which contains the dataframe values\n",
        "       current_df = globals()[df_name]\n",
        "\n",
        "       # Dictionary name that will store data for subject i, \n",
        "       # datatype (\"walking\",\"running\",\"climbingup\",\"climbingdown\"),\n",
        "       # calculation type (\"entropy\",\"complexity\")\n",
        "       dict_name = f\"subject{i}_{d_type}_{calc_type}\"\n",
        "\n",
        "       # Assign an empty dictionary\n",
        "       globals()[dict_name] = {}\n",
        "       \n",
        "       # Vary attribute, delay, dimension and signal length\n",
        "       # Take each attribute of the data\n",
        "       for att_type in [\"attr_x\",\"attr_y\",\"attr_z\"]:\n",
        "         for delay in DELAYS:\n",
        "           for dim in EMBEDDED_DIMENSIONS:\n",
        "             for signal_length in SIGNAL_LENGTHS:\n",
        "               \n",
        "               # Calculating ordinal pattern\n",
        "               op_val = ordinal_patterns(current_df[att_type][1:1+signal_length],dim,delay)\n",
        "\n",
        "               \n",
        "               # Assign the dictionary created above \n",
        "               # with a tuple of attribute type (x,y,z)\n",
        "               # Delay, dimension and signal length with calculation of \n",
        "               # entropy or complexity\n",
        "\n",
        "               globals()[dict_name][(att_type,delay,dim,signal_length)] = globals()[calc_type](op_val)\n",
        "\n",
        "\n",
        "\n",
        "\n",
        "\n"
      ],
      "execution_count": 27,
      "outputs": []
    },
    {
      "cell_type": "markdown",
      "source": [
        "## Showing sample values calculated\n",
        "\n",
        "> Below dictionary shows all the values for **subject 1**, **climbing down** calculated by ***varying***: **attributes x,y,z** of the data , **delay** , **embedded dimension** and **signal length** (1-1024,1-2048,1-4096) etc"
      ],
      "metadata": {
        "id": "mlMWI8OeT2_N"
      }
    },
    {
      "cell_type": "code",
      "source": [
        "subject1_climbingdown_complexity"
      ],
      "metadata": {
        "colab": {
          "base_uri": "https://localhost:8080/"
        },
        "id": "6uadM1IqKXlh",
        "outputId": "91b61fa7-d37e-49d9-8f81-5bee8e040651"
      },
      "execution_count": 28,
      "outputs": [
        {
          "output_type": "execute_result",
          "data": {
            "text/plain": [
              "{('attr_x', 1, 3, 1024): 0.11378874032390125,\n",
              " ('attr_x', 1, 3, 2048): 0.1468651713429678,\n",
              " ('attr_x', 1, 3, 4096): 0.15800942787267713,\n",
              " ('attr_x', 1, 4, 1024): 0.18816261252349098,\n",
              " ('attr_x', 1, 4, 2048): 0.22517433824977515,\n",
              " ('attr_x', 1, 4, 4096): 0.24106790111838725,\n",
              " ('attr_x', 1, 5, 1024): 0.23193358458949456,\n",
              " ('attr_x', 1, 5, 2048): 0.27768124105608655,\n",
              " ('attr_x', 1, 5, 4096): 0.3004881278202784,\n",
              " ('attr_x', 1, 6, 1024): 0.19760910163044682,\n",
              " ('attr_x', 1, 6, 2048): 0.2654903954104116,\n",
              " ('attr_x', 1, 6, 4096): 0.3047184457645952,\n",
              " ('attr_x', 2, 3, 1024): 0.03602064996364937,\n",
              " ('attr_x', 2, 3, 2048): 0.0604136437635628,\n",
              " ('attr_x', 2, 3, 4096): 0.06486099722343558,\n",
              " ('attr_x', 2, 4, 1024): 0.07374918068567432,\n",
              " ('attr_x', 2, 4, 2048): 0.11401429221715592,\n",
              " ('attr_x', 2, 4, 4096): 0.12869570270603017,\n",
              " ('attr_x', 2, 5, 1024): 0.1303871842135447,\n",
              " ('attr_x', 2, 5, 2048): 0.17570978239711907,\n",
              " ('attr_x', 2, 5, 4096): 0.19790520568320832,\n",
              " ('attr_x', 2, 6, 1024): 0.10939178442156561,\n",
              " ('attr_x', 2, 6, 2048): 0.18128132719121864,\n",
              " ('attr_x', 2, 6, 4096): 0.21911426457620733,\n",
              " ('attr_x', 3, 3, 1024): 0.014123398749011314,\n",
              " ('attr_x', 3, 3, 2048): 0.02625571960589504,\n",
              " ('attr_x', 3, 3, 4096): 0.025195132455104637,\n",
              " ('attr_x', 3, 4, 1024): 0.030520199198727047,\n",
              " ('attr_x', 3, 4, 2048): 0.05681046502879708,\n",
              " ('attr_x', 3, 4, 4096): 0.05613113202135359,\n",
              " ('attr_x', 3, 5, 1024): 0.06531936066691175,\n",
              " ('attr_x', 3, 5, 2048): 0.09684770753091095,\n",
              " ('attr_x', 3, 5, 4096): 0.09211598026122919,\n",
              " ('attr_x', 3, 6, 1024): 0.07002152434454255,\n",
              " ('attr_x', 3, 6, 2048): 0.11352003306961864,\n",
              " ('attr_x', 3, 6, 4096): 0.13127979634446738,\n",
              " ('attr_y', 1, 3, 1024): 0.10926344047496354,\n",
              " ('attr_y', 1, 3, 2048): 0.13611292139655728,\n",
              " ('attr_y', 1, 3, 4096): 0.141928354465619,\n",
              " ('attr_y', 1, 4, 1024): 0.17539177583534474,\n",
              " ('attr_y', 1, 4, 2048): 0.21060066078818082,\n",
              " ('attr_y', 1, 4, 4096): 0.21920016039395013,\n",
              " ('attr_y', 1, 5, 1024): 0.22506284058905524,\n",
              " ('attr_y', 1, 5, 2048): 0.266946851554308,\n",
              " ('attr_y', 1, 5, 4096): 0.2784338479347964,\n",
              " ('attr_y', 1, 6, 1024): 0.19948184680185854,\n",
              " ('attr_y', 1, 6, 2048): 0.259988511069553,\n",
              " ('attr_y', 1, 6, 4096): 0.2901566125659006,\n",
              " ('attr_y', 2, 3, 1024): 0.03645386328643526,\n",
              " ('attr_y', 2, 3, 2048): 0.05078714928412534,\n",
              " ('attr_y', 2, 3, 4096): 0.05842507865731604,\n",
              " ('attr_y', 2, 4, 1024): 0.07903420099565854,\n",
              " ('attr_y', 2, 4, 2048): 0.10458738479620217,\n",
              " ('attr_y', 2, 4, 4096): 0.11575570861273857,\n",
              " ('attr_y', 2, 5, 1024): 0.11369527273628018,\n",
              " ('attr_y', 2, 5, 2048): 0.15016954653917117,\n",
              " ('attr_y', 2, 5, 4096): 0.17049943789089406,\n",
              " ('attr_y', 2, 6, 1024): 0.10199357470605272,\n",
              " ('attr_y', 2, 6, 2048): 0.15229968648591521,\n",
              " ('attr_y', 2, 6, 4096): 0.1878851245482468,\n",
              " ('attr_y', 3, 3, 1024): 0.013441023627472504,\n",
              " ('attr_y', 3, 3, 2048): 0.02028880290580673,\n",
              " ('attr_y', 3, 3, 4096): 0.021328398809584793,\n",
              " ('attr_y', 3, 4, 1024): 0.02776750795425044,\n",
              " ('attr_y', 3, 4, 2048): 0.04147113102715108,\n",
              " ('attr_y', 3, 4, 4096): 0.04432564946174108,\n",
              " ('attr_y', 3, 5, 1024): 0.06694676472445969,\n",
              " ('attr_y', 3, 5, 2048): 0.0747622743215608,\n",
              " ('attr_y', 3, 5, 4096): 0.07681937625068397,\n",
              " ('attr_y', 3, 6, 1024): 0.06817588313792586,\n",
              " ('attr_y', 3, 6, 2048): 0.10508366708541196,\n",
              " ('attr_y', 3, 6, 4096): 0.11895702620839477,\n",
              " ('attr_z', 1, 3, 1024): 0.11261542087341715,\n",
              " ('attr_z', 1, 3, 2048): 0.11394434423964239,\n",
              " ('attr_z', 1, 3, 4096): 0.10696746256278596,\n",
              " ('attr_z', 1, 4, 1024): 0.21319693731147546,\n",
              " ('attr_z', 1, 4, 2048): 0.2124021869103426,\n",
              " ('attr_z', 1, 4, 4096): 0.20219074239295817,\n",
              " ('attr_z', 1, 5, 1024): 0.24787302785764914,\n",
              " ('attr_z', 1, 5, 2048): 0.26204575306916444,\n",
              " ('attr_z', 1, 5, 4096): 0.2603055552329246,\n",
              " ('attr_z', 1, 6, 1024): 0.18584410191518086,\n",
              " ('attr_z', 1, 6, 2048): 0.23409877323783396,\n",
              " ('attr_z', 1, 6, 4096): 0.25694009307572296,\n",
              " ('attr_z', 2, 3, 1024): 0.013592952204222858,\n",
              " ('attr_z', 2, 3, 2048): 0.01920592712700526,\n",
              " ('attr_z', 2, 3, 4096): 0.015185264831943806,\n",
              " ('attr_z', 2, 4, 1024): 0.028856443980417708,\n",
              " ('attr_z', 2, 4, 2048): 0.037729739531208756,\n",
              " ('attr_z', 2, 4, 4096): 0.032900549065842055,\n",
              " ('attr_z', 2, 5, 1024): 0.07413028532732491,\n",
              " ('attr_z', 2, 5, 2048): 0.06810510368501464,\n",
              " ('attr_z', 2, 5, 4096): 0.0555356941793003,\n",
              " ('attr_z', 2, 6, 1024): 0.07149589691104151,\n",
              " ('attr_z', 2, 6, 2048): 0.08657693038652783,\n",
              " ('attr_z', 2, 6, 4096): 0.0902326051518104,\n",
              " ('attr_z', 3, 3, 1024): 0.0007471797887379213,\n",
              " ('attr_z', 3, 3, 2048): 0.0016794000278470386,\n",
              " ('attr_z', 3, 3, 4096): 0.0013335577145005269,\n",
              " ('attr_z', 3, 4, 1024): 0.008565005455085813,\n",
              " ('attr_z', 3, 4, 2048): 0.0046142490617521,\n",
              " ('attr_z', 3, 4, 4096): 0.0035340285164530564,\n",
              " ('attr_z', 3, 5, 1024): 0.03642345837857407,\n",
              " ('attr_z', 3, 5, 2048): 0.01725155073730289,\n",
              " ('attr_z', 3, 5, 4096): 0.01259993029154079,\n",
              " ('attr_z', 3, 6, 1024): 0.05951609219165333,\n",
              " ('attr_z', 3, 6, 2048): 0.05695898375157476,\n",
              " ('attr_z', 3, 6, 4096): 0.048249551424412895}"
            ]
          },
          "metadata": {},
          "execution_count": 28
        }
      ]
    },
    {
      "cell_type": "markdown",
      "source": [
        "> For eg, For **subject 5** , **running data** , **\"attribute y\"**, **delay-1**, **dimension-3** and **signal length of 2048** : \n",
        "\n",
        "* **Complexity data** can be accessed as `subject5_running_complexity[(\"attr_y\",1,3,2048)]`"
      ],
      "metadata": {
        "id": "yAkZ9XSmUpmA"
      }
    },
    {
      "cell_type": "code",
      "source": [
        "subject5_running_complexity[(\"attr_y\",1,3,2048)]"
      ],
      "metadata": {
        "colab": {
          "base_uri": "https://localhost:8080/"
        },
        "id": "9_sKgFPBVeua",
        "outputId": "28570a35-c5a7-40c8-e484-072c37b876cf"
      },
      "execution_count": 29,
      "outputs": [
        {
          "output_type": "execute_result",
          "data": {
            "text/plain": [
              "0.16713643784707383"
            ]
          },
          "metadata": {},
          "execution_count": 29
        }
      ]
    },
    {
      "cell_type": "markdown",
      "source": [
        "* **Permutation entropy** can be accessed as : `subject5_running_p_entropy[(\"attr_y\",1,3,2048)]`\n"
      ],
      "metadata": {
        "id": "0iWBWD-HVglf"
      }
    },
    {
      "cell_type": "code",
      "source": [
        "subject5_running_p_entropy[(\"attr_y\",1,3,2048)]"
      ],
      "metadata": {
        "colab": {
          "base_uri": "https://localhost:8080/"
        },
        "id": "kugISl1VVtju",
        "outputId": "be0c1d00-52dc-486d-b17c-0ea019a39f82"
      },
      "execution_count": 31,
      "outputs": [
        {
          "output_type": "execute_result",
          "data": {
            "text/plain": [
              "0.7619125341505947"
            ]
          },
          "metadata": {},
          "execution_count": 31
        }
      ]
    },
    {
      "cell_type": "code",
      "source": [
        "i = 0\n",
        "D = 3\n",
        "T = 1\n",
        "while i < 31000:\n",
        "  op_walking = ordinal_patterns(walking['attr_x'][i:i+1000],D,T)\n",
        "  op_standing = ordinal_patterns(standing['attr_x'][i:i+1000],D,T)\n",
        "  walking_entropy[str(i) +\"-\"+ str(i+1000)] = p_entropy(op_walking)\n",
        "  walking_complexity[str(i) +\"-\"+ str(i+1000)] = complexity(op_walking)\n",
        "  standing_entropy[str(i) +\"-\"+ str(i+1000)] = p_entropy(op_standing)\n",
        "  standing_complexity[str(i) +\"-\"+ str(i+1000)] = complexity(op_standing)\n",
        "\n",
        "  i += 1000\n",
        "\n",
        "# These values can be used for machine learning algorithms\n",
        "sns.scatterplot(x=walking_entropy.keys() ,y=walking_entropy.values(),legend=\"auto\")\n",
        "sns.scatterplot(x=walking_complexity.keys() ,y=walking_complexity.values(),legend=\"auto\")\n",
        "\n",
        "sns.scatterplot(x=standing_entropy.keys() ,y=standing_entropy.values(), legend=\"auto\")\n",
        "sns.scatterplot(x=standing_complexity.keys() ,y=standing_complexity.values(), legend=\"auto\")\n",
        "\n",
        "\n",
        "walking_entropy.values()\n",
        "# walking_complexity\n",
        "\n",
        "\n",
        "# standing_entropy\n",
        "# standing_complexity\n",
        "\n"
      ],
      "metadata": {
        "id": "WqY2Bk-kKTtq"
      },
      "execution_count": null,
      "outputs": []
    },
    {
      "cell_type": "code",
      "metadata": {
        "id": "nErO3QOEw_zd",
        "colab": {
          "base_uri": "https://localhost:8080/"
        },
        "outputId": "410208dc-2638-4d2a-9519-71491458d47f"
      },
      "source": [
        "op_walking = ordinal_patterns(walking['attr_x'][1000:1200],3,1)\n",
        "op_standing = ordinal_patterns(standing['attr_x'][1000:1200],3,1)\n",
        "print(op_walking)\n",
        "print(op_standing)\n",
        "print(\"Permutation Entropy Walking=\", p_entropy(op_walking))\n",
        "print(\"Complexity Walking=\", complexity(op_walking))\n",
        "print(\"Permutation Entropy Standing=\", p_entropy(op_standing))\n",
        "print(\"Complexity Standing=\", complexity(op_standing))\n",
        "\n",
        "# By plotting different values of entropies and complexity for different users\n",
        "# We can get properly classified records in 2d plane"
      ],
      "execution_count": null,
      "outputs": [
        {
          "output_type": "stream",
          "name": "stdout",
          "text": [
            "[84, 17, 15, 15, 12, 55]\n",
            "[52, 24, 20, 31, 27, 44]\n",
            "Permutation Entropy Walking= 0.8322611145502673\n",
            "Complexity Walking= 0.1337895020445875\n",
            "Permutation Entropy Standing= 0.968177388382445\n",
            "Complexity Standing= 0.030087523406666223\n"
          ]
        }
      ]
    }
  ]
}